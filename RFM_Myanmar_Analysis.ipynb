{
 "cells": [
  {
   "cell_type": "markdown",
   "metadata": {
    "id": "o4ygob-CHmX4"
   },
   "source": [
    "# Supermarket Retail Analysis: LRFM or RFM ?\n",
    "by Clarinda Puspitajati, Hans Darmawan, and Ridha Shahnabiel Hayat\n",
    "\n",
    "## Background\n",
    "\n",
    "RFM is an acronym that stands for recency, frequency, and monetary value. It is a customer-centric marketing analysis technique that assists businesses in evaluating their customers. In the context of supermarket analysis, RFM segments customers based on three criteria: recency, which indicates when a purchase was made; frequency, which measures the number of purchases a customer has made; and monetary value, which represents the amount of money a customer spends.\n",
    "\n",
    "LRFM is an improved version of the RFM model, which adds another parameter known as Length. In supermarket analysis, length is used to refer to the time the customer relationship has lasted, which denotes how long the customer has patronized the store. Adding this fourth segmentation makes LRFM more informative than RFM about a customer’s spending habits. It enables supermarkets to analyze the spending habits of their customers by not only capturing the frequency and value of the expenditures but also the duration of their engagement.\n",
    "\n",
    "Although both RFM and LRFM are important tools for customer analysis, they serve different purposes. RFM emphasizes purchase behavior. So, it can find high-value customers based on their buying patterns. LRFM, on the other hand, introduces the concept of customer tenure. This feature can be important for supermarkets that want to know how long the customers have been with them. Considering the behavioral aspect of the transaction together with the length of engagement helps the supermarkets to design marketing plans that are aimed at not just generating immediate sales, as is usually the case, but ensuring customer satisfaction and fostering loyalty in the long run.\n",
    "\n",
    "Supermarkets rely heavily on customer frequency and repeat business for sustained success. Understanding customers' spending behavior enables effective marketing campaigns and optimal resource allocation. Some customer segmentation approaches may not be as sophisticated and detailed as to identify the so-called \"diamond customers.\" RFM analysis offers an effective way to identify and target these critical customers using their spending data. This method will drastically cut marketing expenditures while improving customer relationship management."
   ]
  },
  {
   "cell_type": "markdown",
   "metadata": {
    "id": "poqgqbKMHmX-"
   },
   "source": [
    "## Gap Analysis\n",
    "\n",
    "Currently, supermarkets lack a sophisticated method to identify and categorize customers with the highest potential value using in-depth transaction data, which may be an oversight. Business strategies operate with a uniform approach, ignoring the power of individual interactions. The lack of insight into loyal customer behavior creates additional oversights in sales and customer loyalty strategies. A systematic approach using RFM analysis and strategic guidance can fill this gap."
   ]
  },
  {
   "cell_type": "markdown",
   "metadata": {
    "id": "3q6PtF9OHmX_"
   },
   "source": [
    "## Problem Statement\n",
    "\n",
    "The supermarket has to find a way to locate customers who, based on their purchases, can increase brand loyalty and sales. The current marketing attempts may be inefficient, as they target every single customer instead of concentrating on the most valued ones. Unfortunately, failing to adequately target high-paying customers may result in lost revenue. The issue is insufficiently targeted marketing segmentation using detailed purchase behavior analysis."
   ]
  },
  {
   "cell_type": "markdown",
   "metadata": {
    "id": "vdmzZDuiHmYA"
   },
   "source": [
    "## Insight Questions\n",
    "\n",
    "1. *How do the purchasing patterns of high-LRFM score customers compare to other customers?*\n",
    "\n",
    "2. *How can the supermarket optimize its marketing strategy to enhance customer loyalty among high-value customers?*"
   ]
  },
  {
   "cell_type": "markdown",
   "metadata": {
    "id": "KN856B2oHmYB"
   },
   "source": [
    "## Overview of the Dataset\n",
    "\n",
    "The Dataset provides records of transactions made in a supermarket retail chain. It captures information regarding the purchase behavior of customers. The data here is segmented into 1,000 parts where each purchase invoice is different and has its own set of features pertaining to the transaction. The dataset serves as a valuable resource for analyzing sales trends, customer demographics, and product performance. Strategic decisions aimed at customer delight can be taken using this information."
   ]
  },
  {
   "cell_type": "markdown",
   "metadata": {
    "id": "ZTmPeL5AN0F9"
   },
   "source": [
    "## Column Explanations\n",
    "\n",
    "- **invoice_id**: The column captures the invoice ID, which is unique for every entry in the invoice list. The column has a blend of numbers and alphabets to make sure every purchase is recorded accurately. Each transaction can be identified individually, which is important in data management systems. The structural features of the ID make sure transactions are properly referenced, and their detailed reports can be easily made.\n",
    "\n",
    "- **branch**: The branch field records the specific region of the supermarket, which is relevant for business intelligence use. With the advance of modern technologies, the captured data becomes more important for advanced analytics with the help of bi tools. With modern shopping habits, this information helps improve market share when compared between different branches. The business is able to track how the specific store manages to appear in the middle of competitors and what can be done to improve its position. They help understand the market in a better way for a well-refined competitive edge.\n",
    "\n",
    "- **city**: The city where a branch is located is included in this column to help understand the data geographically. Studying sales at the city level can provide important information about the local business environment and customer population, which can assist in developing marketing plans for particular cities.\n",
    "\n",
    "- **customer_type**: This customer type column describes customers as “Member” and “Normal.” This classification helps to analyze customer loyalty as well as the effectiveness of membership programs. It makes it possible to create promotions that are specifically directed to certain customer segments.\n",
    "\n",
    "- **gender**: The customer's gender and buying information make it possible to study the customer's demographic characteristics. Analyzing shopping behavior with regard to differences in genders adds value to businesses in marketing and product distribution. It helps in developing strategies that cater to all genders.\n",
    "\n",
    "- **product_line**: This column contains the following details, including a product line or a category under which a product is purchased, such as ‘Health and beauty products’ or ‘Food Stuff'. This facilitates a better understanding of sales in relation to different product categories, which is critical in making business decisions.\n",
    "\n",
    "- **Unit price**: In this column, we concentrate on the value that the seller places on a single unit of a product. This is relevant for estimating total sales revenue and for analyzing pricing policies. Price analysis can reveal significant aspects of pricing strategies and customer price sensitivity.\n",
    "\n",
    "- **quantity**: This column keeps track of the total number of units bought in a single transaction. This information is particularly useful in calculating total sales, revenue, and a client's spending habits. It assists in stock planning and controlling inventory levels proficiently.\n",
    "\n",
    "- **tax_5**: This is the tax column for the transaction with 5 rate percent taxation. It is used in financial reporting for compliance accuracy and audits. Knowing the tax value also helps greatly in developing pricing policies and profit strategies.  \n",
    "\n",
    "- **total**: This column provides the total amount a customer has to pay as the sum of individual prices, the number of items bought, and the tax applicable. This value is very useful for revenue estimation and reporting the firm's earnings. It summarizes in detail the financial aspects of the turnover.\n",
    "\n",
    "- **date**: This data field gives the date range within which the sale activity takes place. Studying sales data over time helps identify periodic sales or seasonal variations and cycles with active traffic. It assists in organizing marketing campaigns, product supply, and stock control.\n",
    "\n",
    "- **purchase_hour**: A purchase_hour column contains the corresponding hour from the whole day when an individual transaction is completed. This helps in analyzing the frequency regarding particular time intervals for shopper visits. This may improve customer services by determining their most utilized period.\n",
    "\n",
    "- **Payment**: In this column, the type of payment used by the customer is noted. For example, they are categorized to be either Cash or credit cards. Knowledge about customer preferences helps improve the experience to be more friendly with customers. This aids in analyzing the dynamics of different payment methods over a given period.\n",
    "\n",
    "- **cogs**: The cost of goods sold (COGS) column shows the direct expenditures made in producing the goods sold. This information is needed to evaluate gross profit because the amount received from every unit sold must be known. The cost of goods sold needs to be evaluated for pricing and cost strategies.\n",
    "\n",
    "- **gross_marginpct**: This conveys gross margin as a percentage of total sales, the difference between total sales and COGS divided by total sales. It will tell how profitable a three hundred supermarkets are. The gross margin percentage is useful for guiding pricing and assortment mix sold ratio.\n",
    "\n",
    "- **gross_income**: This section explains gross income. It refers to the entire sum obtained from a business transaction prior to any operating costs being subtracted. This figure is crucial when assessing the business and its profit; its value is dependent upon measuring income and expenditures on operations and determining levels of profit. Cost and revenue strategies can be planned according to gross income analysis.\n",
    "\n",
    " - **rating**: This is the column with the corresponding marks of satisfaction for each transaction rating by the customers. Grading services may help assess and evaluate particular services and/or products provided to customers. It assists in evaluating and measuring the targets of profit and increase in customer satisfaction and customer loyalty."
   ]
  },
  {
   "cell_type": "markdown",
   "metadata": {
    "id": "3nHRoJMrN0GG"
   },
   "source": [
    "## Data Preparation"
   ]
  },
  {
   "cell_type": "code",
   "execution_count": 1,
   "metadata": {
    "id": "pFNjOemRN0GH"
   },
   "outputs": [],
   "source": [
    "# data manipulation\n",
    "import numpy as np  # useful for many scientific computing in Python\n",
    "import pandas as pd # primary data structure library\n",
    "\n",
    "# visualization\n",
    "import matplotlib.pyplot as plt\n",
    "import seaborn as sns\n",
    "\n",
    "# date-time\n",
    "import datetime\n",
    "\n",
    "# ignore warnings\n",
    "import warnings\n",
    "warnings.filterwarnings('ignore')\n",
    "\n",
    "# make 2 decimals after commas\n",
    "pd.set_option(\"display.float_format\", lambda x: \"%.2f\" % x)\n",
    "\n",
    "# To Load .csv File\n",
    "# from google.colab import drive"
   ]
  },
  {
   "cell_type": "markdown",
   "metadata": {
    "id": "_HU55Eu9HmYE"
   },
   "source": [
    "Many libraries, along with their configurations, are necessary during the analysis phase in the preparation stage. As an example, for scientific computing and data manipulation, Pandas and NumPy will be imported. Matplotlib and Seaborn will also be incorporated for visualization. The datetime module is also loaded alongside date-time operations. Thus, a clean output is maintained as unnecessary warnings are suppressed. In addition to the changes above, floating point numbers are rounded to two decimal places as a readability measure. All of the activities above help with data analysis."
   ]
  },
  {
   "cell_type": "code",
   "execution_count": 2,
   "metadata": {
    "colab": {
     "base_uri": "https://localhost:8080/",
     "height": 348
    },
    "executionInfo": {
     "elapsed": 1706,
     "status": "ok",
     "timestamp": 1743825571301,
     "user": {
      "displayName": "Hans Darmawan",
      "userId": "08967357686016774806"
     },
     "user_tz": -420
    },
    "id": "02Czq2vNWzqn",
    "outputId": "89465c94-1d0f-43a4-d8c0-e8b0ca1238b0"
   },
   "outputs": [
    {
     "data": {
      "text/html": [
       "<div>\n",
       "<style scoped>\n",
       "    .dataframe tbody tr th:only-of-type {\n",
       "        vertical-align: middle;\n",
       "    }\n",
       "\n",
       "    .dataframe tbody tr th {\n",
       "        vertical-align: top;\n",
       "    }\n",
       "\n",
       "    .dataframe thead th {\n",
       "        text-align: right;\n",
       "    }\n",
       "</style>\n",
       "<table border=\"1\" class=\"dataframe\">\n",
       "  <thead>\n",
       "    <tr style=\"text-align: right;\">\n",
       "      <th></th>\n",
       "      <th>Unnamed: 0</th>\n",
       "      <th>invoice_id</th>\n",
       "      <th>branch</th>\n",
       "      <th>city</th>\n",
       "      <th>customer_type</th>\n",
       "      <th>gender</th>\n",
       "      <th>product_line</th>\n",
       "      <th>unit_price</th>\n",
       "      <th>quantity</th>\n",
       "      <th>tax_5</th>\n",
       "      <th>total</th>\n",
       "      <th>date</th>\n",
       "      <th>purchase_hour</th>\n",
       "      <th>payment</th>\n",
       "      <th>cogs</th>\n",
       "      <th>gross_marginpct</th>\n",
       "      <th>gross_income</th>\n",
       "      <th>rating</th>\n",
       "    </tr>\n",
       "  </thead>\n",
       "  <tbody>\n",
       "    <tr>\n",
       "      <th>0</th>\n",
       "      <td>1</td>\n",
       "      <td>750-67-8428</td>\n",
       "      <td>A</td>\n",
       "      <td>Yangon</td>\n",
       "      <td>Member</td>\n",
       "      <td>Female</td>\n",
       "      <td>Health and beauty</td>\n",
       "      <td>74.69</td>\n",
       "      <td>7</td>\n",
       "      <td>26.14</td>\n",
       "      <td>548.97</td>\n",
       "      <td>2019-01-05</td>\n",
       "      <td>13</td>\n",
       "      <td>Ewallet</td>\n",
       "      <td>522.83</td>\n",
       "      <td>4.76</td>\n",
       "      <td>26.14</td>\n",
       "      <td>9.10</td>\n",
       "    </tr>\n",
       "    <tr>\n",
       "      <th>1</th>\n",
       "      <td>2</td>\n",
       "      <td>226-31-3081</td>\n",
       "      <td>C</td>\n",
       "      <td>Naypyitaw</td>\n",
       "      <td>Normal</td>\n",
       "      <td>Female</td>\n",
       "      <td>Electronic accessories</td>\n",
       "      <td>15.28</td>\n",
       "      <td>5</td>\n",
       "      <td>3.82</td>\n",
       "      <td>80.22</td>\n",
       "      <td>2019-03-08</td>\n",
       "      <td>10</td>\n",
       "      <td>Cash</td>\n",
       "      <td>76.40</td>\n",
       "      <td>4.76</td>\n",
       "      <td>3.82</td>\n",
       "      <td>9.60</td>\n",
       "    </tr>\n",
       "    <tr>\n",
       "      <th>2</th>\n",
       "      <td>3</td>\n",
       "      <td>631-41-3108</td>\n",
       "      <td>A</td>\n",
       "      <td>Yangon</td>\n",
       "      <td>Normal</td>\n",
       "      <td>Male</td>\n",
       "      <td>Home and lifestyle</td>\n",
       "      <td>46.33</td>\n",
       "      <td>7</td>\n",
       "      <td>16.22</td>\n",
       "      <td>340.53</td>\n",
       "      <td>2019-03-03</td>\n",
       "      <td>13</td>\n",
       "      <td>Credit card</td>\n",
       "      <td>324.31</td>\n",
       "      <td>4.76</td>\n",
       "      <td>16.22</td>\n",
       "      <td>7.40</td>\n",
       "    </tr>\n",
       "    <tr>\n",
       "      <th>3</th>\n",
       "      <td>4</td>\n",
       "      <td>123-19-1176</td>\n",
       "      <td>A</td>\n",
       "      <td>Yangon</td>\n",
       "      <td>Member</td>\n",
       "      <td>Male</td>\n",
       "      <td>Health and beauty</td>\n",
       "      <td>58.22</td>\n",
       "      <td>8</td>\n",
       "      <td>23.29</td>\n",
       "      <td>489.05</td>\n",
       "      <td>2019-01-27</td>\n",
       "      <td>20</td>\n",
       "      <td>Ewallet</td>\n",
       "      <td>465.76</td>\n",
       "      <td>4.76</td>\n",
       "      <td>23.29</td>\n",
       "      <td>8.40</td>\n",
       "    </tr>\n",
       "    <tr>\n",
       "      <th>4</th>\n",
       "      <td>5</td>\n",
       "      <td>373-73-7910</td>\n",
       "      <td>A</td>\n",
       "      <td>Yangon</td>\n",
       "      <td>Normal</td>\n",
       "      <td>Male</td>\n",
       "      <td>Sports and travel</td>\n",
       "      <td>86.31</td>\n",
       "      <td>7</td>\n",
       "      <td>30.21</td>\n",
       "      <td>634.38</td>\n",
       "      <td>2019-02-08</td>\n",
       "      <td>10</td>\n",
       "      <td>Ewallet</td>\n",
       "      <td>604.17</td>\n",
       "      <td>4.76</td>\n",
       "      <td>30.21</td>\n",
       "      <td>5.30</td>\n",
       "    </tr>\n",
       "  </tbody>\n",
       "</table>\n",
       "</div>"
      ],
      "text/plain": [
       "   Unnamed: 0   invoice_id branch       city customer_type  gender  \\\n",
       "0           1  750-67-8428      A     Yangon        Member  Female   \n",
       "1           2  226-31-3081      C  Naypyitaw        Normal  Female   \n",
       "2           3  631-41-3108      A     Yangon        Normal    Male   \n",
       "3           4  123-19-1176      A     Yangon        Member    Male   \n",
       "4           5  373-73-7910      A     Yangon        Normal    Male   \n",
       "\n",
       "             product_line  unit_price  quantity  tax_5  total        date  \\\n",
       "0       Health and beauty       74.69         7  26.14 548.97  2019-01-05   \n",
       "1  Electronic accessories       15.28         5   3.82  80.22  2019-03-08   \n",
       "2      Home and lifestyle       46.33         7  16.22 340.53  2019-03-03   \n",
       "3       Health and beauty       58.22         8  23.29 489.05  2019-01-27   \n",
       "4       Sports and travel       86.31         7  30.21 634.38  2019-02-08   \n",
       "\n",
       "   purchase_hour      payment   cogs  gross_marginpct  gross_income  rating  \n",
       "0             13      Ewallet 522.83             4.76         26.14    9.10  \n",
       "1             10         Cash  76.40             4.76          3.82    9.60  \n",
       "2             13  Credit card 324.31             4.76         16.22    7.40  \n",
       "3             20      Ewallet 465.76             4.76         23.29    8.40  \n",
       "4             10      Ewallet 604.17             4.76         30.21    5.30  "
      ]
     },
     "execution_count": 2,
     "metadata": {},
     "output_type": "execute_result"
    }
   ],
   "source": [
    "# Mount Google Drive\n",
    "# drive.mount('/content/drive')\n",
    "\n",
    "# Define the file path\n",
    "# file_path = '/content/drive/My Drive/Supermarket.csv'\n",
    "\n",
    "# Read the CSV file into a DataFrame\n",
    "# real_df = pd.read_csv(file_path)\n",
    "real_df = pd.read_csv('Supermarket.csv')\n",
    "\n",
    "# Copy df\n",
    "df = real_df.copy()\n",
    "\n",
    "# Display the first few rows of the DataFrame\n",
    "df.head()\n"
   ]
  },
  {
   "cell_type": "markdown",
   "metadata": {
    "id": "jTX_to4dHmYG"
   },
   "source": [
    "In this step, Google Drive is mounted so that the dataset, which is saved in the cloud, can be accessed. Next, hyperfiles are set so that they can be opened with the supermarket.csv file. The CSV file is then opened and processed using pandas. From the opened data, a new data frame is made to hold the altered data while the raw data can still be accessed. Then, the data frame's first rows are printed to show the data set's basic outline. These steps ensure the loading, backup, and review of the data before commencing analysis."
   ]
  },
  {
   "cell_type": "code",
   "execution_count": 3,
   "metadata": {
    "colab": {
     "base_uri": "https://localhost:8080/"
    },
    "executionInfo": {
     "elapsed": 10,
     "status": "ok",
     "timestamp": 1743825571312,
     "user": {
      "displayName": "Hans Darmawan",
      "userId": "08967357686016774806"
     },
     "user_tz": -420
    },
    "id": "1gQwwJCFPNhM",
    "outputId": "90650b21-5117-46aa-d038-42845600098b"
   },
   "outputs": [
    {
     "name": "stdout",
     "output_type": "stream",
     "text": [
      "<class 'pandas.core.frame.DataFrame'>\n",
      "RangeIndex: 1000 entries, 0 to 999\n",
      "Data columns (total 18 columns):\n",
      " #   Column           Non-Null Count  Dtype  \n",
      "---  ------           --------------  -----  \n",
      " 0   Unnamed: 0       1000 non-null   int64  \n",
      " 1   invoice_id       1000 non-null   object \n",
      " 2   branch           1000 non-null   object \n",
      " 3   city             1000 non-null   object \n",
      " 4   customer_type    1000 non-null   object \n",
      " 5   gender           1000 non-null   object \n",
      " 6   product_line     1000 non-null   object \n",
      " 7   unit_price       1000 non-null   float64\n",
      " 8   quantity         1000 non-null   int64  \n",
      " 9   tax_5            1000 non-null   float64\n",
      " 10  total            1000 non-null   float64\n",
      " 11  date             1000 non-null   object \n",
      " 12  purchase_hour    1000 non-null   int64  \n",
      " 13  payment          1000 non-null   object \n",
      " 14  cogs             1000 non-null   float64\n",
      " 15  gross_marginpct  1000 non-null   float64\n",
      " 16  gross_income     1000 non-null   float64\n",
      " 17  rating           1000 non-null   float64\n",
      "dtypes: float64(7), int64(3), object(8)\n",
      "memory usage: 140.8+ KB\n"
     ]
    }
   ],
   "source": [
    "df.info()"
   ]
  },
  {
   "cell_type": "markdown",
   "metadata": {
    "id": "4msQc-IAHmYH"
   },
   "source": [
    "There are 1,000 entries, each with 18 rows of complete data (no missing values). The entry includes 7 numerical entries, which are captured under floats (float64), 3 whole number entries (int64), and 8 text or category fields (objects). Invoice identifiers, branches, cities, types of customers, and payments are classified as strings, which means their values are not numeric, while unit_price, total, and gross_income values are stored as decimals. The dataset occupies around 140.8 KB of memory, which is a small data size to work with. This provides strong confirmation that the data doesn't need cleansing and can proceed with further processing."
   ]
  },
  {
   "cell_type": "code",
   "execution_count": 4,
   "metadata": {
    "colab": {
     "base_uri": "https://localhost:8080/"
    },
    "executionInfo": {
     "elapsed": 11,
     "status": "ok",
     "timestamp": 1743825571324,
     "user": {
      "displayName": "Hans Darmawan",
      "userId": "08967357686016774806"
     },
     "user_tz": -420
    },
    "id": "QAMYZV9cHmYH",
    "outputId": "9939339f-3efd-4de9-84df-db04403b600b"
   },
   "outputs": [
    {
     "data": {
      "text/plain": [
       "0"
      ]
     },
     "execution_count": 4,
     "metadata": {},
     "output_type": "execute_result"
    }
   ],
   "source": [
    "df.duplicated().sum()"
   ]
  },
  {
   "cell_type": "markdown",
   "metadata": {
    "id": "BH2EQy_WHmYH"
   },
   "source": [
    "The dataset undergoes a duplicate check to guarantee the accuracy of the information. Overlaps within a dataset can skew the result of relevant analytical processes. Such a step helps maintain accuracy since duplicate entries tend to inflate counts and distort growth patterns in the analysis. The outcome provides an accurate tally of duplicate rows, which enables data specialists to choose whether to delete them or trace their origin. This procedure supports the verification of the reliability of the remaining data processes and their corresponding representations."
   ]
  },
  {
   "cell_type": "code",
   "execution_count": 5,
   "metadata": {
    "colab": {
     "base_uri": "https://localhost:8080/",
     "height": 313
    },
    "executionInfo": {
     "elapsed": 54,
     "status": "ok",
     "timestamp": 1743825571380,
     "user": {
      "displayName": "Hans Darmawan",
      "userId": "08967357686016774806"
     },
     "user_tz": -420
    },
    "id": "xPlJuLDXPPRG",
    "outputId": "7f76fd7d-d83d-43af-b652-160c2a2d5715"
   },
   "outputs": [
    {
     "data": {
      "text/html": [
       "<div>\n",
       "<style scoped>\n",
       "    .dataframe tbody tr th:only-of-type {\n",
       "        vertical-align: middle;\n",
       "    }\n",
       "\n",
       "    .dataframe tbody tr th {\n",
       "        vertical-align: top;\n",
       "    }\n",
       "\n",
       "    .dataframe thead th {\n",
       "        text-align: right;\n",
       "    }\n",
       "</style>\n",
       "<table border=\"1\" class=\"dataframe\">\n",
       "  <thead>\n",
       "    <tr style=\"text-align: right;\">\n",
       "      <th></th>\n",
       "      <th>invoice_id</th>\n",
       "      <th>branch</th>\n",
       "      <th>city</th>\n",
       "      <th>customer_type</th>\n",
       "      <th>gender</th>\n",
       "      <th>product_line</th>\n",
       "      <th>unit_price</th>\n",
       "      <th>quantity</th>\n",
       "      <th>tax_5</th>\n",
       "      <th>total</th>\n",
       "      <th>date</th>\n",
       "      <th>purchase_hour</th>\n",
       "      <th>payment</th>\n",
       "      <th>cogs</th>\n",
       "      <th>gross_marginpct</th>\n",
       "      <th>gross_income</th>\n",
       "      <th>rating</th>\n",
       "    </tr>\n",
       "  </thead>\n",
       "  <tbody>\n",
       "    <tr>\n",
       "      <th>0</th>\n",
       "      <td>750-67-8428</td>\n",
       "      <td>A</td>\n",
       "      <td>Yangon</td>\n",
       "      <td>Member</td>\n",
       "      <td>Female</td>\n",
       "      <td>Health and beauty</td>\n",
       "      <td>74.69</td>\n",
       "      <td>7</td>\n",
       "      <td>26.14</td>\n",
       "      <td>548.97</td>\n",
       "      <td>2019-01-05</td>\n",
       "      <td>13</td>\n",
       "      <td>Ewallet</td>\n",
       "      <td>522.83</td>\n",
       "      <td>4.76</td>\n",
       "      <td>26.14</td>\n",
       "      <td>9.10</td>\n",
       "    </tr>\n",
       "    <tr>\n",
       "      <th>1</th>\n",
       "      <td>226-31-3081</td>\n",
       "      <td>C</td>\n",
       "      <td>Naypyitaw</td>\n",
       "      <td>Normal</td>\n",
       "      <td>Female</td>\n",
       "      <td>Electronic accessories</td>\n",
       "      <td>15.28</td>\n",
       "      <td>5</td>\n",
       "      <td>3.82</td>\n",
       "      <td>80.22</td>\n",
       "      <td>2019-03-08</td>\n",
       "      <td>10</td>\n",
       "      <td>Cash</td>\n",
       "      <td>76.40</td>\n",
       "      <td>4.76</td>\n",
       "      <td>3.82</td>\n",
       "      <td>9.60</td>\n",
       "    </tr>\n",
       "    <tr>\n",
       "      <th>2</th>\n",
       "      <td>631-41-3108</td>\n",
       "      <td>A</td>\n",
       "      <td>Yangon</td>\n",
       "      <td>Normal</td>\n",
       "      <td>Male</td>\n",
       "      <td>Home and lifestyle</td>\n",
       "      <td>46.33</td>\n",
       "      <td>7</td>\n",
       "      <td>16.22</td>\n",
       "      <td>340.53</td>\n",
       "      <td>2019-03-03</td>\n",
       "      <td>13</td>\n",
       "      <td>Credit card</td>\n",
       "      <td>324.31</td>\n",
       "      <td>4.76</td>\n",
       "      <td>16.22</td>\n",
       "      <td>7.40</td>\n",
       "    </tr>\n",
       "    <tr>\n",
       "      <th>3</th>\n",
       "      <td>123-19-1176</td>\n",
       "      <td>A</td>\n",
       "      <td>Yangon</td>\n",
       "      <td>Member</td>\n",
       "      <td>Male</td>\n",
       "      <td>Health and beauty</td>\n",
       "      <td>58.22</td>\n",
       "      <td>8</td>\n",
       "      <td>23.29</td>\n",
       "      <td>489.05</td>\n",
       "      <td>2019-01-27</td>\n",
       "      <td>20</td>\n",
       "      <td>Ewallet</td>\n",
       "      <td>465.76</td>\n",
       "      <td>4.76</td>\n",
       "      <td>23.29</td>\n",
       "      <td>8.40</td>\n",
       "    </tr>\n",
       "    <tr>\n",
       "      <th>4</th>\n",
       "      <td>373-73-7910</td>\n",
       "      <td>A</td>\n",
       "      <td>Yangon</td>\n",
       "      <td>Normal</td>\n",
       "      <td>Male</td>\n",
       "      <td>Sports and travel</td>\n",
       "      <td>86.31</td>\n",
       "      <td>7</td>\n",
       "      <td>30.21</td>\n",
       "      <td>634.38</td>\n",
       "      <td>2019-02-08</td>\n",
       "      <td>10</td>\n",
       "      <td>Ewallet</td>\n",
       "      <td>604.17</td>\n",
       "      <td>4.76</td>\n",
       "      <td>30.21</td>\n",
       "      <td>5.30</td>\n",
       "    </tr>\n",
       "  </tbody>\n",
       "</table>\n",
       "</div>"
      ],
      "text/plain": [
       "    invoice_id branch       city customer_type  gender  \\\n",
       "0  750-67-8428      A     Yangon        Member  Female   \n",
       "1  226-31-3081      C  Naypyitaw        Normal  Female   \n",
       "2  631-41-3108      A     Yangon        Normal    Male   \n",
       "3  123-19-1176      A     Yangon        Member    Male   \n",
       "4  373-73-7910      A     Yangon        Normal    Male   \n",
       "\n",
       "             product_line  unit_price  quantity  tax_5  total        date  \\\n",
       "0       Health and beauty       74.69         7  26.14 548.97  2019-01-05   \n",
       "1  Electronic accessories       15.28         5   3.82  80.22  2019-03-08   \n",
       "2      Home and lifestyle       46.33         7  16.22 340.53  2019-03-03   \n",
       "3       Health and beauty       58.22         8  23.29 489.05  2019-01-27   \n",
       "4       Sports and travel       86.31         7  30.21 634.38  2019-02-08   \n",
       "\n",
       "   purchase_hour      payment   cogs  gross_marginpct  gross_income  rating  \n",
       "0             13      Ewallet 522.83             4.76         26.14    9.10  \n",
       "1             10         Cash  76.40             4.76          3.82    9.60  \n",
       "2             13  Credit card 324.31             4.76         16.22    7.40  \n",
       "3             20      Ewallet 465.76             4.76         23.29    8.40  \n",
       "4             10      Ewallet 604.17             4.76         30.21    5.30  "
      ]
     },
     "execution_count": 5,
     "metadata": {},
     "output_type": "execute_result"
    }
   ],
   "source": [
    "df = df.drop(columns = [\"Unnamed: 0\"])\n",
    "df.head()"
   ]
  },
  {
   "cell_type": "markdown",
   "metadata": {
    "id": "i_DuhcQhHmYI"
   },
   "source": [
    "The \"Unnamed: 0\" column is dropped from the DataFrame as it doesn't have any analytical value, presumably being an index created from the original dataset. This adds value by streamlining the data and removing unnecessary elements. After the column is removed, the top rows of the modified DataFrame are shown for confirmation. This allows for additional variables to be included while making the cleansed data more concise and efficient for further analysis. The operation validates that the dataset still contains all relevant and meaningful columns while configuring it to be less cumbersome."
   ]
  },
  {
   "cell_type": "code",
   "execution_count": 6,
   "metadata": {
    "colab": {
     "base_uri": "https://localhost:8080/",
     "height": 313
    },
    "executionInfo": {
     "elapsed": 5,
     "status": "ok",
     "timestamp": 1743825571387,
     "user": {
      "displayName": "Hans Darmawan",
      "userId": "08967357686016774806"
     },
     "user_tz": -420
    },
    "id": "ktjrxGiPPTTx",
    "outputId": "dfa08435-0d35-4e78-bbd9-b98790b30727"
   },
   "outputs": [
    {
     "data": {
      "text/html": [
       "<div>\n",
       "<style scoped>\n",
       "    .dataframe tbody tr th:only-of-type {\n",
       "        vertical-align: middle;\n",
       "    }\n",
       "\n",
       "    .dataframe tbody tr th {\n",
       "        vertical-align: top;\n",
       "    }\n",
       "\n",
       "    .dataframe thead th {\n",
       "        text-align: right;\n",
       "    }\n",
       "</style>\n",
       "<table border=\"1\" class=\"dataframe\">\n",
       "  <thead>\n",
       "    <tr style=\"text-align: right;\">\n",
       "      <th></th>\n",
       "      <th>invoice_id</th>\n",
       "      <th>branch</th>\n",
       "      <th>city</th>\n",
       "      <th>customer_type</th>\n",
       "      <th>gender</th>\n",
       "      <th>product_line</th>\n",
       "      <th>unit_price</th>\n",
       "      <th>quantity</th>\n",
       "      <th>tax_5_pct</th>\n",
       "      <th>total</th>\n",
       "      <th>date</th>\n",
       "      <th>purchase_hour</th>\n",
       "      <th>payment</th>\n",
       "      <th>cogs</th>\n",
       "      <th>gross_margin_pct</th>\n",
       "      <th>gross_income</th>\n",
       "      <th>rating</th>\n",
       "    </tr>\n",
       "  </thead>\n",
       "  <tbody>\n",
       "    <tr>\n",
       "      <th>0</th>\n",
       "      <td>750-67-8428</td>\n",
       "      <td>A</td>\n",
       "      <td>Yangon</td>\n",
       "      <td>Member</td>\n",
       "      <td>Female</td>\n",
       "      <td>Health and beauty</td>\n",
       "      <td>74.69</td>\n",
       "      <td>7</td>\n",
       "      <td>26.14</td>\n",
       "      <td>548.97</td>\n",
       "      <td>2019-01-05</td>\n",
       "      <td>13</td>\n",
       "      <td>Ewallet</td>\n",
       "      <td>522.83</td>\n",
       "      <td>4.76</td>\n",
       "      <td>26.14</td>\n",
       "      <td>9.10</td>\n",
       "    </tr>\n",
       "    <tr>\n",
       "      <th>1</th>\n",
       "      <td>226-31-3081</td>\n",
       "      <td>C</td>\n",
       "      <td>Naypyitaw</td>\n",
       "      <td>Normal</td>\n",
       "      <td>Female</td>\n",
       "      <td>Electronic accessories</td>\n",
       "      <td>15.28</td>\n",
       "      <td>5</td>\n",
       "      <td>3.82</td>\n",
       "      <td>80.22</td>\n",
       "      <td>2019-03-08</td>\n",
       "      <td>10</td>\n",
       "      <td>Cash</td>\n",
       "      <td>76.40</td>\n",
       "      <td>4.76</td>\n",
       "      <td>3.82</td>\n",
       "      <td>9.60</td>\n",
       "    </tr>\n",
       "    <tr>\n",
       "      <th>2</th>\n",
       "      <td>631-41-3108</td>\n",
       "      <td>A</td>\n",
       "      <td>Yangon</td>\n",
       "      <td>Normal</td>\n",
       "      <td>Male</td>\n",
       "      <td>Home and lifestyle</td>\n",
       "      <td>46.33</td>\n",
       "      <td>7</td>\n",
       "      <td>16.22</td>\n",
       "      <td>340.53</td>\n",
       "      <td>2019-03-03</td>\n",
       "      <td>13</td>\n",
       "      <td>Credit card</td>\n",
       "      <td>324.31</td>\n",
       "      <td>4.76</td>\n",
       "      <td>16.22</td>\n",
       "      <td>7.40</td>\n",
       "    </tr>\n",
       "    <tr>\n",
       "      <th>3</th>\n",
       "      <td>123-19-1176</td>\n",
       "      <td>A</td>\n",
       "      <td>Yangon</td>\n",
       "      <td>Member</td>\n",
       "      <td>Male</td>\n",
       "      <td>Health and beauty</td>\n",
       "      <td>58.22</td>\n",
       "      <td>8</td>\n",
       "      <td>23.29</td>\n",
       "      <td>489.05</td>\n",
       "      <td>2019-01-27</td>\n",
       "      <td>20</td>\n",
       "      <td>Ewallet</td>\n",
       "      <td>465.76</td>\n",
       "      <td>4.76</td>\n",
       "      <td>23.29</td>\n",
       "      <td>8.40</td>\n",
       "    </tr>\n",
       "    <tr>\n",
       "      <th>4</th>\n",
       "      <td>373-73-7910</td>\n",
       "      <td>A</td>\n",
       "      <td>Yangon</td>\n",
       "      <td>Normal</td>\n",
       "      <td>Male</td>\n",
       "      <td>Sports and travel</td>\n",
       "      <td>86.31</td>\n",
       "      <td>7</td>\n",
       "      <td>30.21</td>\n",
       "      <td>634.38</td>\n",
       "      <td>2019-02-08</td>\n",
       "      <td>10</td>\n",
       "      <td>Ewallet</td>\n",
       "      <td>604.17</td>\n",
       "      <td>4.76</td>\n",
       "      <td>30.21</td>\n",
       "      <td>5.30</td>\n",
       "    </tr>\n",
       "  </tbody>\n",
       "</table>\n",
       "</div>"
      ],
      "text/plain": [
       "    invoice_id branch       city customer_type  gender  \\\n",
       "0  750-67-8428      A     Yangon        Member  Female   \n",
       "1  226-31-3081      C  Naypyitaw        Normal  Female   \n",
       "2  631-41-3108      A     Yangon        Normal    Male   \n",
       "3  123-19-1176      A     Yangon        Member    Male   \n",
       "4  373-73-7910      A     Yangon        Normal    Male   \n",
       "\n",
       "             product_line  unit_price  quantity  tax_5_pct  total        date  \\\n",
       "0       Health and beauty       74.69         7      26.14 548.97  2019-01-05   \n",
       "1  Electronic accessories       15.28         5       3.82  80.22  2019-03-08   \n",
       "2      Home and lifestyle       46.33         7      16.22 340.53  2019-03-03   \n",
       "3       Health and beauty       58.22         8      23.29 489.05  2019-01-27   \n",
       "4       Sports and travel       86.31         7      30.21 634.38  2019-02-08   \n",
       "\n",
       "   purchase_hour      payment   cogs  gross_margin_pct  gross_income  rating  \n",
       "0             13      Ewallet 522.83              4.76         26.14    9.10  \n",
       "1             10         Cash  76.40              4.76          3.82    9.60  \n",
       "2             13  Credit card 324.31              4.76         16.22    7.40  \n",
       "3             20      Ewallet 465.76              4.76         23.29    8.40  \n",
       "4             10      Ewallet 604.17              4.76         30.21    5.30  "
      ]
     },
     "execution_count": 6,
     "metadata": {},
     "output_type": "execute_result"
    }
   ],
   "source": [
    "df = df.rename(columns={\"gross_marginpct\": \"gross_margin_pct\",\n",
    "                        \"tax_5\":\"tax_5_pct\"})\n",
    "df.head()"
   ]
  },
  {
   "cell_type": "markdown",
   "metadata": {
    "id": "VSIJ8zhUHmYI"
   },
   "source": [
    "In order to enhance consistency and clarity within the dataset, a renaming process is applied. The column \"gross_marginpct\" was identified as lacking standard readability and therefore adjusted to \"gross_margin_pct\" by incorporating underscores. In the same manner, the “tax_5” column was revised to “tax_5_pct” to clarify that it is a percentage. These changes make column names more coherent and aligned with data analysis standards. Following these changes, the first few rows of the DataFrame are shown, allowing verification that the modifications were implemented. This aids in better structuring of the information and minimizing confusion during the analysis."
   ]
  },
  {
   "cell_type": "code",
   "execution_count": 7,
   "metadata": {
    "id": "UlFNOtdOPXbh"
   },
   "outputs": [],
   "source": [
    "df[\"date\"] = pd.to_datetime(df[\"date\"])\n",
    "categoricals = [\"branch\", \"city\", \"customer_type\", \"gender\", \"product_line\", \"payment\"]\n",
    "df[categoricals] = df[categoricals].astype(\"category\")"
   ]
  },
  {
   "cell_type": "markdown",
   "metadata": {
    "id": "HzErJ-gmHmYJ"
   },
   "source": [
    "To improve the efficiency of analysis, the dataset undergoes two essential data type changes. Firstly, the date column is changed from string to datetime format using the pandas to_datetime() function. This enables the execution of efficient date-based filtering and time-series operations. Secondly, the six categorical columns (branch, city, customer_type, gender, product_line, and payment) are all changed to 'category' data type. The change significantly improves processing speed as these columns contain repetitive string values. These changes make sure that time-related and category data are managed correctly, which boosts the overall performance of the DataFrame for future analyses. Especially in columns with low unique values, the 'category' type saves a significant amount of memory due to its repeated replication throughout the dataset."
   ]
  },
  {
   "cell_type": "code",
   "execution_count": 8,
   "metadata": {
    "colab": {
     "base_uri": "https://localhost:8080/",
     "height": 330
    },
    "executionInfo": {
     "elapsed": 73,
     "status": "ok",
     "timestamp": 1743825571484,
     "user": {
      "displayName": "Hans Darmawan",
      "userId": "08967357686016774806"
     },
     "user_tz": -420
    },
    "id": "uiQ_P4J4PnOD",
    "outputId": "afc60f7a-f18b-4723-fd56-0fa569eef0e8"
   },
   "outputs": [
    {
     "name": "stdout",
     "output_type": "stream",
     "text": [
      "{'Yangon_Member_Female': 1, 'Naypyitaw_Normal_Female': 2, 'Yangon_Normal_Male': 3, 'Yangon_Member_Male': 4, 'Naypyitaw_Normal_Male': 5, 'Mandalay_Member_Female': 6, 'Mandalay_Member_Male': 7, 'Yangon_Normal_Female': 8, 'Mandalay_Normal_Female': 9, 'Naypyitaw_Member_Male': 10, 'Mandalay_Normal_Male': 11, 'Naypyitaw_Member_Female': 12}\n"
     ]
    },
    {
     "data": {
      "text/html": [
       "<div>\n",
       "<style scoped>\n",
       "    .dataframe tbody tr th:only-of-type {\n",
       "        vertical-align: middle;\n",
       "    }\n",
       "\n",
       "    .dataframe tbody tr th {\n",
       "        vertical-align: top;\n",
       "    }\n",
       "\n",
       "    .dataframe thead th {\n",
       "        text-align: right;\n",
       "    }\n",
       "</style>\n",
       "<table border=\"1\" class=\"dataframe\">\n",
       "  <thead>\n",
       "    <tr style=\"text-align: right;\">\n",
       "      <th></th>\n",
       "      <th>invoice_id</th>\n",
       "      <th>branch</th>\n",
       "      <th>city</th>\n",
       "      <th>customer_type</th>\n",
       "      <th>gender</th>\n",
       "      <th>product_line</th>\n",
       "      <th>unit_price</th>\n",
       "      <th>quantity</th>\n",
       "      <th>tax_5_pct</th>\n",
       "      <th>total</th>\n",
       "      <th>date</th>\n",
       "      <th>purchase_hour</th>\n",
       "      <th>payment</th>\n",
       "      <th>cogs</th>\n",
       "      <th>gross_margin_pct</th>\n",
       "      <th>gross_income</th>\n",
       "      <th>rating</th>\n",
       "      <th>customer_profile</th>\n",
       "      <th>customer_id</th>\n",
       "    </tr>\n",
       "  </thead>\n",
       "  <tbody>\n",
       "    <tr>\n",
       "      <th>0</th>\n",
       "      <td>750-67-8428</td>\n",
       "      <td>A</td>\n",
       "      <td>Yangon</td>\n",
       "      <td>Member</td>\n",
       "      <td>Female</td>\n",
       "      <td>Health and beauty</td>\n",
       "      <td>74.69</td>\n",
       "      <td>7</td>\n",
       "      <td>26.14</td>\n",
       "      <td>548.97</td>\n",
       "      <td>2019-01-05</td>\n",
       "      <td>13</td>\n",
       "      <td>Ewallet</td>\n",
       "      <td>522.83</td>\n",
       "      <td>4.76</td>\n",
       "      <td>26.14</td>\n",
       "      <td>9.10</td>\n",
       "      <td>Yangon_Member_Female</td>\n",
       "      <td>1</td>\n",
       "    </tr>\n",
       "    <tr>\n",
       "      <th>1</th>\n",
       "      <td>226-31-3081</td>\n",
       "      <td>C</td>\n",
       "      <td>Naypyitaw</td>\n",
       "      <td>Normal</td>\n",
       "      <td>Female</td>\n",
       "      <td>Electronic accessories</td>\n",
       "      <td>15.28</td>\n",
       "      <td>5</td>\n",
       "      <td>3.82</td>\n",
       "      <td>80.22</td>\n",
       "      <td>2019-03-08</td>\n",
       "      <td>10</td>\n",
       "      <td>Cash</td>\n",
       "      <td>76.40</td>\n",
       "      <td>4.76</td>\n",
       "      <td>3.82</td>\n",
       "      <td>9.60</td>\n",
       "      <td>Naypyitaw_Normal_Female</td>\n",
       "      <td>2</td>\n",
       "    </tr>\n",
       "    <tr>\n",
       "      <th>2</th>\n",
       "      <td>631-41-3108</td>\n",
       "      <td>A</td>\n",
       "      <td>Yangon</td>\n",
       "      <td>Normal</td>\n",
       "      <td>Male</td>\n",
       "      <td>Home and lifestyle</td>\n",
       "      <td>46.33</td>\n",
       "      <td>7</td>\n",
       "      <td>16.22</td>\n",
       "      <td>340.53</td>\n",
       "      <td>2019-03-03</td>\n",
       "      <td>13</td>\n",
       "      <td>Credit card</td>\n",
       "      <td>324.31</td>\n",
       "      <td>4.76</td>\n",
       "      <td>16.22</td>\n",
       "      <td>7.40</td>\n",
       "      <td>Yangon_Normal_Male</td>\n",
       "      <td>3</td>\n",
       "    </tr>\n",
       "    <tr>\n",
       "      <th>3</th>\n",
       "      <td>123-19-1176</td>\n",
       "      <td>A</td>\n",
       "      <td>Yangon</td>\n",
       "      <td>Member</td>\n",
       "      <td>Male</td>\n",
       "      <td>Health and beauty</td>\n",
       "      <td>58.22</td>\n",
       "      <td>8</td>\n",
       "      <td>23.29</td>\n",
       "      <td>489.05</td>\n",
       "      <td>2019-01-27</td>\n",
       "      <td>20</td>\n",
       "      <td>Ewallet</td>\n",
       "      <td>465.76</td>\n",
       "      <td>4.76</td>\n",
       "      <td>23.29</td>\n",
       "      <td>8.40</td>\n",
       "      <td>Yangon_Member_Male</td>\n",
       "      <td>4</td>\n",
       "    </tr>\n",
       "    <tr>\n",
       "      <th>4</th>\n",
       "      <td>373-73-7910</td>\n",
       "      <td>A</td>\n",
       "      <td>Yangon</td>\n",
       "      <td>Normal</td>\n",
       "      <td>Male</td>\n",
       "      <td>Sports and travel</td>\n",
       "      <td>86.31</td>\n",
       "      <td>7</td>\n",
       "      <td>30.21</td>\n",
       "      <td>634.38</td>\n",
       "      <td>2019-02-08</td>\n",
       "      <td>10</td>\n",
       "      <td>Ewallet</td>\n",
       "      <td>604.17</td>\n",
       "      <td>4.76</td>\n",
       "      <td>30.21</td>\n",
       "      <td>5.30</td>\n",
       "      <td>Yangon_Normal_Male</td>\n",
       "      <td>3</td>\n",
       "    </tr>\n",
       "  </tbody>\n",
       "</table>\n",
       "</div>"
      ],
      "text/plain": [
       "    invoice_id branch       city customer_type  gender  \\\n",
       "0  750-67-8428      A     Yangon        Member  Female   \n",
       "1  226-31-3081      C  Naypyitaw        Normal  Female   \n",
       "2  631-41-3108      A     Yangon        Normal    Male   \n",
       "3  123-19-1176      A     Yangon        Member    Male   \n",
       "4  373-73-7910      A     Yangon        Normal    Male   \n",
       "\n",
       "             product_line  unit_price  quantity  tax_5_pct  total       date  \\\n",
       "0       Health and beauty       74.69         7      26.14 548.97 2019-01-05   \n",
       "1  Electronic accessories       15.28         5       3.82  80.22 2019-03-08   \n",
       "2      Home and lifestyle       46.33         7      16.22 340.53 2019-03-03   \n",
       "3       Health and beauty       58.22         8      23.29 489.05 2019-01-27   \n",
       "4       Sports and travel       86.31         7      30.21 634.38 2019-02-08   \n",
       "\n",
       "   purchase_hour      payment   cogs  gross_margin_pct  gross_income  rating  \\\n",
       "0             13      Ewallet 522.83              4.76         26.14    9.10   \n",
       "1             10         Cash  76.40              4.76          3.82    9.60   \n",
       "2             13  Credit card 324.31              4.76         16.22    7.40   \n",
       "3             20      Ewallet 465.76              4.76         23.29    8.40   \n",
       "4             10      Ewallet 604.17              4.76         30.21    5.30   \n",
       "\n",
       "          customer_profile  customer_id  \n",
       "0     Yangon_Member_Female            1  \n",
       "1  Naypyitaw_Normal_Female            2  \n",
       "2       Yangon_Normal_Male            3  \n",
       "3       Yangon_Member_Male            4  \n",
       "4       Yangon_Normal_Male            3  "
      ]
     },
     "execution_count": 8,
     "metadata": {},
     "output_type": "execute_result"
    }
   ],
   "source": [
    "df[\"customer_profile\"] = df[\"city\"].astype(str) + \"_\" + df[\"customer_type\"].astype(str) + \"_\" + df[\"gender\"].astype(str)\n",
    "customer_mapping = dict()\n",
    "for i, j in zip(df[\"customer_profile\"].unique(), range(len(df[\"customer_profile\"].unique()))):\n",
    "    customer_mapping[i] = j+1\n",
    "print(customer_mapping)\n",
    "\n",
    "df[\"customer_id\"] = df[\"customer_profile\"].map(customer_mapping)\n",
    "df.head()"
   ]
  },
  {
   "cell_type": "markdown",
   "metadata": {
    "id": "0YaEbZ9mHmYJ"
   },
   "source": [
    "The customer segmentation analysis requires a unique ID for each customer, which is not present in the dataset. To solve this problem, a new column of customer_profile can be generated with three existing features: city, customer_type, and gender. This method creates combined labels like \"Yangon_Member_Female,\" which help group customers in a way that makes it easier to analyze their buying habits based on Length, Recency, Frequency, and Monetary factors. While these profiles might not be as accurate as customer IDs, they help sort customers by their behavior and location, making it easier to study different types of customers over time without needing actual customer IDs."
   ]
  },
  {
   "cell_type": "code",
   "execution_count": 9,
   "metadata": {
    "colab": {
     "base_uri": "https://localhost:8080/",
     "height": 143
    },
    "executionInfo": {
     "elapsed": 4,
     "status": "ok",
     "timestamp": 1743825571490,
     "user": {
      "displayName": "Hans Darmawan",
      "userId": "08967357686016774806"
     },
     "user_tz": -420
    },
    "id": "GHLJN4_oHmYK",
    "outputId": "ca0353e2-3d93-42f7-a2e8-5d5273658d8e"
   },
   "outputs": [
    {
     "data": {
      "text/html": [
       "<div>\n",
       "<style scoped>\n",
       "    .dataframe tbody tr th:only-of-type {\n",
       "        vertical-align: middle;\n",
       "    }\n",
       "\n",
       "    .dataframe tbody tr th {\n",
       "        vertical-align: top;\n",
       "    }\n",
       "\n",
       "    .dataframe thead th {\n",
       "        text-align: right;\n",
       "    }\n",
       "</style>\n",
       "<table border=\"1\" class=\"dataframe\">\n",
       "  <thead>\n",
       "    <tr style=\"text-align: right;\">\n",
       "      <th></th>\n",
       "      <th>branch</th>\n",
       "      <th>city</th>\n",
       "      <th>total_transactions</th>\n",
       "    </tr>\n",
       "  </thead>\n",
       "  <tbody>\n",
       "    <tr>\n",
       "      <th>2</th>\n",
       "      <td>A</td>\n",
       "      <td>Yangon</td>\n",
       "      <td>340</td>\n",
       "    </tr>\n",
       "    <tr>\n",
       "      <th>3</th>\n",
       "      <td>B</td>\n",
       "      <td>Mandalay</td>\n",
       "      <td>332</td>\n",
       "    </tr>\n",
       "    <tr>\n",
       "      <th>7</th>\n",
       "      <td>C</td>\n",
       "      <td>Naypyitaw</td>\n",
       "      <td>328</td>\n",
       "    </tr>\n",
       "  </tbody>\n",
       "</table>\n",
       "</div>"
      ],
      "text/plain": [
       "  branch       city  total_transactions\n",
       "2      A     Yangon                 340\n",
       "3      B   Mandalay                 332\n",
       "7      C  Naypyitaw                 328"
      ]
     },
     "execution_count": 9,
     "metadata": {},
     "output_type": "execute_result"
    }
   ],
   "source": [
    "branch_city = df.groupby([\"branch\", \"city\"])[[\"invoice_id\"]].agg(\"count\").reset_index().rename(columns={\"invoice_id\":\"total_transactions\"})\n",
    "branch_city[branch_city[\"total_transactions\"] != 0]"
   ]
  },
  {
   "cell_type": "markdown",
   "metadata": {
    "id": "QXixSBAzHmYK"
   },
   "source": [
    "The following table presents verification for the one-to-one mapping of supermarkets to cities, including their traffic. There are three distinct branches (A, B, C), each exclusively associated with one city (Yangon, Mandalay, Naypyitaw, respectively), confirming the expected 1:1 relationship. The transaction counts indicate fairly uniform engagement at different locations: Branch A (Yangon) recorded 340 transactions, Branch B (Mandalay) recorded 332 transactions, and Branch C (Naypyitaw) recorded 328 transactions."
   ]
  },
  {
   "cell_type": "code",
   "execution_count": 10,
   "metadata": {
    "colab": {
     "base_uri": "https://localhost:8080/",
     "height": 313
    },
    "executionInfo": {
     "elapsed": 39,
     "status": "ok",
     "timestamp": 1743825571530,
     "user": {
      "displayName": "Hans Darmawan",
      "userId": "08967357686016774806"
     },
     "user_tz": -420
    },
    "id": "fy2Z4GNHPvDC",
    "outputId": "e014fd78-65a7-42a6-c915-9f173b3679a1"
   },
   "outputs": [
    {
     "data": {
      "text/html": [
       "<div>\n",
       "<style scoped>\n",
       "    .dataframe tbody tr th:only-of-type {\n",
       "        vertical-align: middle;\n",
       "    }\n",
       "\n",
       "    .dataframe tbody tr th {\n",
       "        vertical-align: top;\n",
       "    }\n",
       "\n",
       "    .dataframe thead th {\n",
       "        text-align: right;\n",
       "    }\n",
       "</style>\n",
       "<table border=\"1\" class=\"dataframe\">\n",
       "  <thead>\n",
       "    <tr style=\"text-align: right;\">\n",
       "      <th></th>\n",
       "      <th>invoice_id</th>\n",
       "      <th>branch</th>\n",
       "      <th>city</th>\n",
       "      <th>customer_type</th>\n",
       "      <th>gender</th>\n",
       "      <th>product_line</th>\n",
       "      <th>unit_price</th>\n",
       "      <th>quantity</th>\n",
       "      <th>tax_5_pct</th>\n",
       "      <th>total</th>\n",
       "      <th>date</th>\n",
       "      <th>purchase_hour</th>\n",
       "      <th>payment</th>\n",
       "      <th>cogs</th>\n",
       "      <th>gross_margin_pct</th>\n",
       "      <th>gross_income</th>\n",
       "      <th>rating</th>\n",
       "      <th>customer_profile</th>\n",
       "      <th>customer_id</th>\n",
       "      <th>total_price</th>\n",
       "    </tr>\n",
       "  </thead>\n",
       "  <tbody>\n",
       "    <tr>\n",
       "      <th>0</th>\n",
       "      <td>750-67-8428</td>\n",
       "      <td>A</td>\n",
       "      <td>Yangon</td>\n",
       "      <td>Member</td>\n",
       "      <td>Female</td>\n",
       "      <td>Health and beauty</td>\n",
       "      <td>74.69</td>\n",
       "      <td>7</td>\n",
       "      <td>26.14</td>\n",
       "      <td>548.97</td>\n",
       "      <td>2019-01-05</td>\n",
       "      <td>13</td>\n",
       "      <td>Ewallet</td>\n",
       "      <td>522.83</td>\n",
       "      <td>4.76</td>\n",
       "      <td>26.14</td>\n",
       "      <td>9.10</td>\n",
       "      <td>Yangon_Member_Female</td>\n",
       "      <td>1</td>\n",
       "      <td>522.83</td>\n",
       "    </tr>\n",
       "    <tr>\n",
       "      <th>1</th>\n",
       "      <td>226-31-3081</td>\n",
       "      <td>C</td>\n",
       "      <td>Naypyitaw</td>\n",
       "      <td>Normal</td>\n",
       "      <td>Female</td>\n",
       "      <td>Electronic accessories</td>\n",
       "      <td>15.28</td>\n",
       "      <td>5</td>\n",
       "      <td>3.82</td>\n",
       "      <td>80.22</td>\n",
       "      <td>2019-03-08</td>\n",
       "      <td>10</td>\n",
       "      <td>Cash</td>\n",
       "      <td>76.40</td>\n",
       "      <td>4.76</td>\n",
       "      <td>3.82</td>\n",
       "      <td>9.60</td>\n",
       "      <td>Naypyitaw_Normal_Female</td>\n",
       "      <td>2</td>\n",
       "      <td>76.40</td>\n",
       "    </tr>\n",
       "    <tr>\n",
       "      <th>2</th>\n",
       "      <td>631-41-3108</td>\n",
       "      <td>A</td>\n",
       "      <td>Yangon</td>\n",
       "      <td>Normal</td>\n",
       "      <td>Male</td>\n",
       "      <td>Home and lifestyle</td>\n",
       "      <td>46.33</td>\n",
       "      <td>7</td>\n",
       "      <td>16.22</td>\n",
       "      <td>340.53</td>\n",
       "      <td>2019-03-03</td>\n",
       "      <td>13</td>\n",
       "      <td>Credit card</td>\n",
       "      <td>324.31</td>\n",
       "      <td>4.76</td>\n",
       "      <td>16.22</td>\n",
       "      <td>7.40</td>\n",
       "      <td>Yangon_Normal_Male</td>\n",
       "      <td>3</td>\n",
       "      <td>324.31</td>\n",
       "    </tr>\n",
       "    <tr>\n",
       "      <th>3</th>\n",
       "      <td>123-19-1176</td>\n",
       "      <td>A</td>\n",
       "      <td>Yangon</td>\n",
       "      <td>Member</td>\n",
       "      <td>Male</td>\n",
       "      <td>Health and beauty</td>\n",
       "      <td>58.22</td>\n",
       "      <td>8</td>\n",
       "      <td>23.29</td>\n",
       "      <td>489.05</td>\n",
       "      <td>2019-01-27</td>\n",
       "      <td>20</td>\n",
       "      <td>Ewallet</td>\n",
       "      <td>465.76</td>\n",
       "      <td>4.76</td>\n",
       "      <td>23.29</td>\n",
       "      <td>8.40</td>\n",
       "      <td>Yangon_Member_Male</td>\n",
       "      <td>4</td>\n",
       "      <td>465.76</td>\n",
       "    </tr>\n",
       "    <tr>\n",
       "      <th>4</th>\n",
       "      <td>373-73-7910</td>\n",
       "      <td>A</td>\n",
       "      <td>Yangon</td>\n",
       "      <td>Normal</td>\n",
       "      <td>Male</td>\n",
       "      <td>Sports and travel</td>\n",
       "      <td>86.31</td>\n",
       "      <td>7</td>\n",
       "      <td>30.21</td>\n",
       "      <td>634.38</td>\n",
       "      <td>2019-02-08</td>\n",
       "      <td>10</td>\n",
       "      <td>Ewallet</td>\n",
       "      <td>604.17</td>\n",
       "      <td>4.76</td>\n",
       "      <td>30.21</td>\n",
       "      <td>5.30</td>\n",
       "      <td>Yangon_Normal_Male</td>\n",
       "      <td>3</td>\n",
       "      <td>604.17</td>\n",
       "    </tr>\n",
       "  </tbody>\n",
       "</table>\n",
       "</div>"
      ],
      "text/plain": [
       "    invoice_id branch       city customer_type  gender  \\\n",
       "0  750-67-8428      A     Yangon        Member  Female   \n",
       "1  226-31-3081      C  Naypyitaw        Normal  Female   \n",
       "2  631-41-3108      A     Yangon        Normal    Male   \n",
       "3  123-19-1176      A     Yangon        Member    Male   \n",
       "4  373-73-7910      A     Yangon        Normal    Male   \n",
       "\n",
       "             product_line  unit_price  quantity  tax_5_pct  total       date  \\\n",
       "0       Health and beauty       74.69         7      26.14 548.97 2019-01-05   \n",
       "1  Electronic accessories       15.28         5       3.82  80.22 2019-03-08   \n",
       "2      Home and lifestyle       46.33         7      16.22 340.53 2019-03-03   \n",
       "3       Health and beauty       58.22         8      23.29 489.05 2019-01-27   \n",
       "4       Sports and travel       86.31         7      30.21 634.38 2019-02-08   \n",
       "\n",
       "   purchase_hour      payment   cogs  gross_margin_pct  gross_income  rating  \\\n",
       "0             13      Ewallet 522.83              4.76         26.14    9.10   \n",
       "1             10         Cash  76.40              4.76          3.82    9.60   \n",
       "2             13  Credit card 324.31              4.76         16.22    7.40   \n",
       "3             20      Ewallet 465.76              4.76         23.29    8.40   \n",
       "4             10      Ewallet 604.17              4.76         30.21    5.30   \n",
       "\n",
       "          customer_profile  customer_id  total_price  \n",
       "0     Yangon_Member_Female            1       522.83  \n",
       "1  Naypyitaw_Normal_Female            2        76.40  \n",
       "2       Yangon_Normal_Male            3       324.31  \n",
       "3       Yangon_Member_Male            4       465.76  \n",
       "4       Yangon_Normal_Male            3       604.17  "
      ]
     },
     "execution_count": 10,
     "metadata": {},
     "output_type": "execute_result"
    }
   ],
   "source": [
    "df[\"total_price\"] = df[\"quantity\"] * df[\"unit_price\"]\n",
    "df.head()"
   ]
  },
  {
   "cell_type": "markdown",
   "metadata": {
    "id": "BopCxeIgnyCS"
   },
   "source": [
    "With the addition of the total_price column, the quantity and unit_price values for each transaction are multiplied. This calculation shows the total amount of the transaction before any taxes or discounts are added, which is important for understanding the organization's revenue and how customers buy. This process can be done at the transaction level, enabling each sale record to be monitored at the desired level of detail. To ensure that the calculation was performed correctly as well as that the new column was integrated into the data correctly, the initial five rows are shown for visual examination. In the context of financial performance evaluation and loss analysis within the LRFM model in subsequent steps, these basic formulated calculations are considered primary constituents of customer equity analytics."
   ]
  },
  {
   "cell_type": "code",
   "execution_count": 11,
   "metadata": {
    "colab": {
     "base_uri": "https://localhost:8080/",
     "height": 313
    },
    "executionInfo": {
     "elapsed": 51,
     "status": "ok",
     "timestamp": 1743825571583,
     "user": {
      "displayName": "Hans Darmawan",
      "userId": "08967357686016774806"
     },
     "user_tz": -420
    },
    "id": "2tQ7mRXOPwMt",
    "outputId": "ddb11e9c-c3f0-4970-cc81-1ac6d0b162a4"
   },
   "outputs": [
    {
     "data": {
      "text/html": [
       "<div>\n",
       "<style scoped>\n",
       "    .dataframe tbody tr th:only-of-type {\n",
       "        vertical-align: middle;\n",
       "    }\n",
       "\n",
       "    .dataframe tbody tr th {\n",
       "        vertical-align: top;\n",
       "    }\n",
       "\n",
       "    .dataframe thead th {\n",
       "        text-align: right;\n",
       "    }\n",
       "</style>\n",
       "<table border=\"1\" class=\"dataframe\">\n",
       "  <thead>\n",
       "    <tr style=\"text-align: right;\">\n",
       "      <th></th>\n",
       "      <th>invoice_id</th>\n",
       "      <th>branch</th>\n",
       "      <th>city</th>\n",
       "      <th>customer_type</th>\n",
       "      <th>gender</th>\n",
       "      <th>product_line</th>\n",
       "      <th>unit_price</th>\n",
       "      <th>quantity</th>\n",
       "      <th>tax_5_pct</th>\n",
       "      <th>total</th>\n",
       "      <th>date</th>\n",
       "      <th>purchase_hour</th>\n",
       "      <th>payment</th>\n",
       "      <th>cogs</th>\n",
       "      <th>gross_margin_pct</th>\n",
       "      <th>gross_income</th>\n",
       "      <th>rating</th>\n",
       "      <th>customer_profile</th>\n",
       "      <th>customer_id</th>\n",
       "      <th>total_price</th>\n",
       "    </tr>\n",
       "  </thead>\n",
       "  <tbody>\n",
       "    <tr>\n",
       "      <th>0</th>\n",
       "      <td>750-67-8428</td>\n",
       "      <td>A</td>\n",
       "      <td>Yangon</td>\n",
       "      <td>Member</td>\n",
       "      <td>Female</td>\n",
       "      <td>Health and beauty</td>\n",
       "      <td>74.69</td>\n",
       "      <td>7</td>\n",
       "      <td>26.14</td>\n",
       "      <td>548.97</td>\n",
       "      <td>2019-01-05</td>\n",
       "      <td>13</td>\n",
       "      <td>E-wallet</td>\n",
       "      <td>522.83</td>\n",
       "      <td>4.76</td>\n",
       "      <td>26.14</td>\n",
       "      <td>9.10</td>\n",
       "      <td>Yangon_Member_Female</td>\n",
       "      <td>1</td>\n",
       "      <td>522.83</td>\n",
       "    </tr>\n",
       "    <tr>\n",
       "      <th>1</th>\n",
       "      <td>226-31-3081</td>\n",
       "      <td>C</td>\n",
       "      <td>Naypyitaw</td>\n",
       "      <td>Normal</td>\n",
       "      <td>Female</td>\n",
       "      <td>Electronic accessories</td>\n",
       "      <td>15.28</td>\n",
       "      <td>5</td>\n",
       "      <td>3.82</td>\n",
       "      <td>80.22</td>\n",
       "      <td>2019-03-08</td>\n",
       "      <td>10</td>\n",
       "      <td>Cash</td>\n",
       "      <td>76.40</td>\n",
       "      <td>4.76</td>\n",
       "      <td>3.82</td>\n",
       "      <td>9.60</td>\n",
       "      <td>Naypyitaw_Normal_Female</td>\n",
       "      <td>2</td>\n",
       "      <td>76.40</td>\n",
       "    </tr>\n",
       "    <tr>\n",
       "      <th>2</th>\n",
       "      <td>631-41-3108</td>\n",
       "      <td>A</td>\n",
       "      <td>Yangon</td>\n",
       "      <td>Normal</td>\n",
       "      <td>Male</td>\n",
       "      <td>Home and lifestyle</td>\n",
       "      <td>46.33</td>\n",
       "      <td>7</td>\n",
       "      <td>16.22</td>\n",
       "      <td>340.53</td>\n",
       "      <td>2019-03-03</td>\n",
       "      <td>13</td>\n",
       "      <td>Credit card</td>\n",
       "      <td>324.31</td>\n",
       "      <td>4.76</td>\n",
       "      <td>16.22</td>\n",
       "      <td>7.40</td>\n",
       "      <td>Yangon_Normal_Male</td>\n",
       "      <td>3</td>\n",
       "      <td>324.31</td>\n",
       "    </tr>\n",
       "    <tr>\n",
       "      <th>3</th>\n",
       "      <td>123-19-1176</td>\n",
       "      <td>A</td>\n",
       "      <td>Yangon</td>\n",
       "      <td>Member</td>\n",
       "      <td>Male</td>\n",
       "      <td>Health and beauty</td>\n",
       "      <td>58.22</td>\n",
       "      <td>8</td>\n",
       "      <td>23.29</td>\n",
       "      <td>489.05</td>\n",
       "      <td>2019-01-27</td>\n",
       "      <td>20</td>\n",
       "      <td>E-wallet</td>\n",
       "      <td>465.76</td>\n",
       "      <td>4.76</td>\n",
       "      <td>23.29</td>\n",
       "      <td>8.40</td>\n",
       "      <td>Yangon_Member_Male</td>\n",
       "      <td>4</td>\n",
       "      <td>465.76</td>\n",
       "    </tr>\n",
       "    <tr>\n",
       "      <th>4</th>\n",
       "      <td>373-73-7910</td>\n",
       "      <td>A</td>\n",
       "      <td>Yangon</td>\n",
       "      <td>Normal</td>\n",
       "      <td>Male</td>\n",
       "      <td>Sports and travel</td>\n",
       "      <td>86.31</td>\n",
       "      <td>7</td>\n",
       "      <td>30.21</td>\n",
       "      <td>634.38</td>\n",
       "      <td>2019-02-08</td>\n",
       "      <td>10</td>\n",
       "      <td>E-wallet</td>\n",
       "      <td>604.17</td>\n",
       "      <td>4.76</td>\n",
       "      <td>30.21</td>\n",
       "      <td>5.30</td>\n",
       "      <td>Yangon_Normal_Male</td>\n",
       "      <td>3</td>\n",
       "      <td>604.17</td>\n",
       "    </tr>\n",
       "  </tbody>\n",
       "</table>\n",
       "</div>"
      ],
      "text/plain": [
       "    invoice_id branch       city customer_type  gender  \\\n",
       "0  750-67-8428      A     Yangon        Member  Female   \n",
       "1  226-31-3081      C  Naypyitaw        Normal  Female   \n",
       "2  631-41-3108      A     Yangon        Normal    Male   \n",
       "3  123-19-1176      A     Yangon        Member    Male   \n",
       "4  373-73-7910      A     Yangon        Normal    Male   \n",
       "\n",
       "             product_line  unit_price  quantity  tax_5_pct  total       date  \\\n",
       "0       Health and beauty       74.69         7      26.14 548.97 2019-01-05   \n",
       "1  Electronic accessories       15.28         5       3.82  80.22 2019-03-08   \n",
       "2      Home and lifestyle       46.33         7      16.22 340.53 2019-03-03   \n",
       "3       Health and beauty       58.22         8      23.29 489.05 2019-01-27   \n",
       "4       Sports and travel       86.31         7      30.21 634.38 2019-02-08   \n",
       "\n",
       "   purchase_hour      payment   cogs  gross_margin_pct  gross_income  rating  \\\n",
       "0             13     E-wallet 522.83              4.76         26.14    9.10   \n",
       "1             10         Cash  76.40              4.76          3.82    9.60   \n",
       "2             13  Credit card 324.31              4.76         16.22    7.40   \n",
       "3             20     E-wallet 465.76              4.76         23.29    8.40   \n",
       "4             10     E-wallet 604.17              4.76         30.21    5.30   \n",
       "\n",
       "          customer_profile  customer_id  total_price  \n",
       "0     Yangon_Member_Female            1       522.83  \n",
       "1  Naypyitaw_Normal_Female            2        76.40  \n",
       "2       Yangon_Normal_Male            3       324.31  \n",
       "3       Yangon_Member_Male            4       465.76  \n",
       "4       Yangon_Normal_Male            3       604.17  "
      ]
     },
     "execution_count": 11,
     "metadata": {},
     "output_type": "execute_result"
    }
   ],
   "source": [
    "df[\"payment\"] = df[\"payment\"].replace(\"Ewallet\", \"E-wallet\")\n",
    "df.head()"
   ]
  },
  {
   "cell_type": "markdown",
   "metadata": {
    "id": "eH30NGX_nyCT"
   },
   "source": [
    "As a standardization measure pertaining to payment systems, “Ewallet” was corrected across the dataset to the properly formatted “E-Wallet.” This adjustment is made to maintain consistency across all transaction records. This change keeps the tracking of payments consistent because if the names aren't the same, it could lead to mistakes when reviewing them. The adjustment is validated by viewing a few initial rows to check that the alteration has been implemented correctly without impacting the other payment categories. Such processes are completed as part of ensuring the reliability and accuracy of information before analyzing payment preference data or preparing financial statements."
   ]
  },
  {
   "cell_type": "code",
   "execution_count": 12,
   "metadata": {
    "colab": {
     "base_uri": "https://localhost:8080/",
     "height": 313
    },
    "executionInfo": {
     "elapsed": 70,
     "status": "ok",
     "timestamp": 1743825571651,
     "user": {
      "displayName": "Hans Darmawan",
      "userId": "08967357686016774806"
     },
     "user_tz": -420
    },
    "id": "wXezeowEPxoG",
    "outputId": "43f8499c-f0d8-42ac-eb8d-9271e8310eb2"
   },
   "outputs": [
    {
     "data": {
      "text/html": [
       "<div>\n",
       "<style scoped>\n",
       "    .dataframe tbody tr th:only-of-type {\n",
       "        vertical-align: middle;\n",
       "    }\n",
       "\n",
       "    .dataframe tbody tr th {\n",
       "        vertical-align: top;\n",
       "    }\n",
       "\n",
       "    .dataframe thead th {\n",
       "        text-align: right;\n",
       "    }\n",
       "</style>\n",
       "<table border=\"1\" class=\"dataframe\">\n",
       "  <thead>\n",
       "    <tr style=\"text-align: right;\">\n",
       "      <th></th>\n",
       "      <th>invoice_id</th>\n",
       "      <th>branch</th>\n",
       "      <th>city</th>\n",
       "      <th>customer_type</th>\n",
       "      <th>gender</th>\n",
       "      <th>product_line</th>\n",
       "      <th>unit_price</th>\n",
       "      <th>quantity</th>\n",
       "      <th>tax_5_pct</th>\n",
       "      <th>total</th>\n",
       "      <th>date</th>\n",
       "      <th>purchase_hour</th>\n",
       "      <th>payment</th>\n",
       "      <th>cogs</th>\n",
       "      <th>gross_margin_pct</th>\n",
       "      <th>gross_income</th>\n",
       "      <th>rating</th>\n",
       "      <th>customer_profile</th>\n",
       "      <th>customer_id</th>\n",
       "      <th>total_price</th>\n",
       "    </tr>\n",
       "  </thead>\n",
       "  <tbody>\n",
       "    <tr>\n",
       "      <th>0</th>\n",
       "      <td>750-67-8428</td>\n",
       "      <td>A</td>\n",
       "      <td>Yangon</td>\n",
       "      <td>Member</td>\n",
       "      <td>Female</td>\n",
       "      <td>Health And Beauty</td>\n",
       "      <td>74.69</td>\n",
       "      <td>7</td>\n",
       "      <td>26.14</td>\n",
       "      <td>548.97</td>\n",
       "      <td>2019-01-05</td>\n",
       "      <td>13</td>\n",
       "      <td>E-Wallet</td>\n",
       "      <td>522.83</td>\n",
       "      <td>4.76</td>\n",
       "      <td>26.14</td>\n",
       "      <td>9.10</td>\n",
       "      <td>Yangon_Member_Female</td>\n",
       "      <td>1</td>\n",
       "      <td>522.83</td>\n",
       "    </tr>\n",
       "    <tr>\n",
       "      <th>1</th>\n",
       "      <td>226-31-3081</td>\n",
       "      <td>C</td>\n",
       "      <td>Naypyitaw</td>\n",
       "      <td>Normal</td>\n",
       "      <td>Female</td>\n",
       "      <td>Electronic Accessories</td>\n",
       "      <td>15.28</td>\n",
       "      <td>5</td>\n",
       "      <td>3.82</td>\n",
       "      <td>80.22</td>\n",
       "      <td>2019-03-08</td>\n",
       "      <td>10</td>\n",
       "      <td>Cash</td>\n",
       "      <td>76.40</td>\n",
       "      <td>4.76</td>\n",
       "      <td>3.82</td>\n",
       "      <td>9.60</td>\n",
       "      <td>Naypyitaw_Normal_Female</td>\n",
       "      <td>2</td>\n",
       "      <td>76.40</td>\n",
       "    </tr>\n",
       "    <tr>\n",
       "      <th>2</th>\n",
       "      <td>631-41-3108</td>\n",
       "      <td>A</td>\n",
       "      <td>Yangon</td>\n",
       "      <td>Normal</td>\n",
       "      <td>Male</td>\n",
       "      <td>Home And Lifestyle</td>\n",
       "      <td>46.33</td>\n",
       "      <td>7</td>\n",
       "      <td>16.22</td>\n",
       "      <td>340.53</td>\n",
       "      <td>2019-03-03</td>\n",
       "      <td>13</td>\n",
       "      <td>Credit Card</td>\n",
       "      <td>324.31</td>\n",
       "      <td>4.76</td>\n",
       "      <td>16.22</td>\n",
       "      <td>7.40</td>\n",
       "      <td>Yangon_Normal_Male</td>\n",
       "      <td>3</td>\n",
       "      <td>324.31</td>\n",
       "    </tr>\n",
       "    <tr>\n",
       "      <th>3</th>\n",
       "      <td>123-19-1176</td>\n",
       "      <td>A</td>\n",
       "      <td>Yangon</td>\n",
       "      <td>Member</td>\n",
       "      <td>Male</td>\n",
       "      <td>Health And Beauty</td>\n",
       "      <td>58.22</td>\n",
       "      <td>8</td>\n",
       "      <td>23.29</td>\n",
       "      <td>489.05</td>\n",
       "      <td>2019-01-27</td>\n",
       "      <td>20</td>\n",
       "      <td>E-Wallet</td>\n",
       "      <td>465.76</td>\n",
       "      <td>4.76</td>\n",
       "      <td>23.29</td>\n",
       "      <td>8.40</td>\n",
       "      <td>Yangon_Member_Male</td>\n",
       "      <td>4</td>\n",
       "      <td>465.76</td>\n",
       "    </tr>\n",
       "    <tr>\n",
       "      <th>4</th>\n",
       "      <td>373-73-7910</td>\n",
       "      <td>A</td>\n",
       "      <td>Yangon</td>\n",
       "      <td>Normal</td>\n",
       "      <td>Male</td>\n",
       "      <td>Sports And Travel</td>\n",
       "      <td>86.31</td>\n",
       "      <td>7</td>\n",
       "      <td>30.21</td>\n",
       "      <td>634.38</td>\n",
       "      <td>2019-02-08</td>\n",
       "      <td>10</td>\n",
       "      <td>E-Wallet</td>\n",
       "      <td>604.17</td>\n",
       "      <td>4.76</td>\n",
       "      <td>30.21</td>\n",
       "      <td>5.30</td>\n",
       "      <td>Yangon_Normal_Male</td>\n",
       "      <td>3</td>\n",
       "      <td>604.17</td>\n",
       "    </tr>\n",
       "  </tbody>\n",
       "</table>\n",
       "</div>"
      ],
      "text/plain": [
       "    invoice_id branch       city customer_type  gender  \\\n",
       "0  750-67-8428      A     Yangon        Member  Female   \n",
       "1  226-31-3081      C  Naypyitaw        Normal  Female   \n",
       "2  631-41-3108      A     Yangon        Normal    Male   \n",
       "3  123-19-1176      A     Yangon        Member    Male   \n",
       "4  373-73-7910      A     Yangon        Normal    Male   \n",
       "\n",
       "             product_line  unit_price  quantity  tax_5_pct  total       date  \\\n",
       "0       Health And Beauty       74.69         7      26.14 548.97 2019-01-05   \n",
       "1  Electronic Accessories       15.28         5       3.82  80.22 2019-03-08   \n",
       "2      Home And Lifestyle       46.33         7      16.22 340.53 2019-03-03   \n",
       "3       Health And Beauty       58.22         8      23.29 489.05 2019-01-27   \n",
       "4       Sports And Travel       86.31         7      30.21 634.38 2019-02-08   \n",
       "\n",
       "   purchase_hour      payment   cogs  gross_margin_pct  gross_income  rating  \\\n",
       "0             13     E-Wallet 522.83              4.76         26.14    9.10   \n",
       "1             10         Cash  76.40              4.76          3.82    9.60   \n",
       "2             13  Credit Card 324.31              4.76         16.22    7.40   \n",
       "3             20     E-Wallet 465.76              4.76         23.29    8.40   \n",
       "4             10     E-Wallet 604.17              4.76         30.21    5.30   \n",
       "\n",
       "          customer_profile  customer_id  total_price  \n",
       "0     Yangon_Member_Female            1       522.83  \n",
       "1  Naypyitaw_Normal_Female            2        76.40  \n",
       "2       Yangon_Normal_Male            3       324.31  \n",
       "3       Yangon_Member_Male            4       465.76  \n",
       "4       Yangon_Normal_Male            3       604.17  "
      ]
     },
     "execution_count": 12,
     "metadata": {},
     "output_type": "execute_result"
    }
   ],
   "source": [
    "to_title = [\"product_line\", \"payment\"]\n",
    "for t in to_title:\n",
    "    df[t] = df[t].apply(lambda x: x.title())\n",
    "df.head()"
   ]
  },
  {
   "cell_type": "markdown",
   "metadata": {
    "id": "d6_B081hnyCT"
   },
   "source": [
    "The product line and payment method columns are standardized by converting all text values to title cases. These changes are applied across both categorical variables to ensure uniform capitalization. Modification for each words in these columns are also applied to have its first letter in uppercase and the rest of the letters in lowercase. The validation step involves showcasing the first five rows of the modified data frame. This standardization increases the overall value of the dataset for further visualization and analysis tasks."
   ]
  },
  {
   "cell_type": "code",
   "execution_count": 13,
   "metadata": {
    "colab": {
     "base_uri": "https://localhost:8080/",
     "height": 81
    },
    "executionInfo": {
     "elapsed": 39,
     "status": "ok",
     "timestamp": 1743825571692,
     "user": {
      "displayName": "Hans Darmawan",
      "userId": "08967357686016774806"
     },
     "user_tz": -420
    },
    "id": "mOngW-GzY_1s",
    "outputId": "f86126a7-7598-46d9-95b3-98027bfbecf0"
   },
   "outputs": [
    {
     "data": {
      "text/html": [
       "<div>\n",
       "<style scoped>\n",
       "    .dataframe tbody tr th:only-of-type {\n",
       "        vertical-align: middle;\n",
       "    }\n",
       "\n",
       "    .dataframe tbody tr th {\n",
       "        vertical-align: top;\n",
       "    }\n",
       "\n",
       "    .dataframe thead th {\n",
       "        text-align: right;\n",
       "    }\n",
       "</style>\n",
       "<table border=\"1\" class=\"dataframe\">\n",
       "  <thead>\n",
       "    <tr style=\"text-align: right;\">\n",
       "      <th></th>\n",
       "      <th>index</th>\n",
       "      <th>0</th>\n",
       "    </tr>\n",
       "  </thead>\n",
       "  <tbody>\n",
       "    <tr>\n",
       "      <th>14</th>\n",
       "      <td>gross_margin_pct</td>\n",
       "      <td>1</td>\n",
       "    </tr>\n",
       "  </tbody>\n",
       "</table>\n",
       "</div>"
      ],
      "text/plain": [
       "               index  0\n",
       "14  gross_margin_pct  1"
      ]
     },
     "execution_count": 13,
     "metadata": {},
     "output_type": "execute_result"
    }
   ],
   "source": [
    "df_nunique = df.nunique().reset_index()\n",
    "df_nunique[df_nunique[0]==1]"
   ]
  },
  {
   "cell_type": "markdown",
   "metadata": {
    "id": "XOftJnyGnyCT"
   },
   "source": [
    "To find columns with only one unique value, the dataset is analyzed. Identifying these columns with constant values involves examining features that remain unchanged across all records. For analysis purposes, these columns are typically scrutinized because they do not vary between observations, rendering them uninformative. The results assist in determining which features should be removed from the dataset. Conducting this quality check on the data ensures that it contains only variables that offer valuable information for further analysis."
   ]
  },
  {
   "cell_type": "code",
   "execution_count": 14,
   "metadata": {
    "colab": {
     "base_uri": "https://localhost:8080/",
     "height": 313
    },
    "executionInfo": {
     "elapsed": 66,
     "status": "ok",
     "timestamp": 1743825571725,
     "user": {
      "displayName": "Hans Darmawan",
      "userId": "08967357686016774806"
     },
     "user_tz": -420
    },
    "id": "0Xe9nTqdfUdo",
    "outputId": "86bdd3ab-6714-4c96-b00e-5ee62d8aea5c"
   },
   "outputs": [
    {
     "data": {
      "text/html": [
       "<div>\n",
       "<style scoped>\n",
       "    .dataframe tbody tr th:only-of-type {\n",
       "        vertical-align: middle;\n",
       "    }\n",
       "\n",
       "    .dataframe tbody tr th {\n",
       "        vertical-align: top;\n",
       "    }\n",
       "\n",
       "    .dataframe thead th {\n",
       "        text-align: right;\n",
       "    }\n",
       "</style>\n",
       "<table border=\"1\" class=\"dataframe\">\n",
       "  <thead>\n",
       "    <tr style=\"text-align: right;\">\n",
       "      <th></th>\n",
       "      <th>invoice_id</th>\n",
       "      <th>branch</th>\n",
       "      <th>city</th>\n",
       "      <th>customer_type</th>\n",
       "      <th>gender</th>\n",
       "      <th>product_line</th>\n",
       "      <th>unit_price</th>\n",
       "      <th>quantity</th>\n",
       "      <th>tax_5_pct</th>\n",
       "      <th>total</th>\n",
       "      <th>date</th>\n",
       "      <th>purchase_hour</th>\n",
       "      <th>payment</th>\n",
       "      <th>cogs</th>\n",
       "      <th>gross_income</th>\n",
       "      <th>rating</th>\n",
       "      <th>customer_profile</th>\n",
       "      <th>customer_id</th>\n",
       "      <th>total_price</th>\n",
       "    </tr>\n",
       "  </thead>\n",
       "  <tbody>\n",
       "    <tr>\n",
       "      <th>0</th>\n",
       "      <td>750-67-8428</td>\n",
       "      <td>A</td>\n",
       "      <td>Yangon</td>\n",
       "      <td>Member</td>\n",
       "      <td>Female</td>\n",
       "      <td>Health And Beauty</td>\n",
       "      <td>74.69</td>\n",
       "      <td>7</td>\n",
       "      <td>26.14</td>\n",
       "      <td>548.97</td>\n",
       "      <td>2019-01-05</td>\n",
       "      <td>13</td>\n",
       "      <td>E-Wallet</td>\n",
       "      <td>522.83</td>\n",
       "      <td>26.14</td>\n",
       "      <td>9.10</td>\n",
       "      <td>Yangon_Member_Female</td>\n",
       "      <td>1</td>\n",
       "      <td>522.83</td>\n",
       "    </tr>\n",
       "    <tr>\n",
       "      <th>1</th>\n",
       "      <td>226-31-3081</td>\n",
       "      <td>C</td>\n",
       "      <td>Naypyitaw</td>\n",
       "      <td>Normal</td>\n",
       "      <td>Female</td>\n",
       "      <td>Electronic Accessories</td>\n",
       "      <td>15.28</td>\n",
       "      <td>5</td>\n",
       "      <td>3.82</td>\n",
       "      <td>80.22</td>\n",
       "      <td>2019-03-08</td>\n",
       "      <td>10</td>\n",
       "      <td>Cash</td>\n",
       "      <td>76.40</td>\n",
       "      <td>3.82</td>\n",
       "      <td>9.60</td>\n",
       "      <td>Naypyitaw_Normal_Female</td>\n",
       "      <td>2</td>\n",
       "      <td>76.40</td>\n",
       "    </tr>\n",
       "    <tr>\n",
       "      <th>2</th>\n",
       "      <td>631-41-3108</td>\n",
       "      <td>A</td>\n",
       "      <td>Yangon</td>\n",
       "      <td>Normal</td>\n",
       "      <td>Male</td>\n",
       "      <td>Home And Lifestyle</td>\n",
       "      <td>46.33</td>\n",
       "      <td>7</td>\n",
       "      <td>16.22</td>\n",
       "      <td>340.53</td>\n",
       "      <td>2019-03-03</td>\n",
       "      <td>13</td>\n",
       "      <td>Credit Card</td>\n",
       "      <td>324.31</td>\n",
       "      <td>16.22</td>\n",
       "      <td>7.40</td>\n",
       "      <td>Yangon_Normal_Male</td>\n",
       "      <td>3</td>\n",
       "      <td>324.31</td>\n",
       "    </tr>\n",
       "    <tr>\n",
       "      <th>3</th>\n",
       "      <td>123-19-1176</td>\n",
       "      <td>A</td>\n",
       "      <td>Yangon</td>\n",
       "      <td>Member</td>\n",
       "      <td>Male</td>\n",
       "      <td>Health And Beauty</td>\n",
       "      <td>58.22</td>\n",
       "      <td>8</td>\n",
       "      <td>23.29</td>\n",
       "      <td>489.05</td>\n",
       "      <td>2019-01-27</td>\n",
       "      <td>20</td>\n",
       "      <td>E-Wallet</td>\n",
       "      <td>465.76</td>\n",
       "      <td>23.29</td>\n",
       "      <td>8.40</td>\n",
       "      <td>Yangon_Member_Male</td>\n",
       "      <td>4</td>\n",
       "      <td>465.76</td>\n",
       "    </tr>\n",
       "    <tr>\n",
       "      <th>4</th>\n",
       "      <td>373-73-7910</td>\n",
       "      <td>A</td>\n",
       "      <td>Yangon</td>\n",
       "      <td>Normal</td>\n",
       "      <td>Male</td>\n",
       "      <td>Sports And Travel</td>\n",
       "      <td>86.31</td>\n",
       "      <td>7</td>\n",
       "      <td>30.21</td>\n",
       "      <td>634.38</td>\n",
       "      <td>2019-02-08</td>\n",
       "      <td>10</td>\n",
       "      <td>E-Wallet</td>\n",
       "      <td>604.17</td>\n",
       "      <td>30.21</td>\n",
       "      <td>5.30</td>\n",
       "      <td>Yangon_Normal_Male</td>\n",
       "      <td>3</td>\n",
       "      <td>604.17</td>\n",
       "    </tr>\n",
       "  </tbody>\n",
       "</table>\n",
       "</div>"
      ],
      "text/plain": [
       "    invoice_id branch       city customer_type  gender  \\\n",
       "0  750-67-8428      A     Yangon        Member  Female   \n",
       "1  226-31-3081      C  Naypyitaw        Normal  Female   \n",
       "2  631-41-3108      A     Yangon        Normal    Male   \n",
       "3  123-19-1176      A     Yangon        Member    Male   \n",
       "4  373-73-7910      A     Yangon        Normal    Male   \n",
       "\n",
       "             product_line  unit_price  quantity  tax_5_pct  total       date  \\\n",
       "0       Health And Beauty       74.69         7      26.14 548.97 2019-01-05   \n",
       "1  Electronic Accessories       15.28         5       3.82  80.22 2019-03-08   \n",
       "2      Home And Lifestyle       46.33         7      16.22 340.53 2019-03-03   \n",
       "3       Health And Beauty       58.22         8      23.29 489.05 2019-01-27   \n",
       "4       Sports And Travel       86.31         7      30.21 634.38 2019-02-08   \n",
       "\n",
       "   purchase_hour      payment   cogs  gross_income  rating  \\\n",
       "0             13     E-Wallet 522.83         26.14    9.10   \n",
       "1             10         Cash  76.40          3.82    9.60   \n",
       "2             13  Credit Card 324.31         16.22    7.40   \n",
       "3             20     E-Wallet 465.76         23.29    8.40   \n",
       "4             10     E-Wallet 604.17         30.21    5.30   \n",
       "\n",
       "          customer_profile  customer_id  total_price  \n",
       "0     Yangon_Member_Female            1       522.83  \n",
       "1  Naypyitaw_Normal_Female            2        76.40  \n",
       "2       Yangon_Normal_Male            3       324.31  \n",
       "3       Yangon_Member_Male            4       465.76  \n",
       "4       Yangon_Normal_Male            3       604.17  "
      ]
     },
     "execution_count": 14,
     "metadata": {},
     "output_type": "execute_result"
    }
   ],
   "source": [
    "df = df.drop(columns=[\"gross_margin_pct\"])\n",
    "df.head()"
   ]
  },
  {
   "cell_type": "markdown",
   "metadata": {
    "id": "2mOsk-jXnyCU"
   },
   "source": [
    "The gross_margin_pct column is removed during feature selection.  Percentage metrics are avoided because they repeat data from other financial columns or complicate analysis.  Removing redundant variables with no unique values reduces the dataset.  It prepares the model to analyze only key financial parameters. The dataset's structure and remaining columns are unaffected by this operation.  Reducing dimensionality improves dataset usability for future machine learning algorithms and business intelligence reporting tools.  When citing intuitive business values like gross income or total sales, erasing this percentage figure is crucial."
   ]
  },
  {
   "cell_type": "code",
   "execution_count": 15,
   "metadata": {
    "colab": {
     "base_uri": "https://localhost:8080/"
    },
    "executionInfo": {
     "elapsed": 15,
     "status": "ok",
     "timestamp": 1743825571741,
     "user": {
      "displayName": "Hans Darmawan",
      "userId": "08967357686016774806"
     },
     "user_tz": -420
    },
    "id": "-RMEzeJGgnLW",
    "outputId": "91d6d2b6-0da5-4f71-ae82-3763624a1447"
   },
   "outputs": [
    {
     "name": "stdout",
     "output_type": "stream",
     "text": [
      "<class 'pandas.core.frame.DataFrame'>\n",
      "RangeIndex: 1000 entries, 0 to 999\n",
      "Data columns (total 19 columns):\n",
      " #   Column            Non-Null Count  Dtype         \n",
      "---  ------            --------------  -----         \n",
      " 0   invoice_id        1000 non-null   object        \n",
      " 1   branch            1000 non-null   category      \n",
      " 2   city              1000 non-null   category      \n",
      " 3   customer_type     1000 non-null   category      \n",
      " 4   gender            1000 non-null   category      \n",
      " 5   product_line      1000 non-null   category      \n",
      " 6   unit_price        1000 non-null   float64       \n",
      " 7   quantity          1000 non-null   int64         \n",
      " 8   tax_5_pct         1000 non-null   float64       \n",
      " 9   total             1000 non-null   float64       \n",
      " 10  date              1000 non-null   datetime64[ns]\n",
      " 11  purchase_hour     1000 non-null   int64         \n",
      " 12  payment           1000 non-null   category      \n",
      " 13  cogs              1000 non-null   float64       \n",
      " 14  gross_income      1000 non-null   float64       \n",
      " 15  rating            1000 non-null   float64       \n",
      " 16  customer_profile  1000 non-null   object        \n",
      " 17  customer_id       1000 non-null   int64         \n",
      " 18  total_price       1000 non-null   float64       \n",
      "dtypes: category(6), datetime64[ns](1), float64(7), int64(3), object(2)\n",
      "memory usage: 108.4+ KB\n"
     ]
    }
   ],
   "source": [
    "df.info()"
   ]
  },
  {
   "cell_type": "markdown",
   "metadata": {
    "id": "HsPKfyMInyCU"
   },
   "source": [
    "At first, the DataFrame included 18 columns and contained 1000 rows. The “After” state reveals that the columns have been updated to 20, while the number of entries remains unchanged. A number of the columns have had their data types changed. In particular, the “branch,” “city,” “customer_type,” “gender,” “product_line,” and “payment” columns have been transformed from “object” to “categorical” types. The “date” column had its type changed from “object” to “datetime64[ns].” Moreover, the column “tax_5” was altered to “tax_5_pct.” Following this, two new columns were introduced: “customer_profile” and “customer_id.” The column “customer_profile” is an “object” type, whereas “customer_id” is categorised as “int64.” Lastly, the new column “total_price” was introduced with a “float64” type. Overall, these modifications indicate that the DataFrame underwent optimisation regarding data types and to enhance memory efficiency while multi-faceted new features were added to facilitate advanced data analysis. Moreover, the memory usage decreased from 140.8 + KB to 116.2 + KB."
   ]
  },
  {
   "cell_type": "markdown",
   "metadata": {
    "id": "_Kk2nz88N0GZ"
   },
   "source": [
    "# Calculating LRFM Values\n",
    "\n",
    "The LRFM (Length, Recency, Frequency, Monetary) values are calculated to assess what specific value and behavior a customer accounts for. Length is the duration from a customer’s first to their last transaction, while recency measures how much time has passed since the previous purchase. Frequency represents the total number of recorded transactions, and monetary value is the overall spending of each customer. All metrics are combined to construct a singular LRFM score, which, alongside the weighted and standardized metrics, allows customer segmentation. Thereafter, the scores undergo evaluation to categorize the customers into different classes as loyal, at-risk, or high-value. Segmentation enables the customization of marketing strategies to enhance customer retention."
   ]
  },
  {
   "cell_type": "markdown",
   "metadata": {
    "id": "Er96PbE4nyCc"
   },
   "source": [
    "## Length and Recency"
   ]
  },
  {
   "cell_type": "markdown",
   "metadata": {
    "id": "zkwaoI0VnyCc"
   },
   "source": [
    "A customer length metric is calculated by taking the time between a customer’s first transaction and their last transaction. The time period measured shows in number of days signifies the time period a customer has been associated with a company. Like many other measures, this has been found useful in classifying customers as long-term customers or short-term customers. This metric, and other similar ones, help distinguish the degree of loyalty and retention a customer has with the company. The greater the length value, the greater the loyalty."
   ]
  },
  {
   "cell_type": "code",
   "execution_count": 16,
   "metadata": {
    "colab": {
     "base_uri": "https://localhost:8080/"
    },
    "executionInfo": {
     "elapsed": 18,
     "status": "ok",
     "timestamp": 1743825571765,
     "user": {
      "displayName": "Hans Darmawan",
      "userId": "08967357686016774806"
     },
     "user_tz": -420
    },
    "id": "WZ9xigrcN0Ga",
    "outputId": "7062c932-d39a-4d19-f505-0851de19067d"
   },
   "outputs": [
    {
     "data": {
      "text/plain": [
       "Timestamp('2019-03-31 00:00:00')"
      ]
     },
     "execution_count": 16,
     "metadata": {},
     "output_type": "execute_result"
    }
   ],
   "source": [
    "analysis_date = df['date'].max() + datetime.timedelta(1)\n",
    "analysis_date"
   ]
  },
  {
   "cell_type": "markdown",
   "metadata": {
    "id": "NvFSLLILnyCd"
   },
   "source": [
    "The recency score stands for the time passed since the last purchase was made. The calculation involves determining how many calendar days elapsed between the analysis date and the customer's last order date. A lower number indicates more recent activity whereas a higher score signifies lesser activity. Knowing such values assists in identifying one of the customer segments that may be at risk and require re-engagement efforts to be brought back.  "
   ]
  },
  {
   "cell_type": "code",
   "execution_count": 17,
   "metadata": {
    "colab": {
     "base_uri": "https://localhost:8080/",
     "height": 238
    },
    "executionInfo": {
     "elapsed": 50,
     "status": "ok",
     "timestamp": 1743825571814,
     "user": {
      "displayName": "Hans Darmawan",
      "userId": "08967357686016774806"
     },
     "user_tz": -420
    },
    "id": "Uhd7kpkUN0Ga",
    "outputId": "e61882bc-3a07-46fc-c2bc-ca156ce41f60"
   },
   "outputs": [
    {
     "data": {
      "text/html": [
       "<div>\n",
       "<style scoped>\n",
       "    .dataframe tbody tr th:only-of-type {\n",
       "        vertical-align: middle;\n",
       "    }\n",
       "\n",
       "    .dataframe tbody tr th {\n",
       "        vertical-align: top;\n",
       "    }\n",
       "\n",
       "    .dataframe thead th {\n",
       "        text-align: right;\n",
       "    }\n",
       "</style>\n",
       "<table border=\"1\" class=\"dataframe\">\n",
       "  <thead>\n",
       "    <tr style=\"text-align: right;\">\n",
       "      <th></th>\n",
       "      <th>length</th>\n",
       "      <th>recency</th>\n",
       "    </tr>\n",
       "    <tr>\n",
       "      <th>customer_id</th>\n",
       "      <th></th>\n",
       "      <th></th>\n",
       "    </tr>\n",
       "  </thead>\n",
       "  <tbody>\n",
       "    <tr>\n",
       "      <th>1</th>\n",
       "      <td>89</td>\n",
       "      <td>1</td>\n",
       "    </tr>\n",
       "    <tr>\n",
       "      <th>5</th>\n",
       "      <td>89</td>\n",
       "      <td>1</td>\n",
       "    </tr>\n",
       "    <tr>\n",
       "      <th>2</th>\n",
       "      <td>89</td>\n",
       "      <td>3</td>\n",
       "    </tr>\n",
       "    <tr>\n",
       "      <th>3</th>\n",
       "      <td>89</td>\n",
       "      <td>3</td>\n",
       "    </tr>\n",
       "    <tr>\n",
       "      <th>4</th>\n",
       "      <td>89</td>\n",
       "      <td>3</td>\n",
       "    </tr>\n",
       "  </tbody>\n",
       "</table>\n",
       "</div>"
      ],
      "text/plain": [
       "             length  recency\n",
       "customer_id                 \n",
       "1                89        1\n",
       "5                89        1\n",
       "2                89        3\n",
       "3                89        3\n",
       "4                89        3"
      ]
     },
     "execution_count": 17,
     "metadata": {},
     "output_type": "execute_result"
    }
   ],
   "source": [
    "df_length_recency = df.groupby('customer_id').agg(\n",
    "    length=('date', lambda x: (analysis_date - x.min()).days),\n",
    "    recency=('date', lambda x: (analysis_date - x.max()).days),\n",
    ")\n",
    "\n",
    "df_length_recency.head().sort_values(\"length\", ascending=False).sort_values(\"recency\")"
   ]
  },
  {
   "cell_type": "markdown",
   "metadata": {
    "id": "sK-A1LBzN0Gb"
   },
   "source": [
    "## Frequency\n",
    "The Frequency value is determined by counting the total number of transactions made by each customer within the observed period. Customers with higher Frequency scores are considered more engaged, as they make purchases more often. This metric helps distinguish between occasional buyers and repeat purchasers, allowing for targeted retention strategies.\n"
   ]
  },
  {
   "cell_type": "code",
   "execution_count": 18,
   "metadata": {
    "colab": {
     "base_uri": "https://localhost:8080/",
     "height": 238
    },
    "executionInfo": {
     "elapsed": 61,
     "status": "ok",
     "timestamp": 1743825571877,
     "user": {
      "displayName": "Hans Darmawan",
      "userId": "08967357686016774806"
     },
     "user_tz": -420
    },
    "id": "8oFaV35YN0Gb",
    "outputId": "e68e3fe7-da70-44a8-d9cc-9e03df91d182"
   },
   "outputs": [
    {
     "data": {
      "text/html": [
       "<div>\n",
       "<style scoped>\n",
       "    .dataframe tbody tr th:only-of-type {\n",
       "        vertical-align: middle;\n",
       "    }\n",
       "\n",
       "    .dataframe tbody tr th {\n",
       "        vertical-align: top;\n",
       "    }\n",
       "\n",
       "    .dataframe thead th {\n",
       "        text-align: right;\n",
       "    }\n",
       "</style>\n",
       "<table border=\"1\" class=\"dataframe\">\n",
       "  <thead>\n",
       "    <tr style=\"text-align: right;\">\n",
       "      <th></th>\n",
       "      <th>frequency</th>\n",
       "    </tr>\n",
       "    <tr>\n",
       "      <th>customer_id</th>\n",
       "      <th></th>\n",
       "    </tr>\n",
       "  </thead>\n",
       "  <tbody>\n",
       "    <tr>\n",
       "      <th>3</th>\n",
       "      <td>92</td>\n",
       "    </tr>\n",
       "    <tr>\n",
       "      <th>4</th>\n",
       "      <td>87</td>\n",
       "    </tr>\n",
       "    <tr>\n",
       "      <th>2</th>\n",
       "      <td>82</td>\n",
       "    </tr>\n",
       "    <tr>\n",
       "      <th>1</th>\n",
       "      <td>80</td>\n",
       "    </tr>\n",
       "    <tr>\n",
       "      <th>5</th>\n",
       "      <td>77</td>\n",
       "    </tr>\n",
       "  </tbody>\n",
       "</table>\n",
       "</div>"
      ],
      "text/plain": [
       "             frequency\n",
       "customer_id           \n",
       "3                   92\n",
       "4                   87\n",
       "2                   82\n",
       "1                   80\n",
       "5                   77"
      ]
     },
     "execution_count": 18,
     "metadata": {},
     "output_type": "execute_result"
    }
   ],
   "source": [
    "df_frequency = df.groupby('customer_id').agg(\n",
    "    frequency=('invoice_id', lambda x: x.nunique())\n",
    ")\n",
    "\n",
    "df_frequency.head().sort_values(\"frequency\", ascending=False)"
   ]
  },
  {
   "cell_type": "markdown",
   "metadata": {
    "id": "hOhPt-BAN0Gc"
   },
   "source": [
    "## Monetary\n",
    "\n",
    "Monetary value is calculated by estimating total spend of a customer from all purchases with the transaction held. This measurement captures the customer’s total contribution to the revenue. A low score means the customer is low-value, but high monetary score is associated with high-value customers. This information allows businesses to tailor their offers, like loyalty programs directed at the high-value customers who need to be retained preferably for long-term sustenance."
   ]
  },
  {
   "cell_type": "code",
   "execution_count": 19,
   "metadata": {
    "colab": {
     "base_uri": "https://localhost:8080/",
     "height": 238
    },
    "executionInfo": {
     "elapsed": 8,
     "status": "ok",
     "timestamp": 1743825571878,
     "user": {
      "displayName": "Hans Darmawan",
      "userId": "08967357686016774806"
     },
     "user_tz": -420
    },
    "id": "xEhhYOayN0Gd",
    "outputId": "34d6677a-bcfa-4790-9e97-6f81e749d668"
   },
   "outputs": [
    {
     "data": {
      "text/html": [
       "<div>\n",
       "<style scoped>\n",
       "    .dataframe tbody tr th:only-of-type {\n",
       "        vertical-align: middle;\n",
       "    }\n",
       "\n",
       "    .dataframe tbody tr th {\n",
       "        vertical-align: top;\n",
       "    }\n",
       "\n",
       "    .dataframe thead th {\n",
       "        text-align: right;\n",
       "    }\n",
       "</style>\n",
       "<table border=\"1\" class=\"dataframe\">\n",
       "  <thead>\n",
       "    <tr style=\"text-align: right;\">\n",
       "      <th></th>\n",
       "      <th>monetary</th>\n",
       "    </tr>\n",
       "    <tr>\n",
       "      <th>customer_id</th>\n",
       "      <th></th>\n",
       "    </tr>\n",
       "  </thead>\n",
       "  <tbody>\n",
       "    <tr>\n",
       "      <th>2</th>\n",
       "      <td>25744.78</td>\n",
       "    </tr>\n",
       "    <tr>\n",
       "      <th>4</th>\n",
       "      <td>25708.96</td>\n",
       "    </tr>\n",
       "    <tr>\n",
       "      <th>5</th>\n",
       "      <td>25386.10</td>\n",
       "    </tr>\n",
       "    <tr>\n",
       "      <th>1</th>\n",
       "      <td>25374.35</td>\n",
       "    </tr>\n",
       "    <tr>\n",
       "      <th>3</th>\n",
       "      <td>24701.71</td>\n",
       "    </tr>\n",
       "  </tbody>\n",
       "</table>\n",
       "</div>"
      ],
      "text/plain": [
       "             monetary\n",
       "customer_id          \n",
       "2            25744.78\n",
       "4            25708.96\n",
       "5            25386.10\n",
       "1            25374.35\n",
       "3            24701.71"
      ]
     },
     "execution_count": 19,
     "metadata": {},
     "output_type": "execute_result"
    }
   ],
   "source": [
    "df_monetary = df.groupby('customer_id').agg(\n",
    "    monetary=('total_price', 'sum'),\n",
    ")\n",
    "\n",
    "df_monetary.head().sort_values(\"monetary\", ascending=False)"
   ]
  },
  {
   "cell_type": "code",
   "execution_count": 20,
   "metadata": {
    "colab": {
     "base_uri": "https://localhost:8080/",
     "height": 238
    },
    "executionInfo": {
     "elapsed": 7,
     "status": "ok",
     "timestamp": 1743825571882,
     "user": {
      "displayName": "Hans Darmawan",
      "userId": "08967357686016774806"
     },
     "user_tz": -420
    },
    "id": "iHsCj5J-N0Ge",
    "outputId": "43584657-de75-48ea-fefa-8e150b8f0718"
   },
   "outputs": [
    {
     "data": {
      "text/html": [
       "<div>\n",
       "<style scoped>\n",
       "    .dataframe tbody tr th:only-of-type {\n",
       "        vertical-align: middle;\n",
       "    }\n",
       "\n",
       "    .dataframe tbody tr th {\n",
       "        vertical-align: top;\n",
       "    }\n",
       "\n",
       "    .dataframe thead th {\n",
       "        text-align: right;\n",
       "    }\n",
       "</style>\n",
       "<table border=\"1\" class=\"dataframe\">\n",
       "  <thead>\n",
       "    <tr style=\"text-align: right;\">\n",
       "      <th></th>\n",
       "      <th>length</th>\n",
       "      <th>recency</th>\n",
       "      <th>frequency</th>\n",
       "      <th>monetary</th>\n",
       "    </tr>\n",
       "    <tr>\n",
       "      <th>customer_id</th>\n",
       "      <th></th>\n",
       "      <th></th>\n",
       "      <th></th>\n",
       "      <th></th>\n",
       "    </tr>\n",
       "  </thead>\n",
       "  <tbody>\n",
       "    <tr>\n",
       "      <th>1</th>\n",
       "      <td>89</td>\n",
       "      <td>1</td>\n",
       "      <td>80</td>\n",
       "      <td>25374.35</td>\n",
       "    </tr>\n",
       "    <tr>\n",
       "      <th>5</th>\n",
       "      <td>89</td>\n",
       "      <td>1</td>\n",
       "      <td>77</td>\n",
       "      <td>25386.10</td>\n",
       "    </tr>\n",
       "    <tr>\n",
       "      <th>3</th>\n",
       "      <td>89</td>\n",
       "      <td>3</td>\n",
       "      <td>92</td>\n",
       "      <td>24701.71</td>\n",
       "    </tr>\n",
       "    <tr>\n",
       "      <th>4</th>\n",
       "      <td>89</td>\n",
       "      <td>3</td>\n",
       "      <td>87</td>\n",
       "      <td>25708.96</td>\n",
       "    </tr>\n",
       "    <tr>\n",
       "      <th>2</th>\n",
       "      <td>89</td>\n",
       "      <td>3</td>\n",
       "      <td>82</td>\n",
       "      <td>25744.78</td>\n",
       "    </tr>\n",
       "  </tbody>\n",
       "</table>\n",
       "</div>"
      ],
      "text/plain": [
       "             length  recency  frequency  monetary\n",
       "customer_id                                      \n",
       "1                89        1         80  25374.35\n",
       "5                89        1         77  25386.10\n",
       "3                89        3         92  24701.71\n",
       "4                89        3         87  25708.96\n",
       "2                89        3         82  25744.78"
      ]
     },
     "execution_count": 20,
     "metadata": {},
     "output_type": "execute_result"
    }
   ],
   "source": [
    "df_customer = df.groupby('customer_id').agg(\n",
    "    length=('date', lambda x: (analysis_date - x.min()).days),\n",
    "    recency=('date', lambda x: (analysis_date - x.max()).days),\n",
    "    frequency=('invoice_id', lambda x: x.nunique()),\n",
    "    monetary=('total_price', 'sum'),\n",
    ")\n",
    "\n",
    "df_customer.head().sort_values([\"length\",\"frequency\",\"monetary\"], ascending=False).sort_values(\"recency\")"
   ]
  },
  {
   "cell_type": "markdown",
   "metadata": {
    "id": "mgMq4kN8nyCf"
   },
   "source": [
    "Having determined these figures, they are standardized and merged into a composite LRFM score. Customers are then assigned to segments (e.g., loyal, at-risk, or high-value) for more precise marketing efforts. This analysis is key to improving customer retention and maximizing revenue potential."
   ]
  },
  {
   "cell_type": "markdown",
   "metadata": {
    "id": "01g4Wh6wN0Gf"
   },
   "source": [
    "# Assigning Scores\n",
    "\n",
    "- Rule Based: *Frequency*\n",
    "- Statistical Approach: *Length, Recency,* dan *Monetary*"
   ]
  },
  {
   "cell_type": "markdown",
   "metadata": {
    "id": "XFIRlX8zN0Gf"
   },
   "source": [
    "## Length Segmentation\n",
    "\n",
    "Length segmentation aims to analyze how long a customer has been engaged with a business, measuring the duration of their relationship since their first purchase. This segmentation helps businesses understand customer loyalty, lifetime value, and retention trends to develop more effective customer engagement strategies."
   ]
  },
  {
   "cell_type": "code",
   "execution_count": 21,
   "metadata": {
    "colab": {
     "base_uri": "https://localhost:8080/",
     "height": 487
    },
    "executionInfo": {
     "elapsed": 305,
     "status": "ok",
     "timestamp": 1743825572188,
     "user": {
      "displayName": "Hans Darmawan",
      "userId": "08967357686016774806"
     },
     "user_tz": -420
    },
    "id": "cOHf7lcZdfVE",
    "outputId": "d582b728-8501-4108-ad44-310228077846"
   },
   "outputs": [
    {
     "data": {
      "image/png": "[encoded data removed]",
      "text/plain": [
       "<Figure size 750x500 with 2 Axes>"
      ]
     },
     "metadata": {},
     "output_type": "display_data"
    }
   ],
   "source": [
    "fig, (ax_top, ax_bot) = plt.subplots(\n",
    "                            nrows=2,\n",
    "                            ncols=1,\n",
    "                            figsize=(7.5, 5),\n",
    "                            gridspec_kw={\n",
    "                                \"height_ratios\": (0.15, 0.85),\n",
    "                                \"hspace\": 0.05\n",
    "                            }\n",
    "                        )\n",
    "\n",
    "sns.boxplot(data=df_customer, x=\"length\", ax=ax_top)\n",
    "sns.histplot(data=df_customer, x=\"length\", ax=ax_bot)\n",
    "\n",
    "ax_top.set(\n",
    "    title=\"Duration of Customer Relationships by Days\"\n",
    ")\n",
    "\n",
    "plt.show()"
   ]
  },
  {
   "cell_type": "code",
   "execution_count": 22,
   "metadata": {
    "colab": {
     "base_uri": "https://localhost:8080/",
     "height": 458
    },
    "executionInfo": {
     "elapsed": 68,
     "status": "ok",
     "timestamp": 1743825572255,
     "user": {
      "displayName": "Hans Darmawan",
      "userId": "08967357686016774806"
     },
     "user_tz": -420
    },
    "id": "cU8SBtTBdlHx",
    "outputId": "a45710cd-ca19-4a61-9ce9-f490316383a5"
   },
   "outputs": [
    {
     "data": {
      "text/html": [
       "<div>\n",
       "<style scoped>\n",
       "    .dataframe tbody tr th:only-of-type {\n",
       "        vertical-align: middle;\n",
       "    }\n",
       "\n",
       "    .dataframe tbody tr th {\n",
       "        vertical-align: top;\n",
       "    }\n",
       "\n",
       "    .dataframe thead th {\n",
       "        text-align: right;\n",
       "    }\n",
       "</style>\n",
       "<table border=\"1\" class=\"dataframe\">\n",
       "  <thead>\n",
       "    <tr style=\"text-align: right;\">\n",
       "      <th></th>\n",
       "      <th>length</th>\n",
       "      <th>recency</th>\n",
       "      <th>frequency</th>\n",
       "      <th>monetary</th>\n",
       "      <th>l_score</th>\n",
       "    </tr>\n",
       "    <tr>\n",
       "      <th>customer_id</th>\n",
       "      <th></th>\n",
       "      <th></th>\n",
       "      <th></th>\n",
       "      <th></th>\n",
       "      <th></th>\n",
       "    </tr>\n",
       "  </thead>\n",
       "  <tbody>\n",
       "    <tr>\n",
       "      <th>1</th>\n",
       "      <td>89</td>\n",
       "      <td>1</td>\n",
       "      <td>80</td>\n",
       "      <td>25374.35</td>\n",
       "      <td>1</td>\n",
       "    </tr>\n",
       "    <tr>\n",
       "      <th>2</th>\n",
       "      <td>89</td>\n",
       "      <td>3</td>\n",
       "      <td>82</td>\n",
       "      <td>25744.78</td>\n",
       "      <td>1</td>\n",
       "    </tr>\n",
       "    <tr>\n",
       "      <th>3</th>\n",
       "      <td>89</td>\n",
       "      <td>3</td>\n",
       "      <td>92</td>\n",
       "      <td>24701.71</td>\n",
       "      <td>1</td>\n",
       "    </tr>\n",
       "    <tr>\n",
       "      <th>4</th>\n",
       "      <td>89</td>\n",
       "      <td>3</td>\n",
       "      <td>87</td>\n",
       "      <td>25708.96</td>\n",
       "      <td>1</td>\n",
       "    </tr>\n",
       "    <tr>\n",
       "      <th>5</th>\n",
       "      <td>89</td>\n",
       "      <td>1</td>\n",
       "      <td>77</td>\n",
       "      <td>25386.10</td>\n",
       "      <td>1</td>\n",
       "    </tr>\n",
       "  </tbody>\n",
       "</table>\n",
       "</div>"
      ],
      "text/plain": [
       "             length  recency  frequency  monetary  l_score\n",
       "customer_id                                               \n",
       "1                89        1         80  25374.35        1\n",
       "2                89        3         82  25744.78        1\n",
       "3                89        3         92  24701.71        1\n",
       "4                89        3         87  25708.96        1\n",
       "5                89        1         77  25386.10        1"
      ]
     },
     "metadata": {},
     "output_type": "display_data"
    },
    {
     "data": {
      "text/html": [
       "<div>\n",
       "<style scoped>\n",
       "    .dataframe tbody tr th:only-of-type {\n",
       "        vertical-align: middle;\n",
       "    }\n",
       "\n",
       "    .dataframe tbody tr th {\n",
       "        vertical-align: top;\n",
       "    }\n",
       "\n",
       "    .dataframe thead th {\n",
       "        text-align: right;\n",
       "    }\n",
       "</style>\n",
       "<table border=\"1\" class=\"dataframe\">\n",
       "  <thead>\n",
       "    <tr style=\"text-align: right;\">\n",
       "      <th></th>\n",
       "      <th>recency</th>\n",
       "      <th>frequency</th>\n",
       "      <th>monetary</th>\n",
       "    </tr>\n",
       "    <tr>\n",
       "      <th>customer_id</th>\n",
       "      <th></th>\n",
       "      <th></th>\n",
       "      <th></th>\n",
       "    </tr>\n",
       "  </thead>\n",
       "  <tbody>\n",
       "    <tr>\n",
       "      <th>1</th>\n",
       "      <td>1</td>\n",
       "      <td>80</td>\n",
       "      <td>25374.35</td>\n",
       "    </tr>\n",
       "    <tr>\n",
       "      <th>2</th>\n",
       "      <td>3</td>\n",
       "      <td>82</td>\n",
       "      <td>25744.78</td>\n",
       "    </tr>\n",
       "    <tr>\n",
       "      <th>3</th>\n",
       "      <td>3</td>\n",
       "      <td>92</td>\n",
       "      <td>24701.71</td>\n",
       "    </tr>\n",
       "    <tr>\n",
       "      <th>4</th>\n",
       "      <td>3</td>\n",
       "      <td>87</td>\n",
       "      <td>25708.96</td>\n",
       "    </tr>\n",
       "    <tr>\n",
       "      <th>5</th>\n",
       "      <td>1</td>\n",
       "      <td>77</td>\n",
       "      <td>25386.10</td>\n",
       "    </tr>\n",
       "  </tbody>\n",
       "</table>\n",
       "</div>"
      ],
      "text/plain": [
       "             recency  frequency  monetary\n",
       "customer_id                              \n",
       "1                  1         80  25374.35\n",
       "2                  3         82  25744.78\n",
       "3                  3         92  24701.71\n",
       "4                  3         87  25708.96\n",
       "5                  1         77  25386.10"
      ]
     },
     "metadata": {},
     "output_type": "display_data"
    }
   ],
   "source": [
    "# Dynamically adjust labels based on the number of bins\n",
    "bin_edges = pd.qcut(\n",
    "    df_customer[\"length\"],\n",
    "    q=4,\n",
    "    duplicates=\"drop\",\n",
    "    retbins=True\n",
    ")[1]  # Get the bin edges\n",
    "\n",
    "\n",
    "# Create labels based on the number of bins\n",
    "labels = list(range(1, len(bin_edges)))\n",
    "labels\n",
    "\n",
    "# Apply qcut with the adjusted labels\n",
    "df_customer[\"l_score\"] = pd.qcut(\n",
    "    df_customer[\"length\"],\n",
    "    q=4,\n",
    "    labels=labels,\n",
    "    duplicates=\"drop\"\n",
    ").astype(int)\n",
    "display(df_customer.head())\n",
    "df_customer = df_customer.drop(columns=[\"length\", \"l_score\"])\n",
    "display(df_customer.head())"
   ]
  },
  {
   "cell_type": "markdown",
   "metadata": {
    "id": "tnmwocNI_4YB"
   },
   "source": [
    "We found out that l_score shows the same values (1), meaning they are all new customers in the Supermarket. Because of that, \"length\" and \"l_score\" columns will be dropped."
   ]
  },
  {
   "cell_type": "markdown",
   "metadata": {
    "id": "AHpm0i5h_1Ag"
   },
   "source": [
    "Insight:\n",
    "\n",
    "1. Majority of Customers Have Similar Relationship Duration\n",
    "    - From the descriptive statistics, both the mean and median (50%) are nearly the same, around 88.75 - 89 days, indicating that most customers have a similar duration of engagement with the supermarket. The histogram further confirms this, showing that the majority of customers have a length close to 89 days, meaning customers tend to maintain their relationship within a consistent timeframe.\n",
    "\n",
    "2. Low Variation in Customer Duration\n",
    "    - The standard deviation (std) = 0.62 is very small, suggesting that the variability in customer relationship duration is extremely low. There is no significant difference between the lower quartile (25%) and the upper quartile (75%), meaning that most customers remain engaged for almost the same duration. This consistency may indicate that the supermarket has a stable loyalty strategy, ensuring that customers stay for a predictable period.\n",
    "\n",
    "3. Outliers Identified in the Boxplot\n",
    "    - The boxplot reveals the presence of outliers below the main distribution, indicating that some customers have a shorter relationship duration than the majority. These customers may have joined recently or left earlier than expected. Further analysis is needed to determine whether these short-term customers exhibit different purchasing patterns and whether strategies can be applied to improve their retention.\n",
    "\n",
    "\n",
    "Conclusion and Recommendations:\n",
    "\n",
    "The data suggests customer stability, as most customers maintain a consistent relationship duration, potentially reflecting a successful loyalty program or routine shopping behavior. Given the low variation, the supermarket can focus on strategies to increase customer lifetime value and extend their engagement. Additionally, it is important to analyze outliers to understand why some customers leave earlier and whether low engagement, dissatisfaction, or other factors contribute to this trend. These insights can help the supermarket optimize its retention strategy for long-term customer relationships."
   ]
  },
  {
   "cell_type": "markdown",
   "metadata": {
    "id": "jOKBxloDN0Gh"
   },
   "source": [
    "## Recency Segmentation\n",
    "\n",
    "Recency segmentation aims to analyze how recently customers have made a purchase to better understand their engagement and likelihood of returning. This segmentation is particularly useful for businesses to optimize marketing strategies, improve customer retention, and increase sales."
   ]
  },
  {
   "cell_type": "code",
   "execution_count": 23,
   "metadata": {
    "colab": {
     "base_uri": "https://localhost:8080/",
     "height": 487
    },
    "executionInfo": {
     "elapsed": 201,
     "status": "ok",
     "timestamp": 1743825572454,
     "user": {
      "displayName": "Hans Darmawan",
      "userId": "08967357686016774806"
     },
     "user_tz": -420
    },
    "id": "BIU65R6Web1C",
    "outputId": "fb8f5fbb-d2aa-40c8-ab12-be7cfc511159"
   },
   "outputs": [
    {
     "data": {
      "image/png": "[encoded data removed]",
      "text/plain": [
       "<Figure size 750x500 with 2 Axes>"
      ]
     },
     "metadata": {},
     "output_type": "display_data"
    }
   ],
   "source": [
    "fig, (ax_top, ax_bot) = plt.subplots(\n",
    "                            nrows=2,\n",
    "                            ncols=1,\n",
    "                            figsize=(7.5, 5),\n",
    "                            gridspec_kw={\n",
    "                                \"height_ratios\": (0.15, 0.85),\n",
    "                                \"hspace\": 0.05\n",
    "                            }\n",
    "                        )\n",
    "\n",
    "sns.boxplot(data=df_customer, x=\"recency\", ax=ax_top)\n",
    "sns.histplot(data=df_customer, x=\"recency\", ax=ax_bot)\n",
    "\n",
    "ax_top.set(\n",
    "    title=\"Last Time Customer Order by Days\"\n",
    ")\n",
    "\n",
    "plt.show()"
   ]
  },
  {
   "cell_type": "code",
   "execution_count": 24,
   "metadata": {
    "colab": {
     "base_uri": "https://localhost:8080/",
     "height": 238
    },
    "executionInfo": {
     "elapsed": 17,
     "status": "ok",
     "timestamp": 1743825572456,
     "user": {
      "displayName": "Hans Darmawan",
      "userId": "08967357686016774806"
     },
     "user_tz": -420
    },
    "id": "lxao9HfkefHM",
    "outputId": "d4405029-876a-46a3-c99c-58e76cf95b50"
   },
   "outputs": [
    {
     "data": {
      "text/html": [
       "<div>\n",
       "<style scoped>\n",
       "    .dataframe tbody tr th:only-of-type {\n",
       "        vertical-align: middle;\n",
       "    }\n",
       "\n",
       "    .dataframe tbody tr th {\n",
       "        vertical-align: top;\n",
       "    }\n",
       "\n",
       "    .dataframe thead th {\n",
       "        text-align: right;\n",
       "    }\n",
       "</style>\n",
       "<table border=\"1\" class=\"dataframe\">\n",
       "  <thead>\n",
       "    <tr style=\"text-align: right;\">\n",
       "      <th></th>\n",
       "      <th>recency</th>\n",
       "      <th>frequency</th>\n",
       "      <th>monetary</th>\n",
       "      <th>r_score</th>\n",
       "    </tr>\n",
       "    <tr>\n",
       "      <th>customer_id</th>\n",
       "      <th></th>\n",
       "      <th></th>\n",
       "      <th></th>\n",
       "      <th></th>\n",
       "    </tr>\n",
       "  </thead>\n",
       "  <tbody>\n",
       "    <tr>\n",
       "      <th>1</th>\n",
       "      <td>1</td>\n",
       "      <td>80</td>\n",
       "      <td>25374.35</td>\n",
       "      <td>1</td>\n",
       "    </tr>\n",
       "    <tr>\n",
       "      <th>5</th>\n",
       "      <td>1</td>\n",
       "      <td>77</td>\n",
       "      <td>25386.10</td>\n",
       "      <td>1</td>\n",
       "    </tr>\n",
       "    <tr>\n",
       "      <th>2</th>\n",
       "      <td>3</td>\n",
       "      <td>82</td>\n",
       "      <td>25744.78</td>\n",
       "      <td>2</td>\n",
       "    </tr>\n",
       "    <tr>\n",
       "      <th>3</th>\n",
       "      <td>3</td>\n",
       "      <td>92</td>\n",
       "      <td>24701.71</td>\n",
       "      <td>2</td>\n",
       "    </tr>\n",
       "    <tr>\n",
       "      <th>4</th>\n",
       "      <td>3</td>\n",
       "      <td>87</td>\n",
       "      <td>25708.96</td>\n",
       "      <td>2</td>\n",
       "    </tr>\n",
       "  </tbody>\n",
       "</table>\n",
       "</div>"
      ],
      "text/plain": [
       "             recency  frequency  monetary  r_score\n",
       "customer_id                                       \n",
       "1                  1         80  25374.35        1\n",
       "5                  1         77  25386.10        1\n",
       "2                  3         82  25744.78        2\n",
       "3                  3         92  24701.71        2\n",
       "4                  3         87  25708.96        2"
      ]
     },
     "execution_count": 24,
     "metadata": {},
     "output_type": "execute_result"
    }
   ],
   "source": [
    "# Dynamically adjust labels based on the number of bins\n",
    "bin_edges = pd.qcut(\n",
    "    df_customer[\"recency\"],\n",
    "    q=4,\n",
    "    duplicates=\"drop\",\n",
    "    retbins=True\n",
    ")[1]  # Get the bin edges\n",
    "\n",
    "# Create labels based on the number of bins\n",
    "labels = list(range(1, len(bin_edges)))\n",
    "\n",
    "# Apply qcut with the adjusted labels\n",
    "df_customer[\"r_score\"] = pd.qcut(\n",
    "    df_customer[\"recency\"],\n",
    "    q=4,\n",
    "    labels=labels,\n",
    "    duplicates=\"drop\"\n",
    ").astype(int)\n",
    "df_customer.head().sort_values(\"r_score\")"
   ]
  },
  {
   "cell_type": "markdown",
   "metadata": {
    "id": "CdgH673mAesK"
   },
   "source": [
    "Insight:\n",
    "\n",
    "1. Most Customers Have Recently Made a Purchase\n",
    "    - From the descriptive statistics, the mean recency is 2 days, and the median (50%) is 1.5 days, indicating that most customers have made a purchase recently. The histogram supports this finding, showing that a significant proportion of customers have a recency value close to 1 day, meaning they have engaged with the supermarket very recently.\n",
    "\n",
    "2. Variation in Recency but No Extreme Outliers\n",
    "    - The standard deviation (std) is 1.13, which suggests some variation in customer recency, but it remains within a narrow range (1 to 4 days). The boxplot does not show any extreme outliers, indicating that all customers have interacted with the supermarket within a short time frame. This suggests consistent customer engagement, where most shoppers return within a few days.\n",
    "\n",
    "3. Recency Segmentation for Targeted Marketing\n",
    "    - The segmentation shows different groups of customers based on recency: highly engaged customers (recency 1-2 days) and less engaged customers (recency 3-4 days). While most customers fall into the first category, those with higher recency values (3-4 days) may need additional incentives to encourage faster repeat purchases. Targeted marketing campaigns, such as personalized promotions or reminders, could be beneficial in reducing the time gap between purchases and increasing customer retention.\n",
    "\n",
    "Conclusion and Recommendations:\n",
    "\n",
    "The supermarket has a strong and frequent returning customer base, but there is still room for improvement in reducing recency gaps. Retention strategies, such as exclusive discounts for returning customers, loyalty rewards, or personalized recommendations, can further enhance customer engagement and encourage more frequent visits."
   ]
  },
  {
   "cell_type": "markdown",
   "metadata": {
    "id": "jVxpusXBN0Gp"
   },
   "source": [
    "## Frequency Segmentation\n",
    "\n",
    "Frequency segmentation aims to analyze how often customers make purchases or engage with a business within a given period. This helps businesses identify loyal customers, detect behavioral patterns, and optimize marketing strategies to increase customer retention."
   ]
  },
  {
   "cell_type": "code",
   "execution_count": 25,
   "metadata": {
    "colab": {
     "base_uri": "https://localhost:8080/",
     "height": 711
    },
    "executionInfo": {
     "elapsed": 173,
     "status": "ok",
     "timestamp": 1743825572623,
     "user": {
      "displayName": "Hans Darmawan",
      "userId": "08967357686016774806"
     },
     "user_tz": -420
    },
    "id": "sHW2cGovN0Gr",
    "outputId": "6fba5d0c-991c-48a3-d1e1-dd02f73a7f7e"
   },
   "outputs": [
    {
     "data": {
      "image/png": "[encoded data removed]",
      "text/plain": [
       "<Figure size 750x500 with 2 Axes>"
      ]
     },
     "metadata": {},
     "output_type": "display_data"
    },
    {
     "data": {
      "text/plain": [
       "0.00   73.00\n",
       "0.25   79.25\n",
       "0.50   81.50\n",
       "0.75   87.75\n",
       "1.00   96.00\n",
       "Name: frequency, dtype: float64"
      ]
     },
     "metadata": {},
     "output_type": "display_data"
    }
   ],
   "source": [
    "fig, (ax_top, ax_bot) = plt.subplots(\n",
    "                            nrows=2,\n",
    "                            ncols=1,\n",
    "                            figsize=(7.5, 5),\n",
    "                            gridspec_kw={\n",
    "                                'height_ratios': (0.15, 0.85),\n",
    "                                'hspace': 0.05\n",
    "                            }\n",
    "                        )\n",
    "\n",
    "sns.boxplot(data=df_customer, x='frequency', ax=ax_top)\n",
    "sns.histplot(data=df_customer, x='frequency', ax=ax_bot)\n",
    "\n",
    "ax_top.set(\n",
    "    title='Total Transactions by Customer'\n",
    ")\n",
    "\n",
    "plt.show()\n",
    "display(df_customer['frequency'].quantile([0, 0.25, 0.5, 0.75, 1]))"
   ]
  },
  {
   "cell_type": "code",
   "execution_count": 26,
   "metadata": {
    "colab": {
     "base_uri": "https://localhost:8080/",
     "height": 238
    },
    "executionInfo": {
     "elapsed": 30,
     "status": "ok",
     "timestamp": 1743825572673,
     "user": {
      "displayName": "Hans Darmawan",
      "userId": "08967357686016774806"
     },
     "user_tz": -420
    },
    "id": "NUL7Xqe6N0Gr",
    "outputId": "1d99ba41-06f7-446a-9be8-63473a5fbb32"
   },
   "outputs": [
    {
     "data": {
      "text/html": [
       "<div>\n",
       "<style scoped>\n",
       "    .dataframe tbody tr th:only-of-type {\n",
       "        vertical-align: middle;\n",
       "    }\n",
       "\n",
       "    .dataframe tbody tr th {\n",
       "        vertical-align: top;\n",
       "    }\n",
       "\n",
       "    .dataframe thead th {\n",
       "        text-align: right;\n",
       "    }\n",
       "</style>\n",
       "<table border=\"1\" class=\"dataframe\">\n",
       "  <thead>\n",
       "    <tr style=\"text-align: right;\">\n",
       "      <th></th>\n",
       "      <th>recency</th>\n",
       "      <th>frequency</th>\n",
       "      <th>monetary</th>\n",
       "      <th>r_score</th>\n",
       "      <th>f_score</th>\n",
       "    </tr>\n",
       "    <tr>\n",
       "      <th>customer_id</th>\n",
       "      <th></th>\n",
       "      <th></th>\n",
       "      <th></th>\n",
       "      <th></th>\n",
       "      <th></th>\n",
       "    </tr>\n",
       "  </thead>\n",
       "  <tbody>\n",
       "    <tr>\n",
       "      <th>1</th>\n",
       "      <td>1</td>\n",
       "      <td>80</td>\n",
       "      <td>25374.35</td>\n",
       "      <td>1</td>\n",
       "      <td>4</td>\n",
       "    </tr>\n",
       "    <tr>\n",
       "      <th>5</th>\n",
       "      <td>1</td>\n",
       "      <td>77</td>\n",
       "      <td>25386.10</td>\n",
       "      <td>1</td>\n",
       "      <td>4</td>\n",
       "    </tr>\n",
       "    <tr>\n",
       "      <th>2</th>\n",
       "      <td>3</td>\n",
       "      <td>82</td>\n",
       "      <td>25744.78</td>\n",
       "      <td>2</td>\n",
       "      <td>4</td>\n",
       "    </tr>\n",
       "    <tr>\n",
       "      <th>3</th>\n",
       "      <td>3</td>\n",
       "      <td>92</td>\n",
       "      <td>24701.71</td>\n",
       "      <td>2</td>\n",
       "      <td>4</td>\n",
       "    </tr>\n",
       "    <tr>\n",
       "      <th>4</th>\n",
       "      <td>3</td>\n",
       "      <td>87</td>\n",
       "      <td>25708.96</td>\n",
       "      <td>2</td>\n",
       "      <td>4</td>\n",
       "    </tr>\n",
       "  </tbody>\n",
       "</table>\n",
       "</div>"
      ],
      "text/plain": [
       "             recency  frequency  monetary  r_score  f_score\n",
       "customer_id                                                \n",
       "1                  1         80  25374.35        1        4\n",
       "5                  1         77  25386.10        1        4\n",
       "2                  3         82  25744.78        2        4\n",
       "3                  3         92  24701.71        2        4\n",
       "4                  3         87  25708.96        2        4"
      ]
     },
     "execution_count": 26,
     "metadata": {},
     "output_type": "execute_result"
    }
   ],
   "source": [
    "def f_score(x):\n",
    "    if x==1:\n",
    "        return 1\n",
    "    elif x <= 3:\n",
    "        return 2\n",
    "    elif x <= 5:\n",
    "        return 3\n",
    "    else:\n",
    "        return 4\n",
    "\n",
    "df_customer['f_score'] = df_customer['frequency'].apply(f_score)\n",
    "df_customer.head().sort_values(\"r_score\").sort_values(\"f_score\", ascending=False)"
   ]
  },
  {
   "cell_type": "markdown",
   "metadata": {
    "id": "wlZadHGNA6yC"
   },
   "source": [
    "Insight:\n",
    "\n",
    "1. Distribution of Customer Transactions\n",
    "    - The histogram indicates that most customers have moderate purchase frequencies, with transactions clustering around the mid-range. This suggests that while some customers shop frequently, a significant portion maintain a steady but not excessive purchasing pattern. Understanding this distribution helps businesses determine whether their customer base primarily consists of loyal repeat buyers or occasional shoppers.\n",
    "\n",
    "2. Identifying High-Value and Low-Engagement Customers\n",
    "    - The boxplot reveals outliers, showing that a few customers engage in frequent purchases, while others rarely make transactions. The high-frequency customers are crucial as they contribute significantly to revenue and could be rewarded with loyalty incentives. Meanwhile, low-frequency customers represent an opportunity—re-engagement strategies, such as personalized offers or reminders, could increase their purchase activity.\n",
    "\n",
    "3. Strategic Marketing & Customer Retention\n",
    "    - Understanding purchase frequency enables targeted marketing efforts. High-frequency customers can be further nurtured through VIP memberships, exclusive discounts, or early access to new products, while customers with lower engagement may benefit from promotions, product recommendations, or retargeting ads. Proper segmentation ensures that businesses allocate marketing resources efficiently to maximize customer retention and revenue.\n",
    "\n",
    "Conclusion & Recommendation:\n",
    "\n",
    "The frequency segmentation analysis reveals a diverse customer base, with some engaging in frequent transactions while others shop sporadically. Businesses should focus on retaining high-frequency customers through exclusive rewards, VIP programs, and personalized offers, ensuring their continued loyalty. Meanwhile, low-frequency customers present an opportunity for re-engagement through targeted promotions, personalized recommendations, and remarketing strategies. Regular analysis of customer transaction patterns, combined with predictive analytics, can help anticipate potential churn and optimize marketing efforts to maximize customer retention and overall revenue growth."
   ]
  },
  {
   "cell_type": "markdown",
   "metadata": {
    "id": "wvVd8FJgN0Gt"
   },
   "source": [
    "## Monetary Segmentation\n",
    "\n",
    "Monetary segmentation aims to categorize customers based on their total spending, helping businesses identify high-value customers and those with lower spending habits. By understanding these segments, companies can allocate resources more effectively, tailor marketing efforts, and create personalized offers to maximize customer retention and revenue growth."
   ]
  },
  {
   "cell_type": "code",
   "execution_count": 27,
   "metadata": {
    "colab": {
     "base_uri": "https://localhost:8080/",
     "height": 711
    },
    "executionInfo": {
     "elapsed": 237,
     "status": "ok",
     "timestamp": 1743825572912,
     "user": {
      "displayName": "Hans Darmawan",
      "userId": "08967357686016774806"
     },
     "user_tz": -420
    },
    "id": "IbXG2EGVN0Gu",
    "outputId": "8a0f9d0b-c6ed-475d-83a1-4704161232a9"
   },
   "outputs": [
    {
     "data": {
      "image/png": "[encoded data removed]",
      "text/plain": [
       "<Figure size 750x500 with 2 Axes>"
      ]
     },
     "metadata": {},
     "output_type": "display_data"
    },
    {
     "data": {
      "text/plain": [
       "0.00   21169.37\n",
       "0.25   25076.96\n",
       "0.50   25380.22\n",
       "0.75   25608.85\n",
       "1.00   33003.28\n",
       "Name: monetary, dtype: float64"
      ]
     },
     "metadata": {},
     "output_type": "display_data"
    }
   ],
   "source": [
    "fig, (ax_top, ax_bot) = plt.subplots(\n",
    "                            nrows=2,\n",
    "                            ncols=1,\n",
    "                            figsize=(7.5, 5),\n",
    "                            gridspec_kw={\n",
    "                                'height_ratios': (0.15, 0.85),\n",
    "                                'hspace': 0.05\n",
    "                            }\n",
    "                        )\n",
    "\n",
    "sns.boxplot(data=df_customer, x='monetary', ax=ax_top)\n",
    "sns.histplot(data=df_customer, x='monetary', ax=ax_bot)\n",
    "\n",
    "ax_top.set(\n",
    "    title='Total Revenue by Customer'\n",
    ")\n",
    "\n",
    "plt.show()\n",
    "display(df_customer['monetary'].quantile([0, 0.25, 0.5, 0.75, 1]))"
   ]
  },
  {
   "cell_type": "code",
   "execution_count": 28,
   "metadata": {
    "colab": {
     "base_uri": "https://localhost:8080/",
     "height": 238
    },
    "executionInfo": {
     "elapsed": 35,
     "status": "ok",
     "timestamp": 1743825572949,
     "user": {
      "displayName": "Hans Darmawan",
      "userId": "08967357686016774806"
     },
     "user_tz": -420
    },
    "id": "MpWqxAi0N0Gv",
    "outputId": "f4ee2431-5cf8-49f0-d676-0e7421fbc935"
   },
   "outputs": [
    {
     "data": {
      "text/html": [
       "<div>\n",
       "<style scoped>\n",
       "    .dataframe tbody tr th:only-of-type {\n",
       "        vertical-align: middle;\n",
       "    }\n",
       "\n",
       "    .dataframe tbody tr th {\n",
       "        vertical-align: top;\n",
       "    }\n",
       "\n",
       "    .dataframe thead th {\n",
       "        text-align: right;\n",
       "    }\n",
       "</style>\n",
       "<table border=\"1\" class=\"dataframe\">\n",
       "  <thead>\n",
       "    <tr style=\"text-align: right;\">\n",
       "      <th></th>\n",
       "      <th>recency</th>\n",
       "      <th>frequency</th>\n",
       "      <th>monetary</th>\n",
       "      <th>r_score</th>\n",
       "      <th>f_score</th>\n",
       "      <th>m_score</th>\n",
       "    </tr>\n",
       "    <tr>\n",
       "      <th>customer_id</th>\n",
       "      <th></th>\n",
       "      <th></th>\n",
       "      <th></th>\n",
       "      <th></th>\n",
       "      <th></th>\n",
       "      <th></th>\n",
       "    </tr>\n",
       "  </thead>\n",
       "  <tbody>\n",
       "    <tr>\n",
       "      <th>2</th>\n",
       "      <td>3</td>\n",
       "      <td>82</td>\n",
       "      <td>25744.78</td>\n",
       "      <td>2</td>\n",
       "      <td>4</td>\n",
       "      <td>4</td>\n",
       "    </tr>\n",
       "    <tr>\n",
       "      <th>4</th>\n",
       "      <td>3</td>\n",
       "      <td>87</td>\n",
       "      <td>25708.96</td>\n",
       "      <td>2</td>\n",
       "      <td>4</td>\n",
       "      <td>4</td>\n",
       "    </tr>\n",
       "    <tr>\n",
       "      <th>5</th>\n",
       "      <td>1</td>\n",
       "      <td>77</td>\n",
       "      <td>25386.10</td>\n",
       "      <td>1</td>\n",
       "      <td>4</td>\n",
       "      <td>3</td>\n",
       "    </tr>\n",
       "    <tr>\n",
       "      <th>1</th>\n",
       "      <td>1</td>\n",
       "      <td>80</td>\n",
       "      <td>25374.35</td>\n",
       "      <td>1</td>\n",
       "      <td>4</td>\n",
       "      <td>2</td>\n",
       "    </tr>\n",
       "    <tr>\n",
       "      <th>3</th>\n",
       "      <td>3</td>\n",
       "      <td>92</td>\n",
       "      <td>24701.71</td>\n",
       "      <td>2</td>\n",
       "      <td>4</td>\n",
       "      <td>1</td>\n",
       "    </tr>\n",
       "  </tbody>\n",
       "</table>\n",
       "</div>"
      ],
      "text/plain": [
       "             recency  frequency  monetary  r_score  f_score  m_score\n",
       "customer_id                                                         \n",
       "2                  3         82  25744.78        2        4        4\n",
       "4                  3         87  25708.96        2        4        4\n",
       "5                  1         77  25386.10        1        4        3\n",
       "1                  1         80  25374.35        1        4        2\n",
       "3                  3         92  24701.71        2        4        1"
      ]
     },
     "execution_count": 28,
     "metadata": {},
     "output_type": "execute_result"
    }
   ],
   "source": [
    "df_customer['m_score'] = pd.qcut(\n",
    "    df_customer['monetary'],            # data\n",
    "    q=4,                                # divided into 4 groups, evenly\n",
    "    labels=[1, 2, 3, 4]                 # labeling, for monetary: as the monetary value increases, so does the score\n",
    ").astype(int)\n",
    "\n",
    "df_customer.head().sort_values(\"r_score\").sort_values([\"f_score\",\"m_score\"], ascending=False)"
   ]
  },
  {
   "cell_type": "markdown",
   "metadata": {
    "id": "0oQh3VIhN0Gw"
   },
   "source": [
    "# Labelling Segment\n",
    "\n",
    "Labelling segment is the process of assigning labels or grouping customers into specific categories based on segmentation analysis results. In this case, we will use two approaches: Total Score Approach and Combining Individual Score Approach.\n",
    "\n",
    "Now we are trying to do customer segmentation with 2 different ways.\n",
    "- Total Score Approach\n",
    "- Combining Individual Score Approach\n",
    "\n",
    "The Total Score Approach combines scores from various metrics (such as Recency, Frequency, and Monetary) into a single total score, then segments customers based on that total (e.g., high, medium, low value customers).\n",
    "\n",
    "The Combining Individual Score Approach considers the scores of each metric separately and combines the labels from each dimension to form more specific segments (e.g., High Recency – Low Frequency – Medium Monetary).\n"
   ]
  },
  {
   "cell_type": "markdown",
   "metadata": {
    "id": "a0zYcjnwN0Gw"
   },
   "source": [
    "## Total Score Approach\n",
    "\n",
    "In this phase, we're going to add r_score, f_score, and m_score, as one label rfm_score_total (cumulative).\n",
    "\n",
    "In the Total Score Approach, the scores from each RFM dimension (Recency, Frequency, and Monetary) are summed to create a single total value called rfm_score. This score reflects the overall value of a customer, where a higher score indicates better engagement and greater monetary contribution. Using this method, customers can be easily segmented into categories such as High-Value, Medium-Value, and Low-Value customers. This approach provides a straightforward yet effective way to evaluate and compare customer value at a glance."
   ]
  },
  {
   "cell_type": "code",
   "execution_count": 29,
   "metadata": {
    "colab": {
     "base_uri": "https://localhost:8080/",
     "height": 238
    },
    "executionInfo": {
     "elapsed": 50,
     "status": "ok",
     "timestamp": 1743825573000,
     "user": {
      "displayName": "Hans Darmawan",
      "userId": "08967357686016774806"
     },
     "user_tz": -420
    },
    "id": "gbY0SDPlhhiq",
    "outputId": "a1f95d60-3f30-4ab4-8853-accdb452ee8f"
   },
   "outputs": [
    {
     "data": {
      "text/html": [
       "<div>\n",
       "<style scoped>\n",
       "    .dataframe tbody tr th:only-of-type {\n",
       "        vertical-align: middle;\n",
       "    }\n",
       "\n",
       "    .dataframe tbody tr th {\n",
       "        vertical-align: top;\n",
       "    }\n",
       "\n",
       "    .dataframe thead th {\n",
       "        text-align: right;\n",
       "    }\n",
       "</style>\n",
       "<table border=\"1\" class=\"dataframe\">\n",
       "  <thead>\n",
       "    <tr style=\"text-align: right;\">\n",
       "      <th></th>\n",
       "      <th>recency</th>\n",
       "      <th>frequency</th>\n",
       "      <th>monetary</th>\n",
       "      <th>r_score</th>\n",
       "      <th>f_score</th>\n",
       "      <th>m_score</th>\n",
       "      <th>rfm_score</th>\n",
       "    </tr>\n",
       "    <tr>\n",
       "      <th>customer_id</th>\n",
       "      <th></th>\n",
       "      <th></th>\n",
       "      <th></th>\n",
       "      <th></th>\n",
       "      <th></th>\n",
       "      <th></th>\n",
       "      <th></th>\n",
       "    </tr>\n",
       "  </thead>\n",
       "  <tbody>\n",
       "    <tr>\n",
       "      <th>1</th>\n",
       "      <td>1</td>\n",
       "      <td>80</td>\n",
       "      <td>25374.35</td>\n",
       "      <td>1</td>\n",
       "      <td>4</td>\n",
       "      <td>2</td>\n",
       "      <td>7</td>\n",
       "    </tr>\n",
       "    <tr>\n",
       "      <th>2</th>\n",
       "      <td>3</td>\n",
       "      <td>82</td>\n",
       "      <td>25744.78</td>\n",
       "      <td>2</td>\n",
       "      <td>4</td>\n",
       "      <td>4</td>\n",
       "      <td>10</td>\n",
       "    </tr>\n",
       "    <tr>\n",
       "      <th>3</th>\n",
       "      <td>3</td>\n",
       "      <td>92</td>\n",
       "      <td>24701.71</td>\n",
       "      <td>2</td>\n",
       "      <td>4</td>\n",
       "      <td>1</td>\n",
       "      <td>7</td>\n",
       "    </tr>\n",
       "    <tr>\n",
       "      <th>4</th>\n",
       "      <td>3</td>\n",
       "      <td>87</td>\n",
       "      <td>25708.96</td>\n",
       "      <td>2</td>\n",
       "      <td>4</td>\n",
       "      <td>4</td>\n",
       "      <td>10</td>\n",
       "    </tr>\n",
       "    <tr>\n",
       "      <th>5</th>\n",
       "      <td>1</td>\n",
       "      <td>77</td>\n",
       "      <td>25386.10</td>\n",
       "      <td>1</td>\n",
       "      <td>4</td>\n",
       "      <td>3</td>\n",
       "      <td>8</td>\n",
       "    </tr>\n",
       "  </tbody>\n",
       "</table>\n",
       "</div>"
      ],
      "text/plain": [
       "             recency  frequency  monetary  r_score  f_score  m_score  \\\n",
       "customer_id                                                            \n",
       "1                  1         80  25374.35        1        4        2   \n",
       "2                  3         82  25744.78        2        4        4   \n",
       "3                  3         92  24701.71        2        4        1   \n",
       "4                  3         87  25708.96        2        4        4   \n",
       "5                  1         77  25386.10        1        4        3   \n",
       "\n",
       "             rfm_score  \n",
       "customer_id             \n",
       "1                    7  \n",
       "2                   10  \n",
       "3                    7  \n",
       "4                   10  \n",
       "5                    8  "
      ]
     },
     "execution_count": 29,
     "metadata": {},
     "output_type": "execute_result"
    }
   ],
   "source": [
    "df_customer[\"rfm_score\"] = df_customer[\"r_score\"] + df_customer[\"f_score\"] + df_customer[\"m_score\"]\n",
    "df_customer.head()"
   ]
  },
  {
   "cell_type": "code",
   "execution_count": 30,
   "metadata": {
    "colab": {
     "base_uri": "https://localhost:8080/",
     "height": 258
    },
    "executionInfo": {
     "elapsed": 81,
     "status": "ok",
     "timestamp": 1743825573082,
     "user": {
      "displayName": "Hans Darmawan",
      "userId": "08967357686016774806"
     },
     "user_tz": -420
    },
    "id": "nzv9p8NKhlXy",
    "outputId": "afddd440-6964-4d55-8246-1ba8fa273477"
   },
   "outputs": [
    {
     "data": {
      "text/html": [
       "<div>\n",
       "<style scoped>\n",
       "    .dataframe tbody tr th:only-of-type {\n",
       "        vertical-align: middle;\n",
       "    }\n",
       "\n",
       "    .dataframe tbody tr th {\n",
       "        vertical-align: top;\n",
       "    }\n",
       "\n",
       "    .dataframe thead th {\n",
       "        text-align: right;\n",
       "    }\n",
       "</style>\n",
       "<table border=\"1\" class=\"dataframe\">\n",
       "  <thead>\n",
       "    <tr style=\"text-align: right;\">\n",
       "      <th></th>\n",
       "      <th>recency</th>\n",
       "      <th>frequency</th>\n",
       "      <th>monetary</th>\n",
       "      <th>r_score</th>\n",
       "      <th>f_score</th>\n",
       "      <th>m_score</th>\n",
       "      <th>rfm_score</th>\n",
       "      <th>rfm_score_label</th>\n",
       "    </tr>\n",
       "    <tr>\n",
       "      <th>customer_id</th>\n",
       "      <th></th>\n",
       "      <th></th>\n",
       "      <th></th>\n",
       "      <th></th>\n",
       "      <th></th>\n",
       "      <th></th>\n",
       "      <th></th>\n",
       "      <th></th>\n",
       "    </tr>\n",
       "  </thead>\n",
       "  <tbody>\n",
       "    <tr>\n",
       "      <th>1</th>\n",
       "      <td>1</td>\n",
       "      <td>80</td>\n",
       "      <td>25374.35</td>\n",
       "      <td>1</td>\n",
       "      <td>4</td>\n",
       "      <td>2</td>\n",
       "      <td>7</td>\n",
       "      <td>Silver</td>\n",
       "    </tr>\n",
       "    <tr>\n",
       "      <th>2</th>\n",
       "      <td>3</td>\n",
       "      <td>82</td>\n",
       "      <td>25744.78</td>\n",
       "      <td>2</td>\n",
       "      <td>4</td>\n",
       "      <td>4</td>\n",
       "      <td>10</td>\n",
       "      <td>Platinum</td>\n",
       "    </tr>\n",
       "    <tr>\n",
       "      <th>3</th>\n",
       "      <td>3</td>\n",
       "      <td>92</td>\n",
       "      <td>24701.71</td>\n",
       "      <td>2</td>\n",
       "      <td>4</td>\n",
       "      <td>1</td>\n",
       "      <td>7</td>\n",
       "      <td>Silver</td>\n",
       "    </tr>\n",
       "    <tr>\n",
       "      <th>4</th>\n",
       "      <td>3</td>\n",
       "      <td>87</td>\n",
       "      <td>25708.96</td>\n",
       "      <td>2</td>\n",
       "      <td>4</td>\n",
       "      <td>4</td>\n",
       "      <td>10</td>\n",
       "      <td>Platinum</td>\n",
       "    </tr>\n",
       "    <tr>\n",
       "      <th>5</th>\n",
       "      <td>1</td>\n",
       "      <td>77</td>\n",
       "      <td>25386.10</td>\n",
       "      <td>1</td>\n",
       "      <td>4</td>\n",
       "      <td>3</td>\n",
       "      <td>8</td>\n",
       "      <td>Gold</td>\n",
       "    </tr>\n",
       "  </tbody>\n",
       "</table>\n",
       "</div>"
      ],
      "text/plain": [
       "             recency  frequency  monetary  r_score  f_score  m_score  \\\n",
       "customer_id                                                            \n",
       "1                  1         80  25374.35        1        4        2   \n",
       "2                  3         82  25744.78        2        4        4   \n",
       "3                  3         92  24701.71        2        4        1   \n",
       "4                  3         87  25708.96        2        4        4   \n",
       "5                  1         77  25386.10        1        4        3   \n",
       "\n",
       "             rfm_score rfm_score_label  \n",
       "customer_id                             \n",
       "1                    7          Silver  \n",
       "2                   10        Platinum  \n",
       "3                    7          Silver  \n",
       "4                   10        Platinum  \n",
       "5                    8            Gold  "
      ]
     },
     "execution_count": 30,
     "metadata": {},
     "output_type": "execute_result"
    }
   ],
   "source": [
    "def total_score_labeling(x):\n",
    "    if 9 <= x <= 10:\n",
    "        return \"Platinum\"\n",
    "    elif 8 <= x < 9:\n",
    "        return \"Gold\"\n",
    "    elif 7 <= x < 8:\n",
    "        return \"Silver\"\n",
    "    else:\n",
    "        return \"Bronze\"\n",
    "\n",
    "df_customer[\"rfm_score_label\"] = df_customer[\"rfm_score\"].apply(total_score_labeling)\n",
    "df_customer.head()"
   ]
  },
  {
   "cell_type": "code",
   "execution_count": 39,
   "metadata": {
    "colab": {
     "base_uri": "https://localhost:8080/",
     "height": 452
    },
    "executionInfo": {
     "elapsed": 147,
     "status": "ok",
     "timestamp": 1743825573228,
     "user": {
      "displayName": "Hans Darmawan",
      "userId": "08967357686016774806"
     },
     "user_tz": -420
    },
    "id": "2beAndOEiYxA",
    "outputId": "81f616fd-d672-480c-f2e8-c57272860987"
   },
   "outputs": [
    {
     "data": {
      "image/png": "[encoded data removed]",
      "text/plain": [
       "<Figure size 640x480 with 2 Axes>"
      ]
     },
     "metadata": {},
     "output_type": "display_data"
    }
   ],
   "source": [
    "# Define the desired order of tiers\n",
    "tier_order = ['Bronze', 'Silver', 'Platinum', 'Gold']\n",
    "\n",
    "# Reorder the pivot table index according to the tier order\n",
    "lrfm_heatmap = df_customer.pivot_table(index='rfm_score_label', values=['recency', 'frequency', 'monetary'], aggfunc='median')\n",
    "lrfm_heatmap = lrfm_heatmap.loc[tier_order, ['recency', 'frequency', 'monetary']]\n",
    "\n",
    "# Plot the heatmap\n",
    "sns.heatmap(lrfm_heatmap, cmap='coolwarm', annot=True, fmt=\".2f\")\n",
    "plt.title('RFM Analysis Heatmap')\n",
    "plt.show()\n"
   ]
  },
  {
   "cell_type": "code",
   "execution_count": 32,
   "metadata": {
    "colab": {
     "base_uri": "https://localhost:8080/",
     "height": 542
    },
    "executionInfo": {
     "elapsed": 131,
     "status": "ok",
     "timestamp": 1743825579359,
     "user": {
      "displayName": "Hans Darmawan",
      "userId": "08967357686016774806"
     },
     "user_tz": -420
    },
    "id": "44UXUB81Giw0",
    "outputId": "07939d38-184f-4709-edce-eb1dd42536a5"
   },
   "outputs": [
    {
     "data": {
      "application/vnd.plotly.v1+json": {
       "config": {
        "plotlyServerURL": "https://plot.ly"
       },
       "data": [
        {
         "hovertemplate": "rfm_score_label=Silver<br>recency=%{x}<br>frequency=%{y}<br>monetary=%{z}<extra></extra>",
         "legendgroup": "Silver",
         "marker": {
          "color": "gray",
          "size": 3,
          "symbol": "circle"
         },
         "mode": "markers",
         "name": "Silver",
         "scene": "scene",
         "showlegend": true,
         "type": "scatter3d",
         "x": [
          1,
          3,
          1,
          3
         ],
         "y": [
          80,
          92,
          81,
          77
         ],
         "z": [
          25374.35,
          24701.71,
          25358.19,
          24836.06
         ]
        },
        {
         "hovertemplate": "rfm_score_label=Platinum<br>recency=%{x}<br>frequency=%{y}<br>monetary=%{z}<extra></extra>",
         "legendgroup": "Platinum",
         "marker": {
          "color": "red",
          "size": 3,
          "symbol": "circle"
         },
         "mode": "markers",
         "name": "Platinum",
         "scene": "scene",
         "showlegend": true,
         "type": "scatter3d",
         "x": [
          3,
          3,
          4,
          1
         ],
         "y": [
          82,
          87,
          85,
          96
         ],
         "z": [
          25744.78,
          25708.96,
          25571.84,
          33003.28
         ]
        },
        {
         "hovertemplate": "rfm_score_label=Gold<br>recency=%{x}<br>frequency=%{y}<br>monetary=%{z}<extra></extra>",
         "legendgroup": "Gold",
         "marker": {
          "color": "orange",
          "size": 3,
          "symbol": "circle"
         },
         "mode": "markers",
         "name": "Gold",
         "scene": "scene",
         "showlegend": true,
         "type": "scatter3d",
         "x": [
          1,
          1,
          2
         ],
         "y": [
          77,
          80,
          90
         ],
         "z": [
          25386.1,
          25575.48,
          25157.26
         ]
        },
        {
         "hovertemplate": "rfm_score_label=Bronze<br>recency=%{x}<br>frequency=%{y}<br>monetary=%{z}<extra></extra>",
         "legendgroup": "Bronze",
         "marker": {
          "color": "brown",
          "size": 3,
          "symbol": "circle"
         },
         "mode": "markers",
         "name": "Bronze",
         "scene": "scene",
         "showlegend": true,
         "type": "scatter3d",
         "x": [
          1
         ],
         "y": [
          73
         ],
         "z": [
          21169.37
         ]
        }
       ],
       "layout": {
        "legend": {
         "itemsizing": "constant",
         "itemwidth": 30,
         "title": {
          "text": "rfm_score_label"
         },
         "tracegroupgap": 0,
         "x": 0.7,
         "xanchor": "left",
         "y": 0.97,
         "yanchor": "top"
        },
        "margin": {
         "b": 0,
         "l": 0,
         "r": 0,
         "t": 0
        },
        "scene": {
         "domain": {
          "x": [
           0,
           1
          ],
          "y": [
           0,
           1
          ]
         },
         "xaxis": {
          "title": {
           "text": "recency"
          }
         },
         "yaxis": {
          "title": {
           "text": "frequency"
          }
         },
         "zaxis": {
          "title": {
           "text": "monetary"
          }
         }
        },
        "template": {
         "data": {
          "bar": [
           {
            "error_x": {
             "color": "#2a3f5f"
            },
            "error_y": {
             "color": "#2a3f5f"
            },
            "marker": {
             "line": {
              "color": "#E5ECF6",
              "width": 0.5
             },
             "pattern": {
              "fillmode": "overlay",
              "size": 10,
              "solidity": 0.2
             }
            },
            "type": "bar"
           }
          ],
          "barpolar": [
           {
            "marker": {
             "line": {
              "color": "#E5ECF6",
              "width": 0.5
             },
             "pattern": {
              "fillmode": "overlay",
              "size": 10,
              "solidity": 0.2
             }
            },
            "type": "barpolar"
           }
          ],
          "carpet": [
           {
            "aaxis": {
             "endlinecolor": "#2a3f5f",
             "gridcolor": "white",
             "linecolor": "white",
             "minorgridcolor": "white",
             "startlinecolor": "#2a3f5f"
            },
            "baxis": {
             "endlinecolor": "#2a3f5f",
             "gridcolor": "white",
             "linecolor": "white",
             "minorgridcolor": "white",
             "startlinecolor": "#2a3f5f"
            },
            "type": "carpet"
           }
          ],
          "choropleth": [
           {
            "colorbar": {
             "outlinewidth": 0,
             "ticks": ""
            },
            "type": "choropleth"
           }
          ],
          "contour": [
           {
            "colorbar": {
             "outlinewidth": 0,
             "ticks": ""
            },
            "colorscale": [
             [
              0,
              "#0d0887"
             ],
             [
              0.1111111111111111,
              "#46039f"
             ],
             [
              0.2222222222222222,
              "#7201a8"
             ],
             [
              0.3333333333333333,
              "#9c179e"
             ],
             [
              0.4444444444444444,
              "#bd3786"
             ],
             [
              0.5555555555555556,
              "#d8576b"
             ],
             [
              0.6666666666666666,
              "#ed7953"
             ],
             [
              0.7777777777777778,
              "#fb9f3a"
             ],
             [
              0.8888888888888888,
              "#fdca26"
             ],
             [
              1,
              "#f0f921"
             ]
            ],
            "type": "contour"
           }
          ],
          "contourcarpet": [
           {
            "colorbar": {
             "outlinewidth": 0,
             "ticks": ""
            },
            "type": "contourcarpet"
           }
          ],
          "heatmap": [
           {
            "colorbar": {
             "outlinewidth": 0,
             "ticks": ""
            },
            "colorscale": [
             [
              0,
              "#0d0887"
             ],
             [
              0.1111111111111111,
              "#46039f"
             ],
             [
              0.2222222222222222,
              "#7201a8"
             ],
             [
              0.3333333333333333,
              "#9c179e"
             ],
             [
              0.4444444444444444,
              "#bd3786"
             ],
             [
              0.5555555555555556,
              "#d8576b"
             ],
             [
              0.6666666666666666,
              "#ed7953"
             ],
             [
              0.7777777777777778,
              "#fb9f3a"
             ],
             [
              0.8888888888888888,
              "#fdca26"
             ],
             [
              1,
              "#f0f921"
             ]
            ],
            "type": "heatmap"
           }
          ],
          "heatmapgl": [
           {
            "colorbar": {
             "outlinewidth": 0,
             "ticks": ""
            },
            "colorscale": [
             [
              0,
              "#0d0887"
             ],
             [
              0.1111111111111111,
              "#46039f"
             ],
             [
              0.2222222222222222,
              "#7201a8"
             ],
             [
              0.3333333333333333,
              "#9c179e"
             ],
             [
              0.4444444444444444,
              "#bd3786"
             ],
             [
              0.5555555555555556,
              "#d8576b"
             ],
             [
              0.6666666666666666,
              "#ed7953"
             ],
             [
              0.7777777777777778,
              "#fb9f3a"
             ],
             [
              0.8888888888888888,
              "#fdca26"
             ],
             [
              1,
              "#f0f921"
             ]
            ],
            "type": "heatmapgl"
           }
          ],
          "histogram": [
           {
            "marker": {
             "pattern": {
              "fillmode": "overlay",
              "size": 10,
              "solidity": 0.2
             }
            },
            "type": "histogram"
           }
          ],
          "histogram2d": [
           {
            "colorbar": {
             "outlinewidth": 0,
             "ticks": ""
            },
            "colorscale": [
             [
              0,
              "#0d0887"
             ],
             [
              0.1111111111111111,
              "#46039f"
             ],
             [
              0.2222222222222222,
              "#7201a8"
             ],
             [
              0.3333333333333333,
              "#9c179e"
             ],
             [
              0.4444444444444444,
              "#bd3786"
             ],
             [
              0.5555555555555556,
              "#d8576b"
             ],
             [
              0.6666666666666666,
              "#ed7953"
             ],
             [
              0.7777777777777778,
              "#fb9f3a"
             ],
             [
              0.8888888888888888,
              "#fdca26"
             ],
             [
              1,
              "#f0f921"
             ]
            ],
            "type": "histogram2d"
           }
          ],
          "histogram2dcontour": [
           {
            "colorbar": {
             "outlinewidth": 0,
             "ticks": ""
            },
            "colorscale": [
             [
              0,
              "#0d0887"
             ],
             [
              0.1111111111111111,
              "#46039f"
             ],
             [
              0.2222222222222222,
              "#7201a8"
             ],
             [
              0.3333333333333333,
              "#9c179e"
             ],
             [
              0.4444444444444444,
              "#bd3786"
             ],
             [
              0.5555555555555556,
              "#d8576b"
             ],
             [
              0.6666666666666666,
              "#ed7953"
             ],
             [
              0.7777777777777778,
              "#fb9f3a"
             ],
             [
              0.8888888888888888,
              "#fdca26"
             ],
             [
              1,
              "#f0f921"
             ]
            ],
            "type": "histogram2dcontour"
           }
          ],
          "mesh3d": [
           {
            "colorbar": {
             "outlinewidth": 0,
             "ticks": ""
            },
            "type": "mesh3d"
           }
          ],
          "parcoords": [
           {
            "line": {
             "colorbar": {
              "outlinewidth": 0,
              "ticks": ""
             }
            },
            "type": "parcoords"
           }
          ],
          "pie": [
           {
            "automargin": true,
            "type": "pie"
           }
          ],
          "scatter": [
           {
            "fillpattern": {
             "fillmode": "overlay",
             "size": 10,
             "solidity": 0.2
            },
            "type": "scatter"
           }
          ],
          "scatter3d": [
           {
            "line": {
             "colorbar": {
              "outlinewidth": 0,
              "ticks": ""
             }
            },
            "marker": {
             "colorbar": {
              "outlinewidth": 0,
              "ticks": ""
             }
            },
            "type": "scatter3d"
           }
          ],
          "scattercarpet": [
           {
            "marker": {
             "colorbar": {
              "outlinewidth": 0,
              "ticks": ""
             }
            },
            "type": "scattercarpet"
           }
          ],
          "scattergeo": [
           {
            "marker": {
             "colorbar": {
              "outlinewidth": 0,
              "ticks": ""
             }
            },
            "type": "scattergeo"
           }
          ],
          "scattergl": [
           {
            "marker": {
             "colorbar": {
              "outlinewidth": 0,
              "ticks": ""
             }
            },
            "type": "scattergl"
           }
          ],
          "scattermapbox": [
           {
            "marker": {
             "colorbar": {
              "outlinewidth": 0,
              "ticks": ""
             }
            },
            "type": "scattermapbox"
           }
          ],
          "scatterpolar": [
           {
            "marker": {
             "colorbar": {
              "outlinewidth": 0,
              "ticks": ""
             }
            },
            "type": "scatterpolar"
           }
          ],
          "scatterpolargl": [
           {
            "marker": {
             "colorbar": {
              "outlinewidth": 0,
              "ticks": ""
             }
            },
            "type": "scatterpolargl"
           }
          ],
          "scatterternary": [
           {
            "marker": {
             "colorbar": {
              "outlinewidth": 0,
              "ticks": ""
             }
            },
            "type": "scatterternary"
           }
          ],
          "surface": [
           {
            "colorbar": {
             "outlinewidth": 0,
             "ticks": ""
            },
            "colorscale": [
             [
              0,
              "#0d0887"
             ],
             [
              0.1111111111111111,
              "#46039f"
             ],
             [
              0.2222222222222222,
              "#7201a8"
             ],
             [
              0.3333333333333333,
              "#9c179e"
             ],
             [
              0.4444444444444444,
              "#bd3786"
             ],
             [
              0.5555555555555556,
              "#d8576b"
             ],
             [
              0.6666666666666666,
              "#ed7953"
             ],
             [
              0.7777777777777778,
              "#fb9f3a"
             ],
             [
              0.8888888888888888,
              "#fdca26"
             ],
             [
              1,
              "#f0f921"
             ]
            ],
            "type": "surface"
           }
          ],
          "table": [
           {
            "cells": {
             "fill": {
              "color": "#EBF0F8"
             },
             "line": {
              "color": "white"
             }
            },
            "header": {
             "fill": {
              "color": "#C8D4E3"
             },
             "line": {
              "color": "white"
             }
            },
            "type": "table"
           }
          ]
         },
         "layout": {
          "annotationdefaults": {
           "arrowcolor": "#2a3f5f",
           "arrowhead": 0,
           "arrowwidth": 1
          },
          "autotypenumbers": "strict",
          "coloraxis": {
           "colorbar": {
            "outlinewidth": 0,
            "ticks": ""
           }
          },
          "colorscale": {
           "diverging": [
            [
             0,
             "#8e0152"
            ],
            [
             0.1,
             "#c51b7d"
            ],
            [
             0.2,
             "#de77ae"
            ],
            [
             0.3,
             "#f1b6da"
            ],
            [
             0.4,
             "#fde0ef"
            ],
            [
             0.5,
             "#f7f7f7"
            ],
            [
             0.6,
             "#e6f5d0"
            ],
            [
             0.7,
             "#b8e186"
            ],
            [
             0.8,
             "#7fbc41"
            ],
            [
             0.9,
             "#4d9221"
            ],
            [
             1,
             "#276419"
            ]
           ],
           "sequential": [
            [
             0,
             "#0d0887"
            ],
            [
             0.1111111111111111,
             "#46039f"
            ],
            [
             0.2222222222222222,
             "#7201a8"
            ],
            [
             0.3333333333333333,
             "#9c179e"
            ],
            [
             0.4444444444444444,
             "#bd3786"
            ],
            [
             0.5555555555555556,
             "#d8576b"
            ],
            [
             0.6666666666666666,
             "#ed7953"
            ],
            [
             0.7777777777777778,
             "#fb9f3a"
            ],
            [
             0.8888888888888888,
             "#fdca26"
            ],
            [
             1,
             "#f0f921"
            ]
           ],
           "sequentialminus": [
            [
             0,
             "#0d0887"
            ],
            [
             0.1111111111111111,
             "#46039f"
            ],
            [
             0.2222222222222222,
             "#7201a8"
            ],
            [
             0.3333333333333333,
             "#9c179e"
            ],
            [
             0.4444444444444444,
             "#bd3786"
            ],
            [
             0.5555555555555556,
             "#d8576b"
            ],
            [
             0.6666666666666666,
             "#ed7953"
            ],
            [
             0.7777777777777778,
             "#fb9f3a"
            ],
            [
             0.8888888888888888,
             "#fdca26"
            ],
            [
             1,
             "#f0f921"
            ]
           ]
          },
          "colorway": [
           "#636efa",
           "#EF553B",
           "#00cc96",
           "#ab63fa",
           "#FFA15A",
           "#19d3f3",
           "#FF6692",
           "#B6E880",
           "#FF97FF",
           "#FECB52"
          ],
          "font": {
           "color": "#2a3f5f"
          },
          "geo": {
           "bgcolor": "white",
           "lakecolor": "white",
           "landcolor": "#E5ECF6",
           "showlakes": true,
           "showland": true,
           "subunitcolor": "white"
          },
          "hoverlabel": {
           "align": "left"
          },
          "hovermode": "closest",
          "mapbox": {
           "style": "light"
          },
          "paper_bgcolor": "white",
          "plot_bgcolor": "#E5ECF6",
          "polar": {
           "angularaxis": {
            "gridcolor": "white",
            "linecolor": "white",
            "ticks": ""
           },
           "bgcolor": "#E5ECF6",
           "radialaxis": {
            "gridcolor": "white",
            "linecolor": "white",
            "ticks": ""
           }
          },
          "scene": {
           "xaxis": {
            "backgroundcolor": "#E5ECF6",
            "gridcolor": "white",
            "gridwidth": 2,
            "linecolor": "white",
            "showbackground": true,
            "ticks": "",
            "zerolinecolor": "white"
           },
           "yaxis": {
            "backgroundcolor": "#E5ECF6",
            "gridcolor": "white",
            "gridwidth": 2,
            "linecolor": "white",
            "showbackground": true,
            "ticks": "",
            "zerolinecolor": "white"
           },
           "zaxis": {
            "backgroundcolor": "#E5ECF6",
            "gridcolor": "white",
            "gridwidth": 2,
            "linecolor": "white",
            "showbackground": true,
            "ticks": "",
            "zerolinecolor": "white"
           }
          },
          "shapedefaults": {
           "line": {
            "color": "#2a3f5f"
           }
          },
          "ternary": {
           "aaxis": {
            "gridcolor": "white",
            "linecolor": "white",
            "ticks": ""
           },
           "baxis": {
            "gridcolor": "white",
            "linecolor": "white",
            "ticks": ""
           },
           "bgcolor": "#E5ECF6",
           "caxis": {
            "gridcolor": "white",
            "linecolor": "white",
            "ticks": ""
           }
          },
          "title": {
           "x": 0.05
          },
          "xaxis": {
           "automargin": true,
           "gridcolor": "white",
           "linecolor": "white",
           "ticks": "",
           "title": {
            "standoff": 15
           },
           "zerolinecolor": "white",
           "zerolinewidth": 2
          },
          "yaxis": {
           "automargin": true,
           "gridcolor": "white",
           "linecolor": "white",
           "ticks": "",
           "title": {
            "standoff": 15
           },
           "zerolinecolor": "white",
           "zerolinewidth": 2
          }
         }
        },
        "title": {
         "text": "RFM segmentation",
         "x": 0.45,
         "xanchor": "center",
         "y": 0.97,
         "yanchor": "top"
        },
        "xaxis": {
         "tickformat": ".0f"
        }
       }
      }
     },
     "metadata": {},
     "output_type": "display_data"
    }
   ],
   "source": [
    "import plotly.express as px\n",
    "\n",
    "color_map = {'Bronze' : 'brown', 'Silver' : 'gray', 'Gold' : 'orange', 'Platinum' : 'red'}\n",
    "\n",
    "fig = px.scatter_3d(\n",
    "    df_customer,\n",
    "    x='recency',\n",
    "    y='frequency',\n",
    "    z='monetary',\n",
    "    color='rfm_score_label',\n",
    "    color_discrete_map=color_map,\n",
    ")\n",
    "\n",
    "fig.update_traces(marker_size = 3)\n",
    "\n",
    "# tight layout\n",
    "fig.update_layout(margin=dict(l=0, r=0, b=0, t=0),\n",
    "                  title={\n",
    "                    'text': \"RFM segmentation\",\n",
    "                    'y':0.97,\n",
    "                    'x':0.45,\n",
    "                    'xanchor': 'center',\n",
    "                    'yanchor': 'top'},\n",
    "                    legend=dict(\n",
    "                      yanchor=\"top\",\n",
    "                      y=0.97,\n",
    "                      xanchor=\"left\",\n",
    "                      x=0.70,\n",
    "                      itemsizing='constant',\n",
    "                      itemwidth = 30))\n",
    "\n",
    "fig.update_xaxes(tickformat=\".0f\")\n"
   ]
  },
  {
   "cell_type": "markdown",
   "metadata": {
    "id": "8SO32WmQN0Gy"
   },
   "source": [
    "### Visualization\n",
    "- This heatmap and 3D visualization illustrates the relationship between the Length, Recency, Frequency, and Monetary metrics with RFM customer segments (Bronze, Silver, Gold, Platinum).\n",
    "- Red indicates higher values, while blue represents lower values."
   ]
  },
  {
   "cell_type": "markdown",
   "metadata": {
    "id": "OsgyfbplFifG"
   },
   "source": [
    "\n",
    "### Interpretations\n",
    "- Recency: There is no significant difference between segments, but slightly lower values indicate more active customers.\n",
    "- Frequency: Nearly uniform across all segments (~1), indicating that customers have relatively infrequent transactions.\n",
    "- Monetary: The Platinum segment has the highest monetary value (633.44), whereas the Bronze segment has the lowest (72.25)."
   ]
  },
  {
   "cell_type": "markdown",
   "metadata": {
    "id": "PdFlct5BFkTX"
   },
   "source": [
    "### Insight\n",
    "\n",
    "- Platinum customers show the highest Monetary value, indicating that they make significantly larger transactions compared to other segments. They also tend to have slightly higher Frequency, suggesting they purchase more often. However, their Recency varies, meaning some are still active while others may have not purchased recently.\n",
    "\n",
    "- Gold and Silver customers fall in the mid-range, with lower Monetary values than Platinum but still considerable. These segments are relatively active in terms of transaction frequency, making them valuable for targeted promotions and potential upselling opportunities.\n",
    "\n",
    "- Bronze customers have the lowest Frequency and Monetary values, indicating that they may be passive or inactive. Their low spending and purchase activity suggest they require re-engagement efforts or may no longer be responsive to marketing outreach."
   ]
  },
  {
   "cell_type": "markdown",
   "metadata": {
    "id": "uzei8ogrN0G0"
   },
   "source": [
    "## Combining Individual Scores Approach\n",
    "\n",
    "In this phase we are combining r_score, f_score, and m_score to rfm_score_combined.\n",
    "\n",
    "In the Combining Individual Scores Approach, each RFM score (Recency, Frequency, Monetary) is converted into a more intuitive categorical label. For example, r_score is classified as \"Most Recent\" or \"Less Recent,\" f_score as \"Rare Buyer\" or \"High Repurchaser,\" and m_score as \"Low Spender\" or \"Top Spender.\" The combination of these three labels forms more specific customer segments, such as \"Most Recent, High Repurchaser, Medium Spender.\" This approach provides a deeper understanding of customer behavior compared to simply looking at the total RFM score."
   ]
  },
  {
   "cell_type": "code",
   "execution_count": 33,
   "metadata": {
    "colab": {
     "base_uri": "https://localhost:8080/",
     "height": 553
    },
    "executionInfo": {
     "elapsed": 42,
     "status": "ok",
     "timestamp": 1743825648751,
     "user": {
      "displayName": "Hans Darmawan",
      "userId": "08967357686016774806"
     },
     "user_tz": -420
    },
    "id": "0FNst4evhqPa",
    "outputId": "d7e8cd23-1fa1-411c-c65a-7031c613ae56"
   },
   "outputs": [
    {
     "data": {
      "text/html": [
       "<div>\n",
       "<style scoped>\n",
       "    .dataframe tbody tr th:only-of-type {\n",
       "        vertical-align: middle;\n",
       "    }\n",
       "\n",
       "    .dataframe tbody tr th {\n",
       "        vertical-align: top;\n",
       "    }\n",
       "\n",
       "    .dataframe thead th {\n",
       "        text-align: right;\n",
       "    }\n",
       "</style>\n",
       "<table border=\"1\" class=\"dataframe\">\n",
       "  <thead>\n",
       "    <tr style=\"text-align: right;\">\n",
       "      <th></th>\n",
       "      <th>recency</th>\n",
       "      <th>frequency</th>\n",
       "      <th>monetary</th>\n",
       "      <th>r_score</th>\n",
       "      <th>f_score</th>\n",
       "      <th>m_score</th>\n",
       "      <th>rfm_score</th>\n",
       "      <th>rfm_score_label</th>\n",
       "      <th>rfm_combination</th>\n",
       "      <th>r_score_label</th>\n",
       "      <th>f_score_label</th>\n",
       "      <th>m_score_label</th>\n",
       "      <th>rfm_label</th>\n",
       "    </tr>\n",
       "    <tr>\n",
       "      <th>customer_id</th>\n",
       "      <th></th>\n",
       "      <th></th>\n",
       "      <th></th>\n",
       "      <th></th>\n",
       "      <th></th>\n",
       "      <th></th>\n",
       "      <th></th>\n",
       "      <th></th>\n",
       "      <th></th>\n",
       "      <th></th>\n",
       "      <th></th>\n",
       "      <th></th>\n",
       "      <th></th>\n",
       "    </tr>\n",
       "  </thead>\n",
       "  <tbody>\n",
       "    <tr>\n",
       "      <th>1</th>\n",
       "      <td>1</td>\n",
       "      <td>80</td>\n",
       "      <td>25374.35</td>\n",
       "      <td>1</td>\n",
       "      <td>4</td>\n",
       "      <td>2</td>\n",
       "      <td>7</td>\n",
       "      <td>Silver</td>\n",
       "      <td>142</td>\n",
       "      <td>Most Recent</td>\n",
       "      <td>High Repurchaser</td>\n",
       "      <td>Medium Spender</td>\n",
       "      <td>Most Recent, High Repurchaser, Medium Spender</td>\n",
       "    </tr>\n",
       "    <tr>\n",
       "      <th>2</th>\n",
       "      <td>3</td>\n",
       "      <td>82</td>\n",
       "      <td>25744.78</td>\n",
       "      <td>2</td>\n",
       "      <td>4</td>\n",
       "      <td>4</td>\n",
       "      <td>10</td>\n",
       "      <td>Platinum</td>\n",
       "      <td>244</td>\n",
       "      <td>Less Recent</td>\n",
       "      <td>High Repurchaser</td>\n",
       "      <td>Top Spender</td>\n",
       "      <td>Less Recent, High Repurchaser, Top Spender</td>\n",
       "    </tr>\n",
       "    <tr>\n",
       "      <th>3</th>\n",
       "      <td>3</td>\n",
       "      <td>92</td>\n",
       "      <td>24701.71</td>\n",
       "      <td>2</td>\n",
       "      <td>4</td>\n",
       "      <td>1</td>\n",
       "      <td>7</td>\n",
       "      <td>Silver</td>\n",
       "      <td>241</td>\n",
       "      <td>Less Recent</td>\n",
       "      <td>High Repurchaser</td>\n",
       "      <td>Low Spender</td>\n",
       "      <td>Less Recent, High Repurchaser, Low Spender</td>\n",
       "    </tr>\n",
       "    <tr>\n",
       "      <th>4</th>\n",
       "      <td>3</td>\n",
       "      <td>87</td>\n",
       "      <td>25708.96</td>\n",
       "      <td>2</td>\n",
       "      <td>4</td>\n",
       "      <td>4</td>\n",
       "      <td>10</td>\n",
       "      <td>Platinum</td>\n",
       "      <td>244</td>\n",
       "      <td>Less Recent</td>\n",
       "      <td>High Repurchaser</td>\n",
       "      <td>Top Spender</td>\n",
       "      <td>Less Recent, High Repurchaser, Top Spender</td>\n",
       "    </tr>\n",
       "    <tr>\n",
       "      <th>5</th>\n",
       "      <td>1</td>\n",
       "      <td>77</td>\n",
       "      <td>25386.10</td>\n",
       "      <td>1</td>\n",
       "      <td>4</td>\n",
       "      <td>3</td>\n",
       "      <td>8</td>\n",
       "      <td>Gold</td>\n",
       "      <td>143</td>\n",
       "      <td>Most Recent</td>\n",
       "      <td>High Repurchaser</td>\n",
       "      <td>High Spender</td>\n",
       "      <td>Most Recent, High Repurchaser, High Spender</td>\n",
       "    </tr>\n",
       "  </tbody>\n",
       "</table>\n",
       "</div>"
      ],
      "text/plain": [
       "             recency  frequency  monetary  r_score  f_score  m_score  \\\n",
       "customer_id                                                            \n",
       "1                  1         80  25374.35        1        4        2   \n",
       "2                  3         82  25744.78        2        4        4   \n",
       "3                  3         92  24701.71        2        4        1   \n",
       "4                  3         87  25708.96        2        4        4   \n",
       "5                  1         77  25386.10        1        4        3   \n",
       "\n",
       "             rfm_score rfm_score_label rfm_combination r_score_label  \\\n",
       "customer_id                                                            \n",
       "1                    7          Silver             142   Most Recent   \n",
       "2                   10        Platinum             244   Less Recent   \n",
       "3                    7          Silver             241   Less Recent   \n",
       "4                   10        Platinum             244   Less Recent   \n",
       "5                    8            Gold             143   Most Recent   \n",
       "\n",
       "                f_score_label   m_score_label  \\\n",
       "customer_id                                     \n",
       "1            High Repurchaser  Medium Spender   \n",
       "2            High Repurchaser     Top Spender   \n",
       "3            High Repurchaser     Low Spender   \n",
       "4            High Repurchaser     Top Spender   \n",
       "5            High Repurchaser    High Spender   \n",
       "\n",
       "                                                 rfm_label  \n",
       "customer_id                                                 \n",
       "1            Most Recent, High Repurchaser, Medium Spender  \n",
       "2               Less Recent, High Repurchaser, Top Spender  \n",
       "3               Less Recent, High Repurchaser, Low Spender  \n",
       "4               Less Recent, High Repurchaser, Top Spender  \n",
       "5              Most Recent, High Repurchaser, High Spender  "
      ]
     },
     "execution_count": 33,
     "metadata": {},
     "output_type": "execute_result"
    }
   ],
   "source": [
    "df_customer[\"rfm_combination\"] = df_customer[\"r_score\"].astype(\"str\") + df_customer[\"f_score\"].astype(\"str\") + df_customer[\"m_score\"].astype(\"str\")\n",
    "\n",
    "r_score_labels = {\n",
    "    1: \"Most Recent\",\n",
    "    2: \"Less Recent\",\n",
    "    3: \"Very Long / Longest Time\",\n",
    "}\n",
    "\n",
    "f_score_labels = {\n",
    "    1: \"Rare Buyer\",\n",
    "    2: \"Occasional Buyer\",\n",
    "    3: \"Frequent Buyer\",\n",
    "    4: \"High Repurchaser\"\n",
    "}\n",
    "\n",
    "m_score_labels = {\n",
    "    1: \"Low Spender\",\n",
    "    2: \"Medium Spender\",\n",
    "    3: \"High Spender\",\n",
    "    4: \"Top Spender\"\n",
    "}\n",
    "\n",
    "df_customer[\"r_score_label\"] = df_customer[\"r_score\"].map(r_score_labels)\n",
    "df_customer[\"f_score_label\"] = df_customer[\"f_score\"].map(f_score_labels)\n",
    "df_customer[\"m_score_label\"] = df_customer[\"m_score\"].map(m_score_labels)\n",
    "\n",
    "df_customer[\"rfm_label\"] = df_customer[\"r_score_label\"] + \", \" + df_customer[\"f_score_label\"] + \", \" + df_customer[\"m_score_label\"]\n",
    "\n",
    "df_customer.head()"
   ]
  },
  {
   "cell_type": "code",
   "execution_count": 40,
   "metadata": {
    "colab": {
     "base_uri": "https://localhost:8080/",
     "height": 334
    },
    "executionInfo": {
     "elapsed": 299,
     "status": "ok",
     "timestamp": 1743824196108,
     "user": {
      "displayName": "Hans Darmawan",
      "userId": "08967357686016774806"
     },
     "user_tz": -420
    },
    "id": "Bz6Y3uNWl6Pk",
    "outputId": "6d6d6eda-9745-4b82-9d20-e3654c9879d9"
   },
   "outputs": [
    {
     "data": {
      "image/png": "[encoded data removed]",
      "text/plain": [
       "<Figure size 640x480 with 2 Axes>"
      ]
     },
     "metadata": {},
     "output_type": "display_data"
    }
   ],
   "source": [
    "# Create the pivot table\n",
    "lrfm_heatmap = df_customer.pivot_table(index='rfm_label', values=['recency', 'frequency', 'monetary'], aggfunc='median')\n",
    "\n",
    "# Reorder the columns from f-m-r to r-f-m\n",
    "lrfm_heatmap = lrfm_heatmap[['recency', 'frequency', 'monetary']]\n",
    "\n",
    "# Plot the heatmap with reordered columns\n",
    "sns.heatmap(lrfm_heatmap, cmap='YlGnBu', annot=True, fmt=\".2f\")\n",
    "plt.title('RFM Analysis Heatmap')\n",
    "plt.show()\n"
   ]
  },
  {
   "cell_type": "markdown",
   "metadata": {
    "id": "jVgU1a9VHIiI"
   },
   "source": []
  },
  {
   "cell_type": "code",
   "execution_count": 35,
   "metadata": {
    "colab": {
     "base_uri": "https://localhost:8080/",
     "height": 542
    },
    "executionInfo": {
     "elapsed": 22,
     "status": "ok",
     "timestamp": 1743824196132,
     "user": {
      "displayName": "Hans Darmawan",
      "userId": "08967357686016774806"
     },
     "user_tz": -420
    },
    "id": "xsl08ulemFYD",
    "outputId": "0aa36f46-a13f-4983-f78d-c0edb7ce00b9"
   },
   "outputs": [
    {
     "data": {
      "application/vnd.plotly.v1+json": {
       "config": {
        "plotlyServerURL": "https://plot.ly"
       },
       "data": [
        {
         "hovertemplate": "rfm_label=Most Recent, High Repurchaser, Medium Spender<br>recency=%{x}<br>frequency=%{y}<br>monetary=%{z}<extra></extra>",
         "legendgroup": "Most Recent, High Repurchaser, Medium Spender",
         "marker": {
          "color": "#FF97FF",
          "size": 3,
          "symbol": "circle"
         },
         "mode": "markers",
         "name": "Most Recent, High Repurchaser, Medium Spender",
         "scene": "scene",
         "showlegend": true,
         "type": "scatter3d",
         "x": [
          1,
          1
         ],
         "y": [
          80,
          81
         ],
         "z": [
          25374.35,
          25358.19
         ]
        },
        {
         "hovertemplate": "rfm_label=Less Recent, High Repurchaser, Top Spender<br>recency=%{x}<br>frequency=%{y}<br>monetary=%{z}<extra></extra>",
         "legendgroup": "Less Recent, High Repurchaser, Top Spender",
         "marker": {
          "color": "#FECB52",
          "size": 3,
          "symbol": "circle"
         },
         "mode": "markers",
         "name": "Less Recent, High Repurchaser, Top Spender",
         "scene": "scene",
         "showlegend": true,
         "type": "scatter3d",
         "x": [
          3,
          3
         ],
         "y": [
          82,
          87
         ],
         "z": [
          25744.78,
          25708.96
         ]
        },
        {
         "hovertemplate": "rfm_label=Less Recent, High Repurchaser, Low Spender<br>recency=%{x}<br>frequency=%{y}<br>monetary=%{z}<extra></extra>",
         "legendgroup": "Less Recent, High Repurchaser, Low Spender",
         "marker": {
          "color": "#636efa",
          "size": 3,
          "symbol": "circle"
         },
         "mode": "markers",
         "name": "Less Recent, High Repurchaser, Low Spender",
         "scene": "scene",
         "showlegend": true,
         "type": "scatter3d",
         "x": [
          3,
          3
         ],
         "y": [
          92,
          77
         ],
         "z": [
          24701.71,
          24836.06
         ]
        },
        {
         "hovertemplate": "rfm_label=Most Recent, High Repurchaser, High Spender<br>recency=%{x}<br>frequency=%{y}<br>monetary=%{z}<extra></extra>",
         "legendgroup": "Most Recent, High Repurchaser, High Spender",
         "marker": {
          "color": "#EF553B",
          "size": 3,
          "symbol": "circle"
         },
         "mode": "markers",
         "name": "Most Recent, High Repurchaser, High Spender",
         "scene": "scene",
         "showlegend": true,
         "type": "scatter3d",
         "x": [
          1,
          1
         ],
         "y": [
          77,
          80
         ],
         "z": [
          25386.1,
          25575.48
         ]
        },
        {
         "hovertemplate": "rfm_label=Very Long / Longest Time, High Repurchaser, High Spender<br>recency=%{x}<br>frequency=%{y}<br>monetary=%{z}<extra></extra>",
         "legendgroup": "Very Long / Longest Time, High Repurchaser, High Spender",
         "marker": {
          "color": "#00cc96",
          "size": 3,
          "symbol": "circle"
         },
         "mode": "markers",
         "name": "Very Long / Longest Time, High Repurchaser, High Spender",
         "scene": "scene",
         "showlegend": true,
         "type": "scatter3d",
         "x": [
          4
         ],
         "y": [
          85
         ],
         "z": [
          25571.84
         ]
        },
        {
         "hovertemplate": "rfm_label=Most Recent, High Repurchaser, Low Spender<br>recency=%{x}<br>frequency=%{y}<br>monetary=%{z}<extra></extra>",
         "legendgroup": "Most Recent, High Repurchaser, Low Spender",
         "marker": {
          "color": "#ab63fa",
          "size": 3,
          "symbol": "circle"
         },
         "mode": "markers",
         "name": "Most Recent, High Repurchaser, Low Spender",
         "scene": "scene",
         "showlegend": true,
         "type": "scatter3d",
         "x": [
          1
         ],
         "y": [
          73
         ],
         "z": [
          21169.37
         ]
        },
        {
         "hovertemplate": "rfm_label=Less Recent, High Repurchaser, Medium Spender<br>recency=%{x}<br>frequency=%{y}<br>monetary=%{z}<extra></extra>",
         "legendgroup": "Less Recent, High Repurchaser, Medium Spender",
         "marker": {
          "color": "#FFA15A",
          "size": 3,
          "symbol": "circle"
         },
         "mode": "markers",
         "name": "Less Recent, High Repurchaser, Medium Spender",
         "scene": "scene",
         "showlegend": true,
         "type": "scatter3d",
         "x": [
          2
         ],
         "y": [
          90
         ],
         "z": [
          25157.26
         ]
        },
        {
         "hovertemplate": "rfm_label=Most Recent, High Repurchaser, Top Spender<br>recency=%{x}<br>frequency=%{y}<br>monetary=%{z}<extra></extra>",
         "legendgroup": "Most Recent, High Repurchaser, Top Spender",
         "marker": {
          "color": "#19d3f3",
          "size": 3,
          "symbol": "circle"
         },
         "mode": "markers",
         "name": "Most Recent, High Repurchaser, Top Spender",
         "scene": "scene",
         "showlegend": true,
         "type": "scatter3d",
         "x": [
          1
         ],
         "y": [
          96
         ],
         "z": [
          33003.28
         ]
        }
       ],
       "layout": {
        "legend": {
         "itemsizing": "constant",
         "itemwidth": 30,
         "title": {
          "text": "rfm_label"
         },
         "tracegroupgap": 0,
         "x": 0.7,
         "xanchor": "left",
         "y": 0.97,
         "yanchor": "top"
        },
        "margin": {
         "b": 0,
         "l": 0,
         "r": 0,
         "t": 0
        },
        "scene": {
         "domain": {
          "x": [
           0,
           1
          ],
          "y": [
           0,
           1
          ]
         },
         "xaxis": {
          "title": {
           "text": "recency"
          }
         },
         "yaxis": {
          "title": {
           "text": "frequency"
          }
         },
         "zaxis": {
          "title": {
           "text": "monetary"
          }
         }
        },
        "template": {
         "data": {
          "bar": [
           {
            "error_x": {
             "color": "#2a3f5f"
            },
            "error_y": {
             "color": "#2a3f5f"
            },
            "marker": {
             "line": {
              "color": "#E5ECF6",
              "width": 0.5
             },
             "pattern": {
              "fillmode": "overlay",
              "size": 10,
              "solidity": 0.2
             }
            },
            "type": "bar"
           }
          ],
          "barpolar": [
           {
            "marker": {
             "line": {
              "color": "#E5ECF6",
              "width": 0.5
             },
             "pattern": {
              "fillmode": "overlay",
              "size": 10,
              "solidity": 0.2
             }
            },
            "type": "barpolar"
           }
          ],
          "carpet": [
           {
            "aaxis": {
             "endlinecolor": "#2a3f5f",
             "gridcolor": "white",
             "linecolor": "white",
             "minorgridcolor": "white",
             "startlinecolor": "#2a3f5f"
            },
            "baxis": {
             "endlinecolor": "#2a3f5f",
             "gridcolor": "white",
             "linecolor": "white",
             "minorgridcolor": "white",
             "startlinecolor": "#2a3f5f"
            },
            "type": "carpet"
           }
          ],
          "choropleth": [
           {
            "colorbar": {
             "outlinewidth": 0,
             "ticks": ""
            },
            "type": "choropleth"
           }
          ],
          "contour": [
           {
            "colorbar": {
             "outlinewidth": 0,
             "ticks": ""
            },
            "colorscale": [
             [
              0,
              "#0d0887"
             ],
             [
              0.1111111111111111,
              "#46039f"
             ],
             [
              0.2222222222222222,
              "#7201a8"
             ],
             [
              0.3333333333333333,
              "#9c179e"
             ],
             [
              0.4444444444444444,
              "#bd3786"
             ],
             [
              0.5555555555555556,
              "#d8576b"
             ],
             [
              0.6666666666666666,
              "#ed7953"
             ],
             [
              0.7777777777777778,
              "#fb9f3a"
             ],
             [
              0.8888888888888888,
              "#fdca26"
             ],
             [
              1,
              "#f0f921"
             ]
            ],
            "type": "contour"
           }
          ],
          "contourcarpet": [
           {
            "colorbar": {
             "outlinewidth": 0,
             "ticks": ""
            },
            "type": "contourcarpet"
           }
          ],
          "heatmap": [
           {
            "colorbar": {
             "outlinewidth": 0,
             "ticks": ""
            },
            "colorscale": [
             [
              0,
              "#0d0887"
             ],
             [
              0.1111111111111111,
              "#46039f"
             ],
             [
              0.2222222222222222,
              "#7201a8"
             ],
             [
              0.3333333333333333,
              "#9c179e"
             ],
             [
              0.4444444444444444,
              "#bd3786"
             ],
             [
              0.5555555555555556,
              "#d8576b"
             ],
             [
              0.6666666666666666,
              "#ed7953"
             ],
             [
              0.7777777777777778,
              "#fb9f3a"
             ],
             [
              0.8888888888888888,
              "#fdca26"
             ],
             [
              1,
              "#f0f921"
             ]
            ],
            "type": "heatmap"
           }
          ],
          "heatmapgl": [
           {
            "colorbar": {
             "outlinewidth": 0,
             "ticks": ""
            },
            "colorscale": [
             [
              0,
              "#0d0887"
             ],
             [
              0.1111111111111111,
              "#46039f"
             ],
             [
              0.2222222222222222,
              "#7201a8"
             ],
             [
              0.3333333333333333,
              "#9c179e"
             ],
             [
              0.4444444444444444,
              "#bd3786"
             ],
             [
              0.5555555555555556,
              "#d8576b"
             ],
             [
              0.6666666666666666,
              "#ed7953"
             ],
             [
              0.7777777777777778,
              "#fb9f3a"
             ],
             [
              0.8888888888888888,
              "#fdca26"
             ],
             [
              1,
              "#f0f921"
             ]
            ],
            "type": "heatmapgl"
           }
          ],
          "histogram": [
           {
            "marker": {
             "pattern": {
              "fillmode": "overlay",
              "size": 10,
              "solidity": 0.2
             }
            },
            "type": "histogram"
           }
          ],
          "histogram2d": [
           {
            "colorbar": {
             "outlinewidth": 0,
             "ticks": ""
            },
            "colorscale": [
             [
              0,
              "#0d0887"
             ],
             [
              0.1111111111111111,
              "#46039f"
             ],
             [
              0.2222222222222222,
              "#7201a8"
             ],
             [
              0.3333333333333333,
              "#9c179e"
             ],
             [
              0.4444444444444444,
              "#bd3786"
             ],
             [
              0.5555555555555556,
              "#d8576b"
             ],
             [
              0.6666666666666666,
              "#ed7953"
             ],
             [
              0.7777777777777778,
              "#fb9f3a"
             ],
             [
              0.8888888888888888,
              "#fdca26"
             ],
             [
              1,
              "#f0f921"
             ]
            ],
            "type": "histogram2d"
           }
          ],
          "histogram2dcontour": [
           {
            "colorbar": {
             "outlinewidth": 0,
             "ticks": ""
            },
            "colorscale": [
             [
              0,
              "#0d0887"
             ],
             [
              0.1111111111111111,
              "#46039f"
             ],
             [
              0.2222222222222222,
              "#7201a8"
             ],
             [
              0.3333333333333333,
              "#9c179e"
             ],
             [
              0.4444444444444444,
              "#bd3786"
             ],
             [
              0.5555555555555556,
              "#d8576b"
             ],
             [
              0.6666666666666666,
              "#ed7953"
             ],
             [
              0.7777777777777778,
              "#fb9f3a"
             ],
             [
              0.8888888888888888,
              "#fdca26"
             ],
             [
              1,
              "#f0f921"
             ]
            ],
            "type": "histogram2dcontour"
           }
          ],
          "mesh3d": [
           {
            "colorbar": {
             "outlinewidth": 0,
             "ticks": ""
            },
            "type": "mesh3d"
           }
          ],
          "parcoords": [
           {
            "line": {
             "colorbar": {
              "outlinewidth": 0,
              "ticks": ""
             }
            },
            "type": "parcoords"
           }
          ],
          "pie": [
           {
            "automargin": true,
            "type": "pie"
           }
          ],
          "scatter": [
           {
            "fillpattern": {
             "fillmode": "overlay",
             "size": 10,
             "solidity": 0.2
            },
            "type": "scatter"
           }
          ],
          "scatter3d": [
           {
            "line": {
             "colorbar": {
              "outlinewidth": 0,
              "ticks": ""
             }
            },
            "marker": {
             "colorbar": {
              "outlinewidth": 0,
              "ticks": ""
             }
            },
            "type": "scatter3d"
           }
          ],
          "scattercarpet": [
           {
            "marker": {
             "colorbar": {
              "outlinewidth": 0,
              "ticks": ""
             }
            },
            "type": "scattercarpet"
           }
          ],
          "scattergeo": [
           {
            "marker": {
             "colorbar": {
              "outlinewidth": 0,
              "ticks": ""
             }
            },
            "type": "scattergeo"
           }
          ],
          "scattergl": [
           {
            "marker": {
             "colorbar": {
              "outlinewidth": 0,
              "ticks": ""
             }
            },
            "type": "scattergl"
           }
          ],
          "scattermapbox": [
           {
            "marker": {
             "colorbar": {
              "outlinewidth": 0,
              "ticks": ""
             }
            },
            "type": "scattermapbox"
           }
          ],
          "scatterpolar": [
           {
            "marker": {
             "colorbar": {
              "outlinewidth": 0,
              "ticks": ""
             }
            },
            "type": "scatterpolar"
           }
          ],
          "scatterpolargl": [
           {
            "marker": {
             "colorbar": {
              "outlinewidth": 0,
              "ticks": ""
             }
            },
            "type": "scatterpolargl"
           }
          ],
          "scatterternary": [
           {
            "marker": {
             "colorbar": {
              "outlinewidth": 0,
              "ticks": ""
             }
            },
            "type": "scatterternary"
           }
          ],
          "surface": [
           {
            "colorbar": {
             "outlinewidth": 0,
             "ticks": ""
            },
            "colorscale": [
             [
              0,
              "#0d0887"
             ],
             [
              0.1111111111111111,
              "#46039f"
             ],
             [
              0.2222222222222222,
              "#7201a8"
             ],
             [
              0.3333333333333333,
              "#9c179e"
             ],
             [
              0.4444444444444444,
              "#bd3786"
             ],
             [
              0.5555555555555556,
              "#d8576b"
             ],
             [
              0.6666666666666666,
              "#ed7953"
             ],
             [
              0.7777777777777778,
              "#fb9f3a"
             ],
             [
              0.8888888888888888,
              "#fdca26"
             ],
             [
              1,
              "#f0f921"
             ]
            ],
            "type": "surface"
           }
          ],
          "table": [
           {
            "cells": {
             "fill": {
              "color": "#EBF0F8"
             },
             "line": {
              "color": "white"
             }
            },
            "header": {
             "fill": {
              "color": "#C8D4E3"
             },
             "line": {
              "color": "white"
             }
            },
            "type": "table"
           }
          ]
         },
         "layout": {
          "annotationdefaults": {
           "arrowcolor": "#2a3f5f",
           "arrowhead": 0,
           "arrowwidth": 1
          },
          "autotypenumbers": "strict",
          "coloraxis": {
           "colorbar": {
            "outlinewidth": 0,
            "ticks": ""
           }
          },
          "colorscale": {
           "diverging": [
            [
             0,
             "#8e0152"
            ],
            [
             0.1,
             "#c51b7d"
            ],
            [
             0.2,
             "#de77ae"
            ],
            [
             0.3,
             "#f1b6da"
            ],
            [
             0.4,
             "#fde0ef"
            ],
            [
             0.5,
             "#f7f7f7"
            ],
            [
             0.6,
             "#e6f5d0"
            ],
            [
             0.7,
             "#b8e186"
            ],
            [
             0.8,
             "#7fbc41"
            ],
            [
             0.9,
             "#4d9221"
            ],
            [
             1,
             "#276419"
            ]
           ],
           "sequential": [
            [
             0,
             "#0d0887"
            ],
            [
             0.1111111111111111,
             "#46039f"
            ],
            [
             0.2222222222222222,
             "#7201a8"
            ],
            [
             0.3333333333333333,
             "#9c179e"
            ],
            [
             0.4444444444444444,
             "#bd3786"
            ],
            [
             0.5555555555555556,
             "#d8576b"
            ],
            [
             0.6666666666666666,
             "#ed7953"
            ],
            [
             0.7777777777777778,
             "#fb9f3a"
            ],
            [
             0.8888888888888888,
             "#fdca26"
            ],
            [
             1,
             "#f0f921"
            ]
           ],
           "sequentialminus": [
            [
             0,
             "#0d0887"
            ],
            [
             0.1111111111111111,
             "#46039f"
            ],
            [
             0.2222222222222222,
             "#7201a8"
            ],
            [
             0.3333333333333333,
             "#9c179e"
            ],
            [
             0.4444444444444444,
             "#bd3786"
            ],
            [
             0.5555555555555556,
             "#d8576b"
            ],
            [
             0.6666666666666666,
             "#ed7953"
            ],
            [
             0.7777777777777778,
             "#fb9f3a"
            ],
            [
             0.8888888888888888,
             "#fdca26"
            ],
            [
             1,
             "#f0f921"
            ]
           ]
          },
          "colorway": [
           "#636efa",
           "#EF553B",
           "#00cc96",
           "#ab63fa",
           "#FFA15A",
           "#19d3f3",
           "#FF6692",
           "#B6E880",
           "#FF97FF",
           "#FECB52"
          ],
          "font": {
           "color": "#2a3f5f"
          },
          "geo": {
           "bgcolor": "white",
           "lakecolor": "white",
           "landcolor": "#E5ECF6",
           "showlakes": true,
           "showland": true,
           "subunitcolor": "white"
          },
          "hoverlabel": {
           "align": "left"
          },
          "hovermode": "closest",
          "mapbox": {
           "style": "light"
          },
          "paper_bgcolor": "white",
          "plot_bgcolor": "#E5ECF6",
          "polar": {
           "angularaxis": {
            "gridcolor": "white",
            "linecolor": "white",
            "ticks": ""
           },
           "bgcolor": "#E5ECF6",
           "radialaxis": {
            "gridcolor": "white",
            "linecolor": "white",
            "ticks": ""
           }
          },
          "scene": {
           "xaxis": {
            "backgroundcolor": "#E5ECF6",
            "gridcolor": "white",
            "gridwidth": 2,
            "linecolor": "white",
            "showbackground": true,
            "ticks": "",
            "zerolinecolor": "white"
           },
           "yaxis": {
            "backgroundcolor": "#E5ECF6",
            "gridcolor": "white",
            "gridwidth": 2,
            "linecolor": "white",
            "showbackground": true,
            "ticks": "",
            "zerolinecolor": "white"
           },
           "zaxis": {
            "backgroundcolor": "#E5ECF6",
            "gridcolor": "white",
            "gridwidth": 2,
            "linecolor": "white",
            "showbackground": true,
            "ticks": "",
            "zerolinecolor": "white"
           }
          },
          "shapedefaults": {
           "line": {
            "color": "#2a3f5f"
           }
          },
          "ternary": {
           "aaxis": {
            "gridcolor": "white",
            "linecolor": "white",
            "ticks": ""
           },
           "baxis": {
            "gridcolor": "white",
            "linecolor": "white",
            "ticks": ""
           },
           "bgcolor": "#E5ECF6",
           "caxis": {
            "gridcolor": "white",
            "linecolor": "white",
            "ticks": ""
           }
          },
          "title": {
           "x": 0.05
          },
          "xaxis": {
           "automargin": true,
           "gridcolor": "white",
           "linecolor": "white",
           "ticks": "",
           "title": {
            "standoff": 15
           },
           "zerolinecolor": "white",
           "zerolinewidth": 2
          },
          "yaxis": {
           "automargin": true,
           "gridcolor": "white",
           "linecolor": "white",
           "ticks": "",
           "title": {
            "standoff": 15
           },
           "zerolinecolor": "white",
           "zerolinewidth": 2
          }
         }
        },
        "title": {
         "text": "RFM segmentation",
         "x": 0.45,
         "xanchor": "center",
         "y": 0.97,
         "yanchor": "top"
        },
        "xaxis": {
         "tickformat": ".0f"
        }
       }
      }
     },
     "metadata": {},
     "output_type": "display_data"
    }
   ],
   "source": [
    "import plotly.express as px\n",
    "\n",
    "color_map = {\n",
    "    'Loyal Cust' : 'gray',\n",
    "    'Potensial Loyal Cust' : 'purple',\n",
    "    'New Cust High Value' : 'pink',\n",
    "    'New Cust Low Value' : 'blue',\n",
    "    'Need Attention' : 'green',\n",
    "    'At Risk' : 'yellow',\n",
    "    'Reactivated Old Cust' : 'orange',\n",
    "    'Old Cust Inactive' : 'red',\n",
    "}\n",
    "\n",
    "fig = px.scatter_3d(\n",
    "    df_customer,\n",
    "    x='recency',\n",
    "    y='frequency',\n",
    "    z='monetary',\n",
    "    color='rfm_label',\n",
    "    color_discrete_map=color_map,\n",
    ")\n",
    "\n",
    "fig.update_traces(marker_size = 3)\n",
    "\n",
    "# tight layout\n",
    "fig.update_layout(margin=dict(l=0, r=0, b=0, t=0),\n",
    "                  title={\n",
    "                    'text': \"RFM segmentation\",\n",
    "                    'y':0.97,\n",
    "                    'x':0.45,\n",
    "                    'xanchor': 'center',\n",
    "                    'yanchor': 'top'},\n",
    "                    legend=dict(\n",
    "                      yanchor=\"top\",\n",
    "                      y=0.97,\n",
    "                      xanchor=\"left\",\n",
    "                      x=0.70,\n",
    "                      itemsizing='constant',\n",
    "                      itemwidth = 30))\n",
    "\n",
    "fig.update_xaxes(tickformat=\".0f\")"
   ]
  },
  {
   "cell_type": "markdown",
   "metadata": {
    "id": "whXWqV4WHJt1"
   },
   "source": [
    "### Insight\n",
    "\n",
    "- Customers labeled as \"Most Recent, High Repurchaser, Highest Spender\" have the highest Monetary value (~33,003.28). This indicates that they are the most valuable customers, frequently making large purchases and engaging with the business actively. Maintaining engagement with this segment through personalized offers and loyalty programs can maximize their lifetime value.\n",
    "\n",
    "- \"Less Recent, High Repurchaser\" segments still exhibit relatively high Monetary values (~25,000+), but their Recency scores are lower. These customers are consistent buyers but have not made a recent purchase. A re-engagement strategy, such as targeted promotions or exclusive discounts, could encourage them to return and sustain their purchasing patterns.\n",
    "\n",
    "- Customers in the \"Very Long / Longest Time, High Repurchaser, Medium-High Spender\" category have moderate spending (~25,571.84) but low Recency. This suggests that while they were historically valuable, they might be disengaging. Identifying potential reasons for their inactivity and implementing win-back campaigns can help rekindle their purchasing behavior."
   ]
  },
  {
   "cell_type": "markdown",
   "metadata": {
    "id": "mi4QNwanHPY5"
   },
   "source": [
    "### Conclusion & Recommendation\n",
    "\n",
    "The RFM heatmap highlights key customer segments, where \"Most Recent, High Repurchaser, Highest Spender\" customers should be prioritized for retention efforts. Meanwhile, \"Less Recent\" and \"Very Long Time\" customers may require targeted marketing initiatives to encourage re-engagement. Implementing personalized promotions, loyalty rewards, and targeted email campaigns will help sustain engagement and improve overall customer lifetime value."
   ]
  },
  {
   "cell_type": "code",
   "execution_count": 36,
   "metadata": {
    "id": "wH2YCkvEF4oJ",
    "outputId": "1135f15e-389a-477c-de74-cfa2a7de1bfc"
   },
   "outputs": [
    {
     "data": {
      "text/plain": [
       "Index(['recency', 'frequency', 'monetary', 'r_score', 'f_score', 'm_score',\n",
       "       'rfm_score', 'rfm_score_label', 'rfm_combination', 'r_score_label',\n",
       "       'f_score_label', 'm_score_label', 'rfm_label'],\n",
       "      dtype='object')"
      ]
     },
     "execution_count": 36,
     "metadata": {},
     "output_type": "execute_result"
    }
   ],
   "source": [
    "df_customer.columns"
   ]
  },
  {
   "cell_type": "markdown",
   "metadata": {
    "id": "x_Hrl61UF4oJ"
   },
   "source": [
    "# Adding RFM Columns to Main Datasets."
   ]
  },
  {
   "cell_type": "code",
   "execution_count": 37,
   "metadata": {
    "id": "ampGSAmXF4oJ",
    "outputId": "67fe0b34-3878-402a-ee85-9b320dd0f8f8"
   },
   "outputs": [
    {
     "name": "stdout",
     "output_type": "stream",
     "text": [
      "<class 'pandas.core.frame.DataFrame'>\n",
      "RangeIndex: 1000 entries, 0 to 999\n",
      "Data columns (total 32 columns):\n",
      " #   Column            Non-Null Count  Dtype         \n",
      "---  ------            --------------  -----         \n",
      " 0   invoice_id        1000 non-null   object        \n",
      " 1   branch            1000 non-null   category      \n",
      " 2   city              1000 non-null   category      \n",
      " 3   customer_type     1000 non-null   category      \n",
      " 4   gender            1000 non-null   category      \n",
      " 5   product_line      1000 non-null   category      \n",
      " 6   unit_price        1000 non-null   float64       \n",
      " 7   quantity          1000 non-null   int64         \n",
      " 8   tax_5_pct         1000 non-null   float64       \n",
      " 9   total             1000 non-null   float64       \n",
      " 10  date              1000 non-null   datetime64[ns]\n",
      " 11  purchase_hour     1000 non-null   int64         \n",
      " 12  payment           1000 non-null   category      \n",
      " 13  cogs              1000 non-null   float64       \n",
      " 14  gross_income      1000 non-null   float64       \n",
      " 15  rating            1000 non-null   float64       \n",
      " 16  customer_profile  1000 non-null   object        \n",
      " 17  customer_id       1000 non-null   int64         \n",
      " 18  total_price       1000 non-null   float64       \n",
      " 19  recency           1000 non-null   category      \n",
      " 20  frequency         1000 non-null   category      \n",
      " 21  monetary          1000 non-null   category      \n",
      " 22  r_score           1000 non-null   category      \n",
      " 23  f_score           1000 non-null   category      \n",
      " 24  m_score           1000 non-null   category      \n",
      " 25  rfm_score         1000 non-null   category      \n",
      " 26  rfm_score_label   1000 non-null   category      \n",
      " 27  rfm_combination   1000 non-null   category      \n",
      " 28  r_score_label     1000 non-null   category      \n",
      " 29  f_score_label     1000 non-null   category      \n",
      " 30  m_score_label     1000 non-null   category      \n",
      " 31  rfm_label         1000 non-null   category      \n",
      "dtypes: category(19), datetime64[ns](1), float64(7), int64(3), object(2)\n",
      "memory usage: 124.0+ KB\n"
     ]
    }
   ],
   "source": [
    "df_customer = df_customer.reset_index()\n",
    "\n",
    "# Create dictionary mappings for each attribute\n",
    "mappings = {}\n",
    "for col in df_customer.columns:\n",
    "    if col != 'customer_id':  # Skip ID column itself\n",
    "        mappings[col] = dict(zip(df_customer['customer_id'], df_customer[col]))\n",
    "\n",
    "# Map attributes to transaction dataframe\n",
    "for attribute_name, value_mapping in mappings.items():\n",
    "    df[attribute_name] = df['customer_id'].map(value_mapping).astype('category')\n",
    "\n",
    "df.info()\n",
    "df.to_csv(\"Supermarket_Clean.csv\", index = False, sep = \";\")"
   ]
  },
  {
   "cell_type": "markdown",
   "metadata": {
    "id": "mG1HiPiBF4oJ"
   },
   "source": [
    "The dataset was expanded from 19 to 32 columns, while the row count remained unchanged at 1,000 entries. Multiple optimizations were applied, including the conversion of text-based columns into categories for these new 13 columns. New RFM (Recency, Frequency, Monetary) analysis columns were introduced, such as customerid, recency, frequency, and monetary, along with their corresponding scores (rscore, fscore, mscore) and segmentation labels (rfmlabel, rfmcombination, etc.). Despite the addition of 14 new columns, memory usage was reduced from 140.8+ KB to 124.0+ KB due to dtype optimizations. These enhancements enabled deeper customer behavior analysis while maintaining efficient resource utilization. Then, the cleaned dataset will be saved into \"Supermarket_Clean.csv\" for further analysis."
   ]
  },
  {
   "cell_type": "markdown",
   "metadata": {
    "id": "5MlFk0uVHX4r"
   },
   "source": [
    "# Conclusion\n",
    "\n",
    "From this Supermaket Analysis, we have to find out which one is suitable for us to use. After a while we decided to use RFM instead of LRFM. At first, we were going to use LRFM Analysis, but from what we found, we found out that there is no difference in L (Length) or in this case l_score. The only number that shows up is 1. So, instead of using LRFM we chose to use RFM instead, and drop the length and l_score columns.\n",
    "\n",
    "Customers are segmented based on predefined behaviors and assigned values for each dimension using quartile thresholds. For instance, Recency scores are assigned based on the most recent purchase skewing to favor recent purchases (lower scores are better), while Frequency, Monetary, and Length scores favor higher activity. Customers are further classified based on composite metrics like rfm_score which is the sum of all individual scores, thus tiering them into Platinum, Gold, and Silver as different customer segments. These segments exhibited clear differentiated distinct behaviors: Platinum customers (high scores across all dimensions) are 45% revenue contributors, comprising only 20% of the dataset and mostly purchasing Health & Beauty. Gold and Silver tiers indicated potential re-engagement with targeted promotions.\n",
    "\n",
    "Strategic recommendations prioritize deepening retention from high-value customers while reactivating customers in lower-tier segments. Loyalty rewards and personalized discounts are prioritized for Platinum customers, while Gold customers close to recency thresholds are targeted by win-back campaigns. Execution comes in a staged roadmap starting from pilot campaigns and culminating in real-time, on-the-shelf dynamic offer adjustments. The approach balances the allocation of marketing resources to customer value, driving business retention and profitability. Combining analysis with strategies to execute drives long-lasting customer relationships and increases revenue, which is what RFM analysis does for supermarkets.\n",
    "\n",
    "\n",
    "The segmentation effectively categorized customers into distinct groups, from high-value, engaged customers to low-value, dormant ones. The analysis revealed that high-frequency and recent customers tend to have higher monetary contributions, indicating strong purchasing behavior. However, certain segments, particularly those with low recency scores, showed signs of disengagement despite historically high spending patterns. The heatmap visualizations further confirmed that customer spending varies significantly across segments, highlighting the need for tailored engagement strategies."
   ]
  }
 ],
 "metadata": {
  "colab": {
   "provenance": []
  },
  "kernelspec": {
   "display_name": "myenv",
   "language": "python",
   "name": "python3"
  },
  "language_info": {
   "codemirror_mode": {
    "name": "ipython",
    "version": 3
   },
   "file_extension": ".py",
   "mimetype": "text/x-python",
   "name": "python",
   "nbconvert_exporter": "python",
   "pygments_lexer": "ipython3",
   "version": "3.12.7"
  }
 },
 "nbformat": 4,
 "nbformat_minor": 0
}
